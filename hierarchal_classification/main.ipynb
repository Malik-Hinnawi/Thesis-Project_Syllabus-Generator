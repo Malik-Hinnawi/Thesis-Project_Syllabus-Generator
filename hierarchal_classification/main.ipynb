{
 "cells": [
  {
   "cell_type": "markdown",
   "source": [
    "# Create dataset"
   ],
   "metadata": {
    "collapsed": false
   },
   "id": "decbf24dab12a42d"
  },
  {
   "cell_type": "code",
   "outputs": [],
   "source": [
    "import PyPDF2\n",
    "import pandas as pd"
   ],
   "metadata": {
    "collapsed": false,
    "ExecuteTime": {
     "end_time": "2024-03-02T13:48:43.999902Z",
     "start_time": "2024-03-02T13:48:42.971517Z"
    }
   },
   "id": "d7951a66b7bde8d",
   "execution_count": 1
  },
  {
   "cell_type": "code",
   "outputs": [],
   "source": [
    "def extract_document_outline(pdf_path):\n",
    "    # Open the PDF file\n",
    "    with open(pdf_path, 'rb') as file:\n",
    "        # Create a PdfFileReader object\n",
    "        pdf_reader = PyPDF2.PdfReader(file)\n",
    "        \n",
    "        # Get the number of pages in the PDF\n",
    "        num_pages = len(pdf_reader.pages)\n",
    "        \n",
    "        # Get the document outline\n",
    "        document_outline = pdf_reader.outline\n",
    "        \n",
    "        # Initialize lists to store levels, titles, page numbers, and parent titles\n",
    "        levels = []\n",
    "        titles = []\n",
    "        page_numbers = []\n",
    "        parent_titles = []\n",
    "        \n",
    "        # Define a recursive function to traverse the document outline\n",
    "        def traverse_outline(outline_items, level=0, parent_title=None):\n",
    "            for item in outline_items:\n",
    "                if isinstance(item, list):\n",
    "                    # Handle nested outlines\n",
    "                    traverse_outline(item, level + 1, parent_title)\n",
    "                elif isinstance(item, dict):\n",
    "                    # Extract title and page number\n",
    "                    title = item.get('/Title')\n",
    "                    page_number = item.get('/Page')\n",
    "                    \n",
    "                    if title and page_number:\n",
    "                        # Append to the lists\n",
    "                        levels.append(level)\n",
    "                        titles.append(title)\n",
    "                        page_numbers.append(pdf_reader.get_page_number(page_number) + 1)  # Adjust index\n",
    "                        parent_titles.append(parent_title)\n",
    "                    \n",
    "                    # Update parent title for child items\n",
    "                    parent_title = title\n",
    "                    \n",
    "        # Start traversing the document outline\n",
    "        traverse_outline(document_outline)\n",
    "        \n",
    "        # Create a DataFrame from the extracted data\n",
    "        df = pd.DataFrame({\n",
    "            'Level': levels,\n",
    "            'Title': titles,\n",
    "            'Page Number': page_numbers,\n",
    "            'Parent Title': parent_titles\n",
    "        })\n",
    "        \n",
    "        return df"
   ],
   "metadata": {
    "collapsed": false,
    "ExecuteTime": {
     "end_time": "2024-03-02T14:07:37.986983Z",
     "start_time": "2024-03-02T14:07:37.963430Z"
    }
   },
   "id": "47ab9284413be212",
   "execution_count": 29
  },
  {
   "cell_type": "code",
   "outputs": [],
   "source": [
    "def extract_text_from_page(pdf_path, page_numbers):\n",
    "    # Open the PDF file\n",
    "    with open(pdf_path, 'rb') as file:\n",
    "        # Create a PdfFileReader object\n",
    "        pdf_reader = PyPDF2.PdfReader(file)\n",
    "        \n",
    "        # Initialize list to store text\n",
    "        all_text = []\n",
    "        \n",
    "        # Extract text from specified page range\n",
    "        for page_num in page_numbers:\n",
    "            page = pdf_reader.pages[page_num - 1]  # Adjust index\n",
    "            text = page.extract_text()\n",
    "            all_text.append(text)\n",
    "        \n",
    "        return all_text"
   ],
   "metadata": {
    "collapsed": false,
    "ExecuteTime": {
     "end_time": "2024-03-02T14:26:42.108705Z",
     "start_time": "2024-03-02T14:26:42.098286Z"
    }
   },
   "id": "669ecfc5d611165c",
   "execution_count": 50
  },
  {
   "cell_type": "code",
   "outputs": [],
   "source": [
    "def add_description(df, pdf_path):\n",
    "    # Extract page numbers from the DataFrame\n",
    "    page_numbers = df['Page Number'].tolist()\n",
    "    \n",
    "    # Extract text from each page\n",
    "    all_text = extract_text_from_page(pdf_path, page_numbers)\n",
    "    \n",
    "    # Add description column to the DataFrame\n",
    "    df['Description'] = all_text\n",
    "    \n",
    "    return df"
   ],
   "metadata": {
    "collapsed": false,
    "ExecuteTime": {
     "end_time": "2024-03-02T14:26:43.800559Z",
     "start_time": "2024-03-02T14:26:43.794951Z"
    }
   },
   "id": "f0bbc24a4007d6b6",
   "execution_count": 51
  },
  {
   "cell_type": "code",
   "outputs": [],
   "source": [
    "os_book_path = './../dataset/pdf/OS_Main book.pdf'"
   ],
   "metadata": {
    "collapsed": false,
    "ExecuteTime": {
     "end_time": "2024-03-02T14:06:48.796672Z",
     "start_time": "2024-03-02T14:06:48.787778Z"
    }
   },
   "id": "f4f3e4e0882c6501",
   "execution_count": 27
  },
  {
   "cell_type": "code",
   "outputs": [],
   "source": [
    "document_outline_df = extract_document_outline(os_book_path)"
   ],
   "metadata": {
    "collapsed": false,
    "ExecuteTime": {
     "end_time": "2024-03-02T14:15:38.520985Z",
     "start_time": "2024-03-02T14:15:36.121553Z"
    }
   },
   "id": "e8725e0c907f5b1b",
   "execution_count": 45
  },
  {
   "cell_type": "code",
   "outputs": [
    {
     "data": {
      "text/plain": "     Level         Title  Page Number         Parent Title\n0        0         Cover            1                 None\n1        0    Title Page            5                Cover\n2        0     Copyright            6           Title Page\n3        0       Preface            9            Copyright\n4        0      Contents           23              Preface\n..     ...           ...          ...                  ...\n905      2  Bibliography         1191      Further Reading\n906      0       Credits         1193  PART TEN APPENDICES\n907      0         Index         1195              Credits\n908      0      Glossary         1237                Index\n909      0          EULA         1278             Glossary\n\n[910 rows x 4 columns]",
      "text/html": "<div>\n<style scoped>\n    .dataframe tbody tr th:only-of-type {\n        vertical-align: middle;\n    }\n\n    .dataframe tbody tr th {\n        vertical-align: top;\n    }\n\n    .dataframe thead th {\n        text-align: right;\n    }\n</style>\n<table border=\"1\" class=\"dataframe\">\n  <thead>\n    <tr style=\"text-align: right;\">\n      <th></th>\n      <th>Level</th>\n      <th>Title</th>\n      <th>Page Number</th>\n      <th>Parent Title</th>\n    </tr>\n  </thead>\n  <tbody>\n    <tr>\n      <th>0</th>\n      <td>0</td>\n      <td>Cover</td>\n      <td>1</td>\n      <td>None</td>\n    </tr>\n    <tr>\n      <th>1</th>\n      <td>0</td>\n      <td>Title Page</td>\n      <td>5</td>\n      <td>Cover</td>\n    </tr>\n    <tr>\n      <th>2</th>\n      <td>0</td>\n      <td>Copyright</td>\n      <td>6</td>\n      <td>Title Page</td>\n    </tr>\n    <tr>\n      <th>3</th>\n      <td>0</td>\n      <td>Preface</td>\n      <td>9</td>\n      <td>Copyright</td>\n    </tr>\n    <tr>\n      <th>4</th>\n      <td>0</td>\n      <td>Contents</td>\n      <td>23</td>\n      <td>Preface</td>\n    </tr>\n    <tr>\n      <th>...</th>\n      <td>...</td>\n      <td>...</td>\n      <td>...</td>\n      <td>...</td>\n    </tr>\n    <tr>\n      <th>905</th>\n      <td>2</td>\n      <td>Bibliography</td>\n      <td>1191</td>\n      <td>Further Reading</td>\n    </tr>\n    <tr>\n      <th>906</th>\n      <td>0</td>\n      <td>Credits</td>\n      <td>1193</td>\n      <td>PART TEN APPENDICES</td>\n    </tr>\n    <tr>\n      <th>907</th>\n      <td>0</td>\n      <td>Index</td>\n      <td>1195</td>\n      <td>Credits</td>\n    </tr>\n    <tr>\n      <th>908</th>\n      <td>0</td>\n      <td>Glossary</td>\n      <td>1237</td>\n      <td>Index</td>\n    </tr>\n    <tr>\n      <th>909</th>\n      <td>0</td>\n      <td>EULA</td>\n      <td>1278</td>\n      <td>Glossary</td>\n    </tr>\n  </tbody>\n</table>\n<p>910 rows × 4 columns</p>\n</div>"
     },
     "execution_count": 46,
     "metadata": {},
     "output_type": "execute_result"
    }
   ],
   "source": [
    "document_outline_df"
   ],
   "metadata": {
    "collapsed": false,
    "ExecuteTime": {
     "end_time": "2024-03-02T14:15:42.051415Z",
     "start_time": "2024-03-02T14:15:42.027188Z"
    }
   },
   "id": "ebeff5f9779cd400",
   "execution_count": 46
  },
  {
   "cell_type": "code",
   "outputs": [],
   "source": [
    "document_outline_df = add_description(document_outline_df, os_book_path)"
   ],
   "metadata": {
    "collapsed": false,
    "ExecuteTime": {
     "end_time": "2024-03-02T14:27:16.062413Z",
     "start_time": "2024-03-02T14:26:49.133193Z"
    }
   },
   "id": "b104c88b80645fef",
   "execution_count": 52
  },
  {
   "cell_type": "code",
   "outputs": [
    {
     "data": {
      "text/plain": "     Level         Title  Page Number         Parent Title  \\\n0        0         Cover            1                 None   \n1        0    Title Page            5                Cover   \n2        0     Copyright            6           Title Page   \n3        0       Preface            9            Copyright   \n4        0      Contents           23              Preface   \n..     ...           ...          ...                  ...   \n905      2  Bibliography         1191      Further Reading   \n906      0       Credits         1193  PART TEN APPENDICES   \n907      0         Index         1195              Credits   \n908      0      Glossary         1237                Index   \n909      0          EULA         1278             Glossary   \n\n                                           Description  \n0                                                       \n1    OPERATING\\nSYSTEM\\nCONCEPTS\\nABRAHAM SILBERSCH...  \n2    Publisher    Laurie Rosatone \\nEditorial Direc...  \n3    Preface\\nOperating systems are an essential pa...  \n4    Contents\\nPART ONE\\n OVERVIEW\\nChapter 1 Intro...  \n..                                                 ...  \n905  Further Reading 25\\nMach uses lightweight proc...  \n906  Credits\\n•Figure 1.14: From Hennesy and Patter...  \n907  Index\\n4-byte pages, 363, 364\\n32-byte memory,...  \n908  G-150-percent rule  A statistical fi  nding th...  \n909  WILEY END USER LICENSE\\nAGREEMENT\\nGo to www.w...  \n\n[910 rows x 5 columns]",
      "text/html": "<div>\n<style scoped>\n    .dataframe tbody tr th:only-of-type {\n        vertical-align: middle;\n    }\n\n    .dataframe tbody tr th {\n        vertical-align: top;\n    }\n\n    .dataframe thead th {\n        text-align: right;\n    }\n</style>\n<table border=\"1\" class=\"dataframe\">\n  <thead>\n    <tr style=\"text-align: right;\">\n      <th></th>\n      <th>Level</th>\n      <th>Title</th>\n      <th>Page Number</th>\n      <th>Parent Title</th>\n      <th>Description</th>\n    </tr>\n  </thead>\n  <tbody>\n    <tr>\n      <th>0</th>\n      <td>0</td>\n      <td>Cover</td>\n      <td>1</td>\n      <td>None</td>\n      <td></td>\n    </tr>\n    <tr>\n      <th>1</th>\n      <td>0</td>\n      <td>Title Page</td>\n      <td>5</td>\n      <td>Cover</td>\n      <td>OPERATING\\nSYSTEM\\nCONCEPTS\\nABRAHAM SILBERSCH...</td>\n    </tr>\n    <tr>\n      <th>2</th>\n      <td>0</td>\n      <td>Copyright</td>\n      <td>6</td>\n      <td>Title Page</td>\n      <td>Publisher    Laurie Rosatone \\nEditorial Direc...</td>\n    </tr>\n    <tr>\n      <th>3</th>\n      <td>0</td>\n      <td>Preface</td>\n      <td>9</td>\n      <td>Copyright</td>\n      <td>Preface\\nOperating systems are an essential pa...</td>\n    </tr>\n    <tr>\n      <th>4</th>\n      <td>0</td>\n      <td>Contents</td>\n      <td>23</td>\n      <td>Preface</td>\n      <td>Contents\\nPART ONE\\n OVERVIEW\\nChapter 1 Intro...</td>\n    </tr>\n    <tr>\n      <th>...</th>\n      <td>...</td>\n      <td>...</td>\n      <td>...</td>\n      <td>...</td>\n      <td>...</td>\n    </tr>\n    <tr>\n      <th>905</th>\n      <td>2</td>\n      <td>Bibliography</td>\n      <td>1191</td>\n      <td>Further Reading</td>\n      <td>Further Reading 25\\nMach uses lightweight proc...</td>\n    </tr>\n    <tr>\n      <th>906</th>\n      <td>0</td>\n      <td>Credits</td>\n      <td>1193</td>\n      <td>PART TEN APPENDICES</td>\n      <td>Credits\\n•Figure 1.14: From Hennesy and Patter...</td>\n    </tr>\n    <tr>\n      <th>907</th>\n      <td>0</td>\n      <td>Index</td>\n      <td>1195</td>\n      <td>Credits</td>\n      <td>Index\\n4-byte pages, 363, 364\\n32-byte memory,...</td>\n    </tr>\n    <tr>\n      <th>908</th>\n      <td>0</td>\n      <td>Glossary</td>\n      <td>1237</td>\n      <td>Index</td>\n      <td>G-150-percent rule  A statistical fi  nding th...</td>\n    </tr>\n    <tr>\n      <th>909</th>\n      <td>0</td>\n      <td>EULA</td>\n      <td>1278</td>\n      <td>Glossary</td>\n      <td>WILEY END USER LICENSE\\nAGREEMENT\\nGo to www.w...</td>\n    </tr>\n  </tbody>\n</table>\n<p>910 rows × 5 columns</p>\n</div>"
     },
     "execution_count": 53,
     "metadata": {},
     "output_type": "execute_result"
    }
   ],
   "source": [
    "document_outline_df"
   ],
   "metadata": {
    "collapsed": false,
    "ExecuteTime": {
     "end_time": "2024-03-02T14:28:08.629013Z",
     "start_time": "2024-03-02T14:28:08.607525Z"
    }
   },
   "id": "41fd07c2d9dcdbd6",
   "execution_count": 53
  },
  {
   "cell_type": "code",
   "outputs": [],
   "source": [
    "document_outline_df.to_csv('document_outline.csv', index=False)"
   ],
   "metadata": {
    "collapsed": false,
    "ExecuteTime": {
     "end_time": "2024-03-02T14:29:16.770853Z",
     "start_time": "2024-03-02T14:29:16.685534Z"
    }
   },
   "id": "e09cec9d557763b1",
   "execution_count": 55
  },
  {
   "cell_type": "code",
   "outputs": [],
   "source": [],
   "metadata": {
    "collapsed": false
   },
   "id": "806fb0f89ea391a8"
  }
 ],
 "metadata": {
  "kernelspec": {
   "display_name": "Python 3",
   "language": "python",
   "name": "python3"
  },
  "language_info": {
   "codemirror_mode": {
    "name": "ipython",
    "version": 2
   },
   "file_extension": ".py",
   "mimetype": "text/x-python",
   "name": "python",
   "nbconvert_exporter": "python",
   "pygments_lexer": "ipython2",
   "version": "2.7.6"
  }
 },
 "nbformat": 4,
 "nbformat_minor": 5
}

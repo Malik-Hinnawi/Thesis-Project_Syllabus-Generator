{
 "cells": [
  {
   "metadata": {},
   "cell_type": "markdown",
   "source": "# Glossary Extraction",
   "id": "3ef59203d72bf1ec"
  },
  {
   "metadata": {},
   "cell_type": "markdown",
   "source": [
    "## Step 1: \n",
    "### Recreating the outline as made in hierarchical classifier:"
   ],
   "id": "4d419a961cfeb8a3"
  },
  {
   "metadata": {
    "ExecuteTime": {
     "end_time": "2024-04-24T14:45:19.332667Z",
     "start_time": "2024-04-24T14:45:19.327129Z"
    }
   },
   "cell_type": "code",
   "source": [
    "import PyPDF2\n",
    "import pandas as pd\n",
    "from keybert import KeyBERT\n",
    "\n",
    "def extract_text_from_page(pdf_path, page_numbers):\n",
    "    # Open the PDF file\n",
    "    with open(pdf_path, 'rb') as file:\n",
    "        # Create a PdfFileReader object\n",
    "        pdf_reader = PyPDF2.PdfReader(file)\n",
    "        \n",
    "        # Initialize list to store text\n",
    "        all_text = []\n",
    "        \n",
    "        # Extract text from specified page range\n",
    "        for page_num in page_numbers:\n",
    "            page = pdf_reader.pages[page_num - 1]  # Adjust index\n",
    "            text = page.extract_text()\n",
    "            all_text.append(text)\n",
    "        \n",
    "        return all_text\n",
    "    "
   ],
   "id": "122b02419802abed",
   "execution_count": 5,
   "outputs": []
  },
  {
   "metadata": {
    "ExecuteTime": {
     "end_time": "2024-04-24T14:45:21.049893Z",
     "start_time": "2024-04-24T14:45:21.036825Z"
    }
   },
   "cell_type": "code",
   "source": [
    "def extract_document_outline(pdf_path):\n",
    "    # Open the PDF file\n",
    "    with open(pdf_path, 'rb') as file:\n",
    "        # Create a PdfFileReader object\n",
    "        pdf_reader = PyPDF2.PdfReader(file)\n",
    "        \n",
    "        # Get the number of pages in the PDF\n",
    "        num_pages = len(pdf_reader.pages)\n",
    "        \n",
    "        # Get the document outline\n",
    "        document_outline = pdf_reader.outline\n",
    "        \n",
    "        # Initialize lists to store levels, titles, page numbers, and parent titles\n",
    "        levels = []\n",
    "        titles = []\n",
    "        page_numbers = []\n",
    "        parent_titles = []\n",
    "        \n",
    "        # Define a recursive function to traverse the document outline\n",
    "        def traverse_outline(outline_items, level=0, parent_title=None):\n",
    "            for item in outline_items:\n",
    "                if isinstance(item, list):\n",
    "                    # Handle nested outlines\n",
    "                    traverse_outline(item, level + 1, parent_title)\n",
    "                elif isinstance(item, dict):\n",
    "                    # Extract title and page number\n",
    "                    title = item.get('/Title')\n",
    "                    page_number = item.get('/Page')\n",
    "                    \n",
    "                    if title and page_number:\n",
    "                        # Append to the lists\n",
    "                        levels.append(level)\n",
    "                        titles.append(title)\n",
    "                        page_numbers.append(pdf_reader.get_page_number(page_number) + 1)  # Adjust index\n",
    "                        parent_titles.append(parent_title)\n",
    "                    \n",
    "                    # Update parent title for child items\n",
    "                    parent_title = title\n",
    "                    \n",
    "        # Start traversing the document outline\n",
    "        traverse_outline(document_outline)\n",
    "        \n",
    "        # Create a DataFrame from the extracted data\n",
    "        df = pd.DataFrame({\n",
    "            'Level': levels,\n",
    "            'Title': titles,\n",
    "            'Page Number': page_numbers,\n",
    "            'Parent Title': parent_titles\n",
    "        })\n",
    "        \n",
    "        return df"
   ],
   "id": "d12def4d82f3c9c6",
   "execution_count": 6,
   "outputs": []
  },
  {
   "metadata": {},
   "cell_type": "markdown",
   "source": [
    "## Step 2:\n",
    "### Using KeyBERT model to extract glossary:"
   ],
   "id": "22a5c035091e2719"
  },
  {
   "metadata": {
    "ExecuteTime": {
     "end_time": "2024-04-24T14:48:15.344601Z",
     "start_time": "2024-04-24T14:48:15.330919Z"
    }
   },
   "cell_type": "code",
   "source": [
    "def add_keywords_to_df(df, pdf_path):\n",
    "    # Initialize KeyBERT model\n",
    "    keybert_model = KeyBERT('distilbert-base-nli-mean-tokens')\n",
    "    \n",
    "    # Initialize list to store keywords\n",
    "    keywords_list = []\n",
    "    \n",
    "    # Extract text from PDF based on page numbers and add keywords to DataFrame\n",
    "    for index, row in df.iterrows():\n",
    "        # Extract text from page\n",
    "        page_text = extract_text_from_page(pdf_path, [row['Page Number']])\n",
    "        \n",
    "        # Paragraph extractor for text from hierarchical code:\n",
    "        paragraph_text = page_text[0] if page_text else \"\"  # Get the text of the page, if available\n",
    "        \n",
    "        # Find keywords using KeyBERT\n",
    "        keywords = keybert_model.extract_keywords(paragraph_text)\n",
    "        \n",
    "        # Append keywords to list\n",
    "        keywords_list.append(keywords)\n",
    "    \n",
    "    # Add keywords to DataFrame\n",
    "    df['Keywords'] = keywords_list\n",
    "    \n",
    "    return df"
   ],
   "id": "e1074cfbc1c70365",
   "execution_count": 8,
   "outputs": []
  },
  {
   "metadata": {},
   "cell_type": "markdown",
   "source": [
    "## Step 3.\n",
    "### Filtering keywords, this is required since we get certain probabilities after training of the model and we want to obtain the ones with the reasonable soce"
   ],
   "id": "c961cfb7e99baf30"
  },
  {
   "metadata": {
    "ExecuteTime": {
     "end_time": "2024-04-24T15:19:21.252642Z",
     "start_time": "2024-04-24T15:19:21.246177Z"
    }
   },
   "cell_type": "code",
   "source": [
    "def filter_keywords(keywords_list, threshold=0.5):\n",
    "    filtered_keywords = [keyword for keyword, score in keywords_list if score > threshold]\n",
    "    return filtered_keywords"
   ],
   "id": "e010a2b2582f837d",
   "execution_count": 11,
   "outputs": []
  },
  {
   "metadata": {
    "ExecuteTime": {
     "end_time": "2024-04-24T15:26:08.657570Z",
     "start_time": "2024-04-24T15:26:08.647329Z"
    }
   },
   "cell_type": "code",
   "source": [
    "def filter_keywords_in_df(df, threshold=0.5):\n",
    "    filtered_keyword = []\n",
    "    for keyword_list in df['Keywords']:\n",
    "        filtered_keyword_list = filter_keywords(keyword_list, threshold)\n",
    "        filtered_keyword.append(filtered_keyword_list)\n",
    "    df['Filtered_Keywords'] = filtered_keyword\n",
    "    return  df"
   ],
   "id": "c9c0f162602bfe50",
   "execution_count": 14,
   "outputs": []
  },
  {
   "metadata": {},
   "cell_type": "markdown",
   "source": "# For OS Book:",
   "id": "e57c94ac576c66ab"
  },
  {
   "cell_type": "code",
   "id": "5e32a07c",
   "metadata": {
    "ExecuteTime": {
     "end_time": "2024-04-24T14:48:09.933114Z",
     "start_time": "2024-04-24T14:48:09.923267Z"
    }
   },
   "source": "os_book_path = './../dataset/pdf/OS_Main book.pdf'",
   "execution_count": 7,
   "outputs": []
  },
  {
   "metadata": {
    "ExecuteTime": {
     "end_time": "2024-04-24T15:17:07.309463Z",
     "start_time": "2024-04-24T14:52:14.042379Z"
    }
   },
   "cell_type": "code",
   "source": [
    "document_outline_df = extract_document_outline(os_book_path)\n",
    "## This can take around 25-30 mins fyi:\n",
    "add_keywords_to_df(document_outline_df, os_book_path)\n",
    "document_outline_df"
   ],
   "id": "3b47331b54d26707",
   "execution_count": 10,
   "outputs": []
  },
  {
   "metadata": {},
   "cell_type": "markdown",
   "source": [
    "## Note: Cover, title page, copyright, preface and contents are not really useful for the glossary required for a syllabus\n",
    "### So drop them:"
   ],
   "id": "8e7df4c53d09c5c0"
  },
  {
   "metadata": {
    "ExecuteTime": {
     "end_time": "2024-04-24T15:25:00.333517Z",
     "start_time": "2024-04-24T15:25:00.249058Z"
    }
   },
   "cell_type": "code",
   "source": [
    "## Remove cover, title page, copyright, preface, content\n",
    "indices_to_drop = [0, 1, 2, 3, 4]\n",
    "document_outline_df = document_outline_df.drop(indices_to_drop)\n",
    "document_outline_df"
   ],
   "id": "1ce956c8b457f2a5",
   "execution_count": 12,
   "outputs": []
  },
  {
   "metadata": {},
   "cell_type": "markdown",
   "source": [
    "## Selecting the threshold: \n",
    "### By looking at the keywords from section, and viewing the book, the words that seem to be seen as keywords are the ones with higher probability that 0.45 - 0.48, so experiment is made on the lower bound i.e 0.45"
   ],
   "id": "4dd6f1c3a32a1cc1"
  },
  {
   "metadata": {
    "ExecuteTime": {
     "end_time": "2024-04-24T15:26:11.659079Z",
     "start_time": "2024-04-24T15:26:11.610027Z"
    }
   },
   "cell_type": "code",
   "source": [
    "filter_keywords_in_df(document_outline_df, 0.45)\n",
    "document_outline_df"
   ],
   "id": "bbaa98e1a1915474",
   "execution_count": 15,
   "outputs": []
  },
  {
   "metadata": {},
   "cell_type": "markdown",
   "source": "## Finally, keep it as csv for future references",
   "id": "263a2ee2b2804d66"
  },
  {
   "metadata": {
    "ExecuteTime": {
     "end_time": "2024-04-24T15:29:13.265386Z",
     "start_time": "2024-04-24T15:29:13.218011Z"
    }
   },
   "cell_type": "code",
   "source": "document_outline_df.to_csv(\"OS_glossary_dataframe.csv\", index=False)",
   "id": "20e335241f403a50",
   "execution_count": 17,
   "outputs": []
  }
 ],
 "metadata": {
  "kernelspec": {
   "display_name": "Python 3 (ipykernel)",
   "language": "python",
   "name": "python3"
  },
  "language_info": {
   "codemirror_mode": {
    "name": "ipython",
    "version": 3
   },
   "file_extension": ".py",
   "mimetype": "text/x-python",
   "name": "python",
   "nbconvert_exporter": "python",
   "pygments_lexer": "ipython3",
   "version": "3.10.12"
  }
 },
 "nbformat": 4,
 "nbformat_minor": 5
}

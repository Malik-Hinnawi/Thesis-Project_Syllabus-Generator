{
 "cells": [
  {
   "metadata": {},
   "cell_type": "markdown",
   "source": "# Glossary Extraction",
   "id": "3ef59203d72bf1ec"
  },
  {
   "metadata": {},
   "cell_type": "markdown",
   "source": [
    "## Step 1: \n",
    "### Recreating the outline as made in hierarchical classifier:"
   ],
   "id": "4d419a961cfeb8a3"
  },
  {
   "metadata": {
    "ExecuteTime": {
     "end_time": "2024-04-24T14:45:19.332667Z",
     "start_time": "2024-04-24T14:45:19.327129Z"
    }
   },
   "cell_type": "code",
   "source": [
    "import PyPDF2\n",
    "import pandas as pd\n",
    "from keybert import KeyBERT\n",
    "\n",
    "def extract_text_from_page(pdf_path, page_numbers):\n",
    "    # Open the PDF file\n",
    "    with open(pdf_path, 'rb') as file:\n",
    "        # Create a PdfFileReader object\n",
    "        pdf_reader = PyPDF2.PdfReader(file)\n",
    "        \n",
    "        # Initialize list to store text\n",
    "        all_text = []\n",
    "        \n",
    "        # Extract text from specified page range\n",
    "        for page_num in page_numbers:\n",
    "            page = pdf_reader.pages[page_num - 1]  # Adjust index\n",
    "            text = page.extract_text()\n",
    "            all_text.append(text)\n",
    "        \n",
    "        return all_text\n",
    "    "
   ],
   "id": "122b02419802abed",
   "outputs": [],
   "execution_count": 5
  },
  {
   "metadata": {
    "ExecuteTime": {
     "end_time": "2024-04-24T14:45:21.049893Z",
     "start_time": "2024-04-24T14:45:21.036825Z"
    }
   },
   "cell_type": "code",
   "source": [
    "def extract_document_outline(pdf_path):\n",
    "    # Open the PDF file\n",
    "    with open(pdf_path, 'rb') as file:\n",
    "        # Create a PdfFileReader object\n",
    "        pdf_reader = PyPDF2.PdfReader(file)\n",
    "        \n",
    "        # Get the number of pages in the PDF\n",
    "        num_pages = len(pdf_reader.pages)\n",
    "        \n",
    "        # Get the document outline\n",
    "        document_outline = pdf_reader.outline\n",
    "        \n",
    "        # Initialize lists to store levels, titles, page numbers, and parent titles\n",
    "        levels = []\n",
    "        titles = []\n",
    "        page_numbers = []\n",
    "        parent_titles = []\n",
    "        \n",
    "        # Define a recursive function to traverse the document outline\n",
    "        def traverse_outline(outline_items, level=0, parent_title=None):\n",
    "            for item in outline_items:\n",
    "                if isinstance(item, list):\n",
    "                    # Handle nested outlines\n",
    "                    traverse_outline(item, level + 1, parent_title)\n",
    "                elif isinstance(item, dict):\n",
    "                    # Extract title and page number\n",
    "                    title = item.get('/Title')\n",
    "                    page_number = item.get('/Page')\n",
    "                    \n",
    "                    if title and page_number:\n",
    "                        # Append to the lists\n",
    "                        levels.append(level)\n",
    "                        titles.append(title)\n",
    "                        page_numbers.append(pdf_reader.get_page_number(page_number) + 1)  # Adjust index\n",
    "                        parent_titles.append(parent_title)\n",
    "                    \n",
    "                    # Update parent title for child items\n",
    "                    parent_title = title\n",
    "                    \n",
    "        # Start traversing the document outline\n",
    "        traverse_outline(document_outline)\n",
    "        \n",
    "        # Create a DataFrame from the extracted data\n",
    "        df = pd.DataFrame({\n",
    "            'Level': levels,\n",
    "            'Title': titles,\n",
    "            'Page Number': page_numbers,\n",
    "            'Parent Title': parent_titles\n",
    "        })\n",
    "        \n",
    "        return df"
   ],
   "id": "d12def4d82f3c9c6",
   "outputs": [],
   "execution_count": 6
  },
  {
   "metadata": {},
   "cell_type": "markdown",
   "source": [
    "## Step 2:\n",
    "### Using KeyBERT model to extract glossary:"
   ],
   "id": "22a5c035091e2719"
  },
  {
   "metadata": {
    "ExecuteTime": {
     "end_time": "2024-04-24T14:48:15.344601Z",
     "start_time": "2024-04-24T14:48:15.330919Z"
    }
   },
   "cell_type": "code",
   "source": [
    "def add_keywords_to_df(df, pdf_path):\n",
    "    # Initialize KeyBERT model\n",
    "    keybert_model = KeyBERT('distilbert-base-nli-mean-tokens')\n",
    "    \n",
    "    # Initialize list to store keywords\n",
    "    keywords_list = []\n",
    "    \n",
    "    # Extract text from PDF based on page numbers and add keywords to DataFrame\n",
    "    for index, row in df.iterrows():\n",
    "        # Extract text from page\n",
    "        page_text = extract_text_from_page(pdf_path, [row['Page Number']])\n",
    "        \n",
    "        # Paragraph extractor for text from hierarchical code:\n",
    "        paragraph_text = page_text[0] if page_text else \"\"  # Get the text of the page, if available\n",
    "        \n",
    "        # Find keywords using KeyBERT\n",
    "        keywords = keybert_model.extract_keywords(paragraph_text)\n",
    "        \n",
    "        # Append keywords to list\n",
    "        keywords_list.append(keywords)\n",
    "    \n",
    "    # Add keywords to DataFrame\n",
    "    df['Keywords'] = keywords_list\n",
    "    \n",
    "    return df"
   ],
   "id": "e1074cfbc1c70365",
   "outputs": [],
   "execution_count": 8
  },
  {
   "metadata": {},
   "cell_type": "markdown",
   "source": [
    "## Step 3.\n",
    "### Filtering keywords, this is required since we get certain probabilities after training of the model and we want to obtain the ones with the reasonable soce"
   ],
   "id": "c961cfb7e99baf30"
  },
  {
   "metadata": {
    "ExecuteTime": {
     "end_time": "2024-04-24T15:19:21.252642Z",
     "start_time": "2024-04-24T15:19:21.246177Z"
    }
   },
   "cell_type": "code",
   "source": [
    "def filter_keywords(keywords_list, threshold=0.5):\n",
    "    filtered_keywords = [keyword for keyword, score in keywords_list if score > threshold]\n",
    "    return filtered_keywords"
   ],
   "id": "e010a2b2582f837d",
   "outputs": [],
   "execution_count": 11
  },
  {
   "metadata": {
    "ExecuteTime": {
     "end_time": "2024-04-24T15:26:08.657570Z",
     "start_time": "2024-04-24T15:26:08.647329Z"
    }
   },
   "cell_type": "code",
   "source": [
    "def filter_keywords_in_df(df, threshold=0.5):\n",
    "    filtered_keyword = []\n",
    "    for keyword_list in df['Keywords']:\n",
    "        filtered_keyword_list = filter_keywords(keyword_list, threshold)\n",
    "        filtered_keyword.append(filtered_keyword_list)\n",
    "    df['Filtered_Keywords'] = filtered_keyword\n",
    "    return  df"
   ],
   "id": "c9c0f162602bfe50",
   "outputs": [],
   "execution_count": 14
  },
  {
   "metadata": {},
   "cell_type": "markdown",
   "source": "# For OS Book:",
   "id": "e57c94ac576c66ab"
  },
  {
   "cell_type": "code",
   "id": "5e32a07c",
   "metadata": {
    "ExecuteTime": {
     "end_time": "2024-04-24T14:48:09.933114Z",
     "start_time": "2024-04-24T14:48:09.923267Z"
    }
   },
   "source": "os_book_path = './../dataset/pdf/OS_Main book.pdf'",
   "outputs": [],
   "execution_count": 7
  },
  {
   "metadata": {
    "ExecuteTime": {
     "end_time": "2024-04-24T15:17:07.309463Z",
     "start_time": "2024-04-24T14:52:14.042379Z"
    }
   },
   "cell_type": "code",
   "source": [
    "document_outline_df = extract_document_outline(os_book_path)\n",
    "## This can take around 25-30 mins fyi:\n",
    "add_keywords_to_df(document_outline_df, os_book_path)\n",
    "document_outline_df"
   ],
   "id": "3b47331b54d26707",
   "outputs": [
    {
     "data": {
      "text/plain": [
       "vocab.txt:   0%|          | 0.00/232k [00:00<?, ?B/s]"
      ],
      "application/vnd.jupyter.widget-view+json": {
       "version_major": 2,
       "version_minor": 0,
       "model_id": "a497c5b1a061400998d0125e4ce6080b"
      }
     },
     "metadata": {},
     "output_type": "display_data"
    },
    {
     "data": {
      "text/plain": [
       "tokenizer.json:   0%|          | 0.00/466k [00:00<?, ?B/s]"
      ],
      "application/vnd.jupyter.widget-view+json": {
       "version_major": 2,
       "version_minor": 0,
       "model_id": "782dc0d3d3994e678879746643b9d451"
      }
     },
     "metadata": {},
     "output_type": "display_data"
    },
    {
     "name": "stderr",
     "output_type": "stream",
     "text": [
      "Error while downloading from https://huggingface.co/sentence-transformers/distilbert-base-nli-mean-tokens/resolve/main/tokenizer.json: HTTPSConnectionPool(host='huggingface.co', port=443): Read timed out.\n",
      "Trying to resume download...\n"
     ]
    },
    {
     "data": {
      "text/plain": [
       "tokenizer.json:   0%|          | 0.00/466k [00:00<?, ?B/s]"
      ],
      "application/vnd.jupyter.widget-view+json": {
       "version_major": 2,
       "version_minor": 0,
       "model_id": "a759138345264a9d859af3ea678d890c"
      }
     },
     "metadata": {},
     "output_type": "display_data"
    },
    {
     "data": {
      "text/plain": [
       "special_tokens_map.json:   0%|          | 0.00/112 [00:00<?, ?B/s]"
      ],
      "application/vnd.jupyter.widget-view+json": {
       "version_major": 2,
       "version_minor": 0,
       "model_id": "3c92c1e5df9e49428c4d78cc7c8ff003"
      }
     },
     "metadata": {},
     "output_type": "display_data"
    },
    {
     "data": {
      "text/plain": [
       "1_Pooling/config.json:   0%|          | 0.00/190 [00:00<?, ?B/s]"
      ],
      "application/vnd.jupyter.widget-view+json": {
       "version_major": 2,
       "version_minor": 0,
       "model_id": "8393d18e89c84c77b725d48f15b538aa"
      }
     },
     "metadata": {},
     "output_type": "display_data"
    },
    {
     "name": "stderr",
     "output_type": "stream",
     "text": [
      "Exception ignored in: <bound method IPythonKernel._clean_thread_parent_frames of <ipykernel.ipkernel.IPythonKernel object at 0x7133c5e92830>>\n",
      "Traceback (most recent call last):\n",
      "  File \"/home/malik/Documents/CENG/Forth Year/Second Semester/CENG416/416-Syllabus-Generator/.venv/lib/python3.10/site-packages/ipykernel/ipkernel.py\", line 770, in _clean_thread_parent_frames\n",
      "    def _clean_thread_parent_frames(\n",
      "KeyboardInterrupt: \n"
     ]
    },
    {
     "data": {
      "text/plain": [
       "     Level         Title  Page Number         Parent Title  \\\n",
       "0        0         Cover            1                 None   \n",
       "1        0    Title Page            5                Cover   \n",
       "2        0     Copyright            6           Title Page   \n",
       "3        0       Preface            9            Copyright   \n",
       "4        0      Contents           23              Preface   \n",
       "..     ...           ...          ...                  ...   \n",
       "905      2  Bibliography         1191      Further Reading   \n",
       "906      0       Credits         1193  PART TEN APPENDICES   \n",
       "907      0         Index         1195              Credits   \n",
       "908      0      Glossary         1237                Index   \n",
       "909      0          EULA         1278             Glossary   \n",
       "\n",
       "                                              Keywords  \n",
       "0                                                   []  \n",
       "1    [(8ftunjotufs, 0.4966), (6ojwfstjuz, 0.4865), ...  \n",
       "2    [(9781119320913, 0.3382), (ebook, 0.3375), (co...  \n",
       "3    [(wealsoincludeanoverviewofthefundamentaldatas...  \n",
       "4    [(kerneldatastructures, 0.4298), (systemdebugg...  \n",
       "..                                                 ...  \n",
       "905  [(machprovidesgreatflexibilityinthedesignandim...  \n",
       "906  [(circlecopyrt1993, 0.5017), (circlecopyrt2002...  \n",
       "907  [(745mandatory, 0.4708), (364, 0.4406), (549, ...  \n",
       "908  [(150, 0.3667), (50, 0.3471), (randomization, ...  \n",
       "909  [(ebook, 0.5657), (wiley, 0.4617), (license, 0...  \n",
       "\n",
       "[910 rows x 5 columns]"
      ],
      "text/html": [
       "<div>\n",
       "<style scoped>\n",
       "    .dataframe tbody tr th:only-of-type {\n",
       "        vertical-align: middle;\n",
       "    }\n",
       "\n",
       "    .dataframe tbody tr th {\n",
       "        vertical-align: top;\n",
       "    }\n",
       "\n",
       "    .dataframe thead th {\n",
       "        text-align: right;\n",
       "    }\n",
       "</style>\n",
       "<table border=\"1\" class=\"dataframe\">\n",
       "  <thead>\n",
       "    <tr style=\"text-align: right;\">\n",
       "      <th></th>\n",
       "      <th>Level</th>\n",
       "      <th>Title</th>\n",
       "      <th>Page Number</th>\n",
       "      <th>Parent Title</th>\n",
       "      <th>Keywords</th>\n",
       "    </tr>\n",
       "  </thead>\n",
       "  <tbody>\n",
       "    <tr>\n",
       "      <th>0</th>\n",
       "      <td>0</td>\n",
       "      <td>Cover</td>\n",
       "      <td>1</td>\n",
       "      <td>None</td>\n",
       "      <td>[]</td>\n",
       "    </tr>\n",
       "    <tr>\n",
       "      <th>1</th>\n",
       "      <td>0</td>\n",
       "      <td>Title Page</td>\n",
       "      <td>5</td>\n",
       "      <td>Cover</td>\n",
       "      <td>[(8ftunjotufs, 0.4966), (6ojwfstjuz, 0.4865), ...</td>\n",
       "    </tr>\n",
       "    <tr>\n",
       "      <th>2</th>\n",
       "      <td>0</td>\n",
       "      <td>Copyright</td>\n",
       "      <td>6</td>\n",
       "      <td>Title Page</td>\n",
       "      <td>[(9781119320913, 0.3382), (ebook, 0.3375), (co...</td>\n",
       "    </tr>\n",
       "    <tr>\n",
       "      <th>3</th>\n",
       "      <td>0</td>\n",
       "      <td>Preface</td>\n",
       "      <td>9</td>\n",
       "      <td>Copyright</td>\n",
       "      <td>[(wealsoincludeanoverviewofthefundamentaldatas...</td>\n",
       "    </tr>\n",
       "    <tr>\n",
       "      <th>4</th>\n",
       "      <td>0</td>\n",
       "      <td>Contents</td>\n",
       "      <td>23</td>\n",
       "      <td>Preface</td>\n",
       "      <td>[(kerneldatastructures, 0.4298), (systemdebugg...</td>\n",
       "    </tr>\n",
       "    <tr>\n",
       "      <th>...</th>\n",
       "      <td>...</td>\n",
       "      <td>...</td>\n",
       "      <td>...</td>\n",
       "      <td>...</td>\n",
       "      <td>...</td>\n",
       "    </tr>\n",
       "    <tr>\n",
       "      <th>905</th>\n",
       "      <td>2</td>\n",
       "      <td>Bibliography</td>\n",
       "      <td>1191</td>\n",
       "      <td>Further Reading</td>\n",
       "      <td>[(machprovidesgreatflexibilityinthedesignandim...</td>\n",
       "    </tr>\n",
       "    <tr>\n",
       "      <th>906</th>\n",
       "      <td>0</td>\n",
       "      <td>Credits</td>\n",
       "      <td>1193</td>\n",
       "      <td>PART TEN APPENDICES</td>\n",
       "      <td>[(circlecopyrt1993, 0.5017), (circlecopyrt2002...</td>\n",
       "    </tr>\n",
       "    <tr>\n",
       "      <th>907</th>\n",
       "      <td>0</td>\n",
       "      <td>Index</td>\n",
       "      <td>1195</td>\n",
       "      <td>Credits</td>\n",
       "      <td>[(745mandatory, 0.4708), (364, 0.4406), (549, ...</td>\n",
       "    </tr>\n",
       "    <tr>\n",
       "      <th>908</th>\n",
       "      <td>0</td>\n",
       "      <td>Glossary</td>\n",
       "      <td>1237</td>\n",
       "      <td>Index</td>\n",
       "      <td>[(150, 0.3667), (50, 0.3471), (randomization, ...</td>\n",
       "    </tr>\n",
       "    <tr>\n",
       "      <th>909</th>\n",
       "      <td>0</td>\n",
       "      <td>EULA</td>\n",
       "      <td>1278</td>\n",
       "      <td>Glossary</td>\n",
       "      <td>[(ebook, 0.5657), (wiley, 0.4617), (license, 0...</td>\n",
       "    </tr>\n",
       "  </tbody>\n",
       "</table>\n",
       "<p>910 rows × 5 columns</p>\n",
       "</div>"
      ]
     },
     "execution_count": 10,
     "metadata": {},
     "output_type": "execute_result"
    }
   ],
   "execution_count": 10
  },
  {
   "metadata": {},
   "cell_type": "markdown",
   "source": [
    "## Note: Cover, title page, copyright, preface and contents are not really useful for the glossary required for a syllabus\n",
    "### So drop them:"
   ],
   "id": "8e7df4c53d09c5c0"
  },
  {
   "metadata": {
    "ExecuteTime": {
     "end_time": "2024-04-24T15:25:00.333517Z",
     "start_time": "2024-04-24T15:25:00.249058Z"
    }
   },
   "cell_type": "code",
   "source": [
    "## Remove cover, title page, copyright, preface, content\n",
    "indices_to_drop = [0, 1, 2, 3, 4]\n",
    "document_outline_df = document_outline_df.drop(indices_to_drop)\n",
    "document_outline_df"
   ],
   "id": "1ce956c8b457f2a5",
   "outputs": [
    {
     "data": {
      "text/plain": [
       "     Level                          Title  Page Number  \\\n",
       "5        0              PART ONE OVERVIEW           29   \n",
       "6        1         Chapter 1 Introduction           31   \n",
       "7        2  1.1 What Operating Systems Do           32   \n",
       "8        3                1.1.1 User View           32   \n",
       "9        3              1.1.2 System View           33   \n",
       "..     ...                            ...          ...   \n",
       "905      2                   Bibliography         1191   \n",
       "906      0                        Credits         1193   \n",
       "907      0                          Index         1195   \n",
       "908      0                       Glossary         1237   \n",
       "909      0                           EULA         1278   \n",
       "\n",
       "                      Parent Title  \\\n",
       "5                         Contents   \n",
       "6                PART ONE OVERVIEW   \n",
       "7           Chapter 1 Introduction   \n",
       "8    1.1 What Operating Systems Do   \n",
       "9                  1.1.1 User View   \n",
       "..                             ...   \n",
       "905                Further Reading   \n",
       "906            PART TEN APPENDICES   \n",
       "907                        Credits   \n",
       "908                          Index   \n",
       "909                       Glossary   \n",
       "\n",
       "                                              Keywords  \n",
       "5    [(software, 0.4914), (computer, 0.4831), (hard...  \n",
       "6    [(personalcomputers, 0.5907), (enterprisecompu...  \n",
       "7    [(overallcomputersystem, 0.7), (hardwareandcoo...  \n",
       "8    [(overallcomputersystem, 0.7), (hardwareandcoo...  \n",
       "9    [(manyusersinteractwithmobiledevicessuchassmar...  \n",
       "..                                                 ...  \n",
       "905  [(machprovidesgreatflexibilityinthedesignandim...  \n",
       "906  [(circlecopyrt1993, 0.5017), (circlecopyrt2002...  \n",
       "907  [(745mandatory, 0.4708), (364, 0.4406), (549, ...  \n",
       "908  [(150, 0.3667), (50, 0.3471), (randomization, ...  \n",
       "909  [(ebook, 0.5657), (wiley, 0.4617), (license, 0...  \n",
       "\n",
       "[905 rows x 5 columns]"
      ],
      "text/html": [
       "<div>\n",
       "<style scoped>\n",
       "    .dataframe tbody tr th:only-of-type {\n",
       "        vertical-align: middle;\n",
       "    }\n",
       "\n",
       "    .dataframe tbody tr th {\n",
       "        vertical-align: top;\n",
       "    }\n",
       "\n",
       "    .dataframe thead th {\n",
       "        text-align: right;\n",
       "    }\n",
       "</style>\n",
       "<table border=\"1\" class=\"dataframe\">\n",
       "  <thead>\n",
       "    <tr style=\"text-align: right;\">\n",
       "      <th></th>\n",
       "      <th>Level</th>\n",
       "      <th>Title</th>\n",
       "      <th>Page Number</th>\n",
       "      <th>Parent Title</th>\n",
       "      <th>Keywords</th>\n",
       "    </tr>\n",
       "  </thead>\n",
       "  <tbody>\n",
       "    <tr>\n",
       "      <th>5</th>\n",
       "      <td>0</td>\n",
       "      <td>PART ONE OVERVIEW</td>\n",
       "      <td>29</td>\n",
       "      <td>Contents</td>\n",
       "      <td>[(software, 0.4914), (computer, 0.4831), (hard...</td>\n",
       "    </tr>\n",
       "    <tr>\n",
       "      <th>6</th>\n",
       "      <td>1</td>\n",
       "      <td>Chapter 1 Introduction</td>\n",
       "      <td>31</td>\n",
       "      <td>PART ONE OVERVIEW</td>\n",
       "      <td>[(personalcomputers, 0.5907), (enterprisecompu...</td>\n",
       "    </tr>\n",
       "    <tr>\n",
       "      <th>7</th>\n",
       "      <td>2</td>\n",
       "      <td>1.1 What Operating Systems Do</td>\n",
       "      <td>32</td>\n",
       "      <td>Chapter 1 Introduction</td>\n",
       "      <td>[(overallcomputersystem, 0.7), (hardwareandcoo...</td>\n",
       "    </tr>\n",
       "    <tr>\n",
       "      <th>8</th>\n",
       "      <td>3</td>\n",
       "      <td>1.1.1 User View</td>\n",
       "      <td>32</td>\n",
       "      <td>1.1 What Operating Systems Do</td>\n",
       "      <td>[(overallcomputersystem, 0.7), (hardwareandcoo...</td>\n",
       "    </tr>\n",
       "    <tr>\n",
       "      <th>9</th>\n",
       "      <td>3</td>\n",
       "      <td>1.1.2 System View</td>\n",
       "      <td>33</td>\n",
       "      <td>1.1.1 User View</td>\n",
       "      <td>[(manyusersinteractwithmobiledevicessuchassmar...</td>\n",
       "    </tr>\n",
       "    <tr>\n",
       "      <th>...</th>\n",
       "      <td>...</td>\n",
       "      <td>...</td>\n",
       "      <td>...</td>\n",
       "      <td>...</td>\n",
       "      <td>...</td>\n",
       "    </tr>\n",
       "    <tr>\n",
       "      <th>905</th>\n",
       "      <td>2</td>\n",
       "      <td>Bibliography</td>\n",
       "      <td>1191</td>\n",
       "      <td>Further Reading</td>\n",
       "      <td>[(machprovidesgreatflexibilityinthedesignandim...</td>\n",
       "    </tr>\n",
       "    <tr>\n",
       "      <th>906</th>\n",
       "      <td>0</td>\n",
       "      <td>Credits</td>\n",
       "      <td>1193</td>\n",
       "      <td>PART TEN APPENDICES</td>\n",
       "      <td>[(circlecopyrt1993, 0.5017), (circlecopyrt2002...</td>\n",
       "    </tr>\n",
       "    <tr>\n",
       "      <th>907</th>\n",
       "      <td>0</td>\n",
       "      <td>Index</td>\n",
       "      <td>1195</td>\n",
       "      <td>Credits</td>\n",
       "      <td>[(745mandatory, 0.4708), (364, 0.4406), (549, ...</td>\n",
       "    </tr>\n",
       "    <tr>\n",
       "      <th>908</th>\n",
       "      <td>0</td>\n",
       "      <td>Glossary</td>\n",
       "      <td>1237</td>\n",
       "      <td>Index</td>\n",
       "      <td>[(150, 0.3667), (50, 0.3471), (randomization, ...</td>\n",
       "    </tr>\n",
       "    <tr>\n",
       "      <th>909</th>\n",
       "      <td>0</td>\n",
       "      <td>EULA</td>\n",
       "      <td>1278</td>\n",
       "      <td>Glossary</td>\n",
       "      <td>[(ebook, 0.5657), (wiley, 0.4617), (license, 0...</td>\n",
       "    </tr>\n",
       "  </tbody>\n",
       "</table>\n",
       "<p>905 rows × 5 columns</p>\n",
       "</div>"
      ]
     },
     "execution_count": 12,
     "metadata": {},
     "output_type": "execute_result"
    }
   ],
   "execution_count": 12
  },
  {
   "metadata": {},
   "cell_type": "markdown",
   "source": [
    "## Selecting the threshold: \n",
    "### By looking at the keywords from section, and viewing the book, the words that seem to be seen as keywords are the ones with higher probability that 0.45 - 0.48, so experiment is made on the lower bound i.e 0.45"
   ],
   "id": "4dd6f1c3a32a1cc1"
  },
  {
   "metadata": {
    "ExecuteTime": {
     "end_time": "2024-04-24T15:26:11.659079Z",
     "start_time": "2024-04-24T15:26:11.610027Z"
    }
   },
   "cell_type": "code",
   "source": [
    "filter_keywords_in_df(document_outline_df, 0.45)\n",
    "document_outline_df"
   ],
   "id": "bbaa98e1a1915474",
   "outputs": [
    {
     "data": {
      "text/plain": [
       "     Level                          Title  Page Number  \\\n",
       "5        0              PART ONE OVERVIEW           29   \n",
       "6        1         Chapter 1 Introduction           31   \n",
       "7        2  1.1 What Operating Systems Do           32   \n",
       "8        3                1.1.1 User View           32   \n",
       "9        3              1.1.2 System View           33   \n",
       "..     ...                            ...          ...   \n",
       "905      2                   Bibliography         1191   \n",
       "906      0                        Credits         1193   \n",
       "907      0                          Index         1195   \n",
       "908      0                       Glossary         1237   \n",
       "909      0                           EULA         1278   \n",
       "\n",
       "                      Parent Title  \\\n",
       "5                         Contents   \n",
       "6                PART ONE OVERVIEW   \n",
       "7           Chapter 1 Introduction   \n",
       "8    1.1 What Operating Systems Do   \n",
       "9                  1.1.1 User View   \n",
       "..                             ...   \n",
       "905                Further Reading   \n",
       "906            PART TEN APPENDICES   \n",
       "907                        Credits   \n",
       "908                          Index   \n",
       "909                       Glossary   \n",
       "\n",
       "                                              Keywords  \\\n",
       "5    [(software, 0.4914), (computer, 0.4831), (hard...   \n",
       "6    [(personalcomputers, 0.5907), (enterprisecompu...   \n",
       "7    [(overallcomputersystem, 0.7), (hardwareandcoo...   \n",
       "8    [(overallcomputersystem, 0.7), (hardwareandcoo...   \n",
       "9    [(manyusersinteractwithmobiledevicessuchassmar...   \n",
       "..                                                 ...   \n",
       "905  [(machprovidesgreatflexibilityinthedesignandim...   \n",
       "906  [(circlecopyrt1993, 0.5017), (circlecopyrt2002...   \n",
       "907  [(745mandatory, 0.4708), (364, 0.4406), (549, ...   \n",
       "908  [(150, 0.3667), (50, 0.3471), (randomization, ...   \n",
       "909  [(ebook, 0.5657), (wiley, 0.4617), (license, 0...   \n",
       "\n",
       "                                     Filtered_Keywords  \n",
       "5                       [software, computer, hardware]  \n",
       "6    [personalcomputers, enterprisecomputers, inord...  \n",
       "7    [overallcomputersystem, hardwareandcoordinates...  \n",
       "8    [overallcomputersystem, hardwareandcoordinates...  \n",
       "9    [manyusersinteractwithmobiledevicessuchassmart...  \n",
       "..                                                 ...  \n",
       "905  [machprovidesgreatflexibilityinthedesignandimp...  \n",
       "906               [circlecopyrt1993, circlecopyrt2002]  \n",
       "907                                     [745mandatory]  \n",
       "908                                                 []  \n",
       "909                                     [ebook, wiley]  \n",
       "\n",
       "[905 rows x 6 columns]"
      ],
      "text/html": [
       "<div>\n",
       "<style scoped>\n",
       "    .dataframe tbody tr th:only-of-type {\n",
       "        vertical-align: middle;\n",
       "    }\n",
       "\n",
       "    .dataframe tbody tr th {\n",
       "        vertical-align: top;\n",
       "    }\n",
       "\n",
       "    .dataframe thead th {\n",
       "        text-align: right;\n",
       "    }\n",
       "</style>\n",
       "<table border=\"1\" class=\"dataframe\">\n",
       "  <thead>\n",
       "    <tr style=\"text-align: right;\">\n",
       "      <th></th>\n",
       "      <th>Level</th>\n",
       "      <th>Title</th>\n",
       "      <th>Page Number</th>\n",
       "      <th>Parent Title</th>\n",
       "      <th>Keywords</th>\n",
       "      <th>Filtered_Keywords</th>\n",
       "    </tr>\n",
       "  </thead>\n",
       "  <tbody>\n",
       "    <tr>\n",
       "      <th>5</th>\n",
       "      <td>0</td>\n",
       "      <td>PART ONE OVERVIEW</td>\n",
       "      <td>29</td>\n",
       "      <td>Contents</td>\n",
       "      <td>[(software, 0.4914), (computer, 0.4831), (hard...</td>\n",
       "      <td>[software, computer, hardware]</td>\n",
       "    </tr>\n",
       "    <tr>\n",
       "      <th>6</th>\n",
       "      <td>1</td>\n",
       "      <td>Chapter 1 Introduction</td>\n",
       "      <td>31</td>\n",
       "      <td>PART ONE OVERVIEW</td>\n",
       "      <td>[(personalcomputers, 0.5907), (enterprisecompu...</td>\n",
       "      <td>[personalcomputers, enterprisecomputers, inord...</td>\n",
       "    </tr>\n",
       "    <tr>\n",
       "      <th>7</th>\n",
       "      <td>2</td>\n",
       "      <td>1.1 What Operating Systems Do</td>\n",
       "      <td>32</td>\n",
       "      <td>Chapter 1 Introduction</td>\n",
       "      <td>[(overallcomputersystem, 0.7), (hardwareandcoo...</td>\n",
       "      <td>[overallcomputersystem, hardwareandcoordinates...</td>\n",
       "    </tr>\n",
       "    <tr>\n",
       "      <th>8</th>\n",
       "      <td>3</td>\n",
       "      <td>1.1.1 User View</td>\n",
       "      <td>32</td>\n",
       "      <td>1.1 What Operating Systems Do</td>\n",
       "      <td>[(overallcomputersystem, 0.7), (hardwareandcoo...</td>\n",
       "      <td>[overallcomputersystem, hardwareandcoordinates...</td>\n",
       "    </tr>\n",
       "    <tr>\n",
       "      <th>9</th>\n",
       "      <td>3</td>\n",
       "      <td>1.1.2 System View</td>\n",
       "      <td>33</td>\n",
       "      <td>1.1.1 User View</td>\n",
       "      <td>[(manyusersinteractwithmobiledevicessuchassmar...</td>\n",
       "      <td>[manyusersinteractwithmobiledevicessuchassmart...</td>\n",
       "    </tr>\n",
       "    <tr>\n",
       "      <th>...</th>\n",
       "      <td>...</td>\n",
       "      <td>...</td>\n",
       "      <td>...</td>\n",
       "      <td>...</td>\n",
       "      <td>...</td>\n",
       "      <td>...</td>\n",
       "    </tr>\n",
       "    <tr>\n",
       "      <th>905</th>\n",
       "      <td>2</td>\n",
       "      <td>Bibliography</td>\n",
       "      <td>1191</td>\n",
       "      <td>Further Reading</td>\n",
       "      <td>[(machprovidesgreatflexibilityinthedesignandim...</td>\n",
       "      <td>[machprovidesgreatflexibilityinthedesignandimp...</td>\n",
       "    </tr>\n",
       "    <tr>\n",
       "      <th>906</th>\n",
       "      <td>0</td>\n",
       "      <td>Credits</td>\n",
       "      <td>1193</td>\n",
       "      <td>PART TEN APPENDICES</td>\n",
       "      <td>[(circlecopyrt1993, 0.5017), (circlecopyrt2002...</td>\n",
       "      <td>[circlecopyrt1993, circlecopyrt2002]</td>\n",
       "    </tr>\n",
       "    <tr>\n",
       "      <th>907</th>\n",
       "      <td>0</td>\n",
       "      <td>Index</td>\n",
       "      <td>1195</td>\n",
       "      <td>Credits</td>\n",
       "      <td>[(745mandatory, 0.4708), (364, 0.4406), (549, ...</td>\n",
       "      <td>[745mandatory]</td>\n",
       "    </tr>\n",
       "    <tr>\n",
       "      <th>908</th>\n",
       "      <td>0</td>\n",
       "      <td>Glossary</td>\n",
       "      <td>1237</td>\n",
       "      <td>Index</td>\n",
       "      <td>[(150, 0.3667), (50, 0.3471), (randomization, ...</td>\n",
       "      <td>[]</td>\n",
       "    </tr>\n",
       "    <tr>\n",
       "      <th>909</th>\n",
       "      <td>0</td>\n",
       "      <td>EULA</td>\n",
       "      <td>1278</td>\n",
       "      <td>Glossary</td>\n",
       "      <td>[(ebook, 0.5657), (wiley, 0.4617), (license, 0...</td>\n",
       "      <td>[ebook, wiley]</td>\n",
       "    </tr>\n",
       "  </tbody>\n",
       "</table>\n",
       "<p>905 rows × 6 columns</p>\n",
       "</div>"
      ]
     },
     "execution_count": 15,
     "metadata": {},
     "output_type": "execute_result"
    }
   ],
   "execution_count": 15
  },
  {
   "metadata": {},
   "cell_type": "markdown",
   "source": "## Finally, keep it as csv for future references",
   "id": "263a2ee2b2804d66"
  },
  {
   "metadata": {
    "ExecuteTime": {
     "end_time": "2024-04-24T15:29:13.265386Z",
     "start_time": "2024-04-24T15:29:13.218011Z"
    }
   },
   "cell_type": "code",
   "source": "document_outline_df.to_csv(\"OS_glossary_dataframe.csv\", index=False)",
   "id": "20e335241f403a50",
   "outputs": [],
   "execution_count": 17
  }
 ],
 "metadata": {
  "kernelspec": {
   "display_name": "Python 3 (ipykernel)",
   "language": "python",
   "name": "python3"
  },
  "language_info": {
   "codemirror_mode": {
    "name": "ipython",
    "version": 3
   },
   "file_extension": ".py",
   "mimetype": "text/x-python",
   "name": "python",
   "nbconvert_exporter": "python",
   "pygments_lexer": "ipython3",
   "version": "3.10.12"
  }
 },
 "nbformat": 4,
 "nbformat_minor": 5
}

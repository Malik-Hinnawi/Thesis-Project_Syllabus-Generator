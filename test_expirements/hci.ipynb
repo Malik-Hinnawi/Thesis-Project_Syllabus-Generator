{
 "cells": [
  {
   "cell_type": "code",
   "metadata": {
    "id": "nR-kELADFIYH",
    "ExecuteTime": {
     "end_time": "2024-05-14T10:53:00.264408Z",
     "start_time": "2024-05-14T10:53:00.256332Z"
    }
   },
   "source": [
    "import PyPDF2\n",
    "import nltk\n",
    "import re\n",
    "import pandas as pd\n",
    "from sklearn.feature_extraction.text import TfidfVectorizer\n",
    "from nltk.corpus import stopwords\n",
    "from sklearn.model_selection import train_test_split\n",
    "from joblib import dump\n",
    "import os\n",
    "from sklearn.model_selection import GridSearchCV, cross_val_score\n",
    "from transformers import DistilBertTokenizer\n",
    "import tensorflow as tf\n",
    "\n",
    "from transformers import Trainer\n",
    "from transformers import TrainingArguments\n",
    "from transformers import AutoModelForSequenceClassification\n",
    "\n",
    "#nltk.download('words') # -> do that only once\n",
    "#nltk.download('stopwords') # -> do that only once\n",
    "#nltk.download(\"punkt\") # -> do that only once"
   ],
   "execution_count": 34,
   "outputs": []
  },
  {
   "cell_type": "code",
   "metadata": {
    "id": "d1kongwcFIYI",
    "ExecuteTime": {
     "end_time": "2024-05-14T10:41:13.895623Z",
     "start_time": "2024-05-14T10:41:13.875214Z"
    }
   },
   "source": [
    "def find_contents_page(pdf_reader, start_page, end_page):\n",
    "    result = {}\n",
    "    end_page = min(end_page, len(pdf_reader.pages))\n",
    "    number = None\n",
    "    is_content_started = False\n",
    "\n",
    "    for page_num in range(start_page, end_page):\n",
    "        page_text = pdf_reader.pages[page_num].extract_text()\n",
    "        for line in page_text.split(\"\\n\"):\n",
    "            line = line.replace(\"-\", \" \").replace(\",\",\n",
    "                                                \"\").replace(\":\",\n",
    "                                                        \"\").replace(\";\",\n",
    "                                                                \"\").replace(\"/\",\n",
    "                                                                        \" \").replace(\"&\",\n",
    "                                                                                \" \").replace('\"',\n",
    "                                                                                        \"\").replace(\"'\",\n",
    "                                                                                                   \"\").replace(\"(\",\n",
    "                                                                                                               \"\").replace(\")\", \"\")\n",
    "            match = re.findall(r\"(\\d+)[.]*\\d*[.]*\\d*\\s+[a-zA-Z]*\", line)\n",
    "            line_mod = line.replace(\".\", \"\").replace(\"’\",\n",
    "                                                     \" \").replace(\"?\",\n",
    "                                                                  \"\").replace(\"“\",\n",
    "                                                                              \"\").replace(\"”\",\n",
    "                                                                                          \"\").replace(\"#\",\n",
    "                                                                                                      \"\").replace(\"!\", \"\")\n",
    "            match_2 = re.findall(r\"\\d+[.]*\\d*[.]*\\d*([a-zA-Z|\\s]+)\", line_mod)\n",
    "\n",
    "\n",
    "            if len(match) != 0:\n",
    "                if match[0] in result.keys():\n",
    "                    result[match[0]] += \" \" + match_2[0].rstrip().strip().lower()\n",
    "                else:\n",
    "                    result[match[0]] = match_2[0].rstrip().strip().lower()\n",
    "\n",
    "    return result"
   ],
   "execution_count": 3,
   "outputs": []
  },
  {
   "cell_type": "code",
   "metadata": {
    "colab": {
     "base_uri": "https://localhost:8080/"
    },
    "id": "6PkKOLqtFIYI",
    "outputId": "c88c31ed-14b3-486f-ee06-581785bdf864",
    "ExecuteTime": {
     "end_time": "2024-05-14T10:41:19.814406Z",
     "start_time": "2024-05-14T10:41:18.029066Z"
    }
   },
   "source": [
    "pdf = PyPDF2.PdfReader(\"HCI.pdf\")\n",
    "flattened_contents = find_contents_page(pdf, 5, 10)\n",
    "flattened_contents"
   ],
   "execution_count": 4,
   "outputs": []
  },
  {
   "cell_type": "code",
   "execution_count": 8,
   "metadata": {
    "id": "u6-tK4ahFIYI"
   },
   "source": [
    "# def predict_label(input_string, model):\n",
    "#     segment_size = 300\n",
    "#     input_segments = split_text(input_string, segment_size)\n",
    "#     input_features = vectorizer.transform(input_segments).toarray()\n",
    "#     predicted_labels = model.predict(input_features)\n",
    "#     return predicted_labels"
   ],
   "outputs": []
  },
  {
   "cell_type": "code",
   "execution_count": 9,
   "metadata": {
    "id": "PBLtI27SFIYI"
   },
   "source": [
    "# def predicted_probabilities(input_string, model):\n",
    "#     segment_size = 300\n",
    "#     input_segments = split_text(input_string, segment_size)\n",
    "#     input_features = vectorizer.transform(input_segments).toarray()\n",
    "#     predicted_prob = model.predict_proba(input_features)\n",
    "#     result = zip(predicted_prob[0], model.classes_)\n",
    "#     return result"
   ],
   "outputs": []
  },
  {
   "cell_type": "code",
   "metadata": {
    "id": "xL2KhjxSFIYI",
    "ExecuteTime": {
     "end_time": "2024-05-14T10:41:21.981401Z",
     "start_time": "2024-05-14T10:41:21.962754Z"
    }
   },
   "source": [
    "def add_text_to_content(content, pdf_reader): #NEW\n",
    "    upcoming_chapter = None\n",
    "    chapter = None\n",
    "    buffer = \"\"\n",
    "    for page_number in range(19, 339):\n",
    "        page_content = pdf_reader.pages[page_number].extract_text()\n",
    "\n",
    "        match = re.findall(r\"(\\d+)CHAPTER\", page_content)\n",
    "        match_2 = re.findall(r\"319References\", page_content[:20])\n",
    "\n",
    "        if len(match) != 0:\n",
    "            chapter = int(match[0])\n",
    "            if chapter != 1:\n",
    "                content[str(int(match[0])-1)] += buffer\n",
    "            buffer = \"\"\n",
    "\n",
    "        elif chapter == 8 and len(match_2) != 0:\n",
    "            content[\"8\"] += buffer\n",
    "            return\n",
    "        buffer += \" \" + page_content"
   ],
   "execution_count": 5,
   "outputs": []
  },
  {
   "cell_type": "code",
   "metadata": {
    "id": "suWR8KAqFIYJ",
    "ExecuteTime": {
     "end_time": "2024-05-14T10:41:33.288336Z",
     "start_time": "2024-05-14T10:41:24.661416Z"
    }
   },
   "source": [
    "add_text_to_content(flattened_contents, pdf)"
   ],
   "execution_count": 6,
   "outputs": []
  },
  {
   "cell_type": "code",
   "execution_count": 12,
   "metadata": {
    "id": "Zg6p3fmdFIYJ"
   },
   "source": [
    "#flattened_contents[\"8\"]"
   ],
   "outputs": []
  },
  {
   "cell_type": "code",
   "metadata": {
    "id": "QkBDdjUEFIYJ",
    "ExecuteTime": {
     "end_time": "2024-05-14T10:41:35.644764Z",
     "start_time": "2024-05-14T10:41:35.629315Z"
    }
   },
   "source": [
    "def pre_process_string(string_X):\n",
    "    processed_string = re.sub(r'\\W', ' ', str(string_X))\n",
    "    processed_string = re.sub(r'\\s+[a-zA-Z]\\s+', ' ', processed_string)\n",
    "    processed_string = re.sub(r'\\^[a-zA-Z]\\s+', ' ', processed_string)\n",
    "    processed_string = re.sub(r'\\s+', ' ', processed_string, flags=re.I)\n",
    "    processed_string = re.sub(r'^b\\s+', ' ', processed_string)\n",
    "    processed_string = re.sub(r'[A-Z]+[a-z]+\\d+(\\.\\d+)?', \"\", processed_string)\n",
    "    processed_string = re.sub(r'\\d+(\\.\\d+)?', \"\", processed_string)\n",
    "    processed_string = re.sub(r'\\s+', ' ', processed_string, flags=re.I)\n",
    "    processed_string = re.findall(r'[A-Z]+[a-z]*|[a-z]+', processed_string)\n",
    "    processed_string = ' '.join(processed_string)\n",
    "    return processed_string.strip()"
   ],
   "execution_count": 7,
   "outputs": []
  },
  {
   "cell_type": "code",
   "metadata": {
    "id": "SavTK7ToFIYJ",
    "ExecuteTime": {
     "end_time": "2024-05-14T10:41:38.148766Z",
     "start_time": "2024-05-14T10:41:38.139129Z"
    }
   },
   "source": [
    "dictionary = {\"chapter\":flattened_contents.keys(), \"words\":[]}"
   ],
   "execution_count": 8,
   "outputs": []
  },
  {
   "cell_type": "code",
   "metadata": {
    "id": "fD1VQWiZFIYJ",
    "ExecuteTime": {
     "end_time": "2024-05-14T10:41:39.856717Z",
     "start_time": "2024-05-14T10:41:39.240433Z"
    }
   },
   "source": [
    "for section in dictionary[\"chapter\"]:\n",
    "    dictionary[\"words\"].append(re.sub(r'\\b\\w{20,}\\b', '',\n",
    "                                      pre_process_string(flattened_contents[section]).replace(\" the\", \" \").lower()))"
   ],
   "execution_count": 9,
   "outputs": []
  },
  {
   "cell_type": "code",
   "metadata": {
    "id": "U2cfF_hoFIYJ",
    "ExecuteTime": {
     "end_time": "2024-05-14T10:41:41.138070Z",
     "start_time": "2024-05-14T10:41:41.128803Z"
    }
   },
   "source": [
    "df = pd.DataFrame(dictionary)"
   ],
   "execution_count": 10,
   "outputs": []
  },
  {
   "cell_type": "code",
   "metadata": {
    "id": "PM0EQPpVFIYJ",
    "ExecuteTime": {
     "end_time": "2024-05-14T10:41:42.330866Z",
     "start_time": "2024-05-14T10:41:42.305994Z"
    }
   },
   "source": [
    "df[\"words_number\"] = df[\"words\"].apply(lambda x: len(x.split()))"
   ],
   "execution_count": 11,
   "outputs": []
  },
  {
   "cell_type": "code",
   "metadata": {
    "colab": {
     "base_uri": "https://localhost:8080/",
     "height": 300
    },
    "id": "scOIFLusFIYJ",
    "outputId": "8f301c64-c9cb-4758-c720-029d59815b82",
    "ExecuteTime": {
     "end_time": "2024-05-14T10:41:43.556909Z",
     "start_time": "2024-05-14T10:41:43.523380Z"
    }
   },
   "source": [
    "df"
   ],
   "execution_count": 12,
   "outputs": []
  },
  {
   "cell_type": "markdown",
   "metadata": {
    "id": "g0M92SVDFIYK"
   },
   "source": [
    "### Data Augmentation"
   ]
  },
  {
   "cell_type": "code",
   "metadata": {
    "id": "uNaE96GlFIYL",
    "ExecuteTime": {
     "end_time": "2024-05-14T10:41:45.820366Z",
     "start_time": "2024-05-14T10:41:45.809933Z"
    }
   },
   "source": [
    "def split_text(text, segment_size):\n",
    "    words = text.split()\n",
    "    segments = [words[i:i+segment_size] for i in range(0, len(words), segment_size)]\n",
    "    return [' '.join(segment) for segment in segments]"
   ],
   "execution_count": 13,
   "outputs": []
  },
  {
   "cell_type": "code",
   "metadata": {
    "id": "-Yj121pwFIYL",
    "ExecuteTime": {
     "end_time": "2024-05-14T10:41:47.524012Z",
     "start_time": "2024-05-14T10:41:47.513621Z"
    }
   },
   "source": [
    "def get_augmented_data(df, segment_size):\n",
    "    augmented_data = {\"chapter\": [], \"words\": []}\n",
    "    for index, row in df.iterrows():\n",
    "        chapter = row[\"chapter\"]\n",
    "        words = row[\"words\"]\n",
    "        text_segments = split_text(words, segment_size)\n",
    "        for segment in text_segments:\n",
    "            augmented_data[\"chapter\"].append(chapter)\n",
    "            augmented_data[\"words\"].append(segment)\n",
    "\n",
    "    return pd.DataFrame(augmented_data).sample(frac=1)"
   ],
   "execution_count": 14,
   "outputs": []
  },
  {
   "cell_type": "code",
   "metadata": {
    "id": "71cWtQOyFIYL",
    "ExecuteTime": {
     "end_time": "2024-05-14T10:41:49.650972Z",
     "start_time": "2024-05-14T10:41:49.603678Z"
    }
   },
   "source": [
    "augmented_df = get_augmented_data(df, 300)"
   ],
   "execution_count": 15,
   "outputs": []
  },
  {
   "cell_type": "code",
   "metadata": {
    "colab": {
     "base_uri": "https://localhost:8080/",
     "height": 423
    },
    "id": "oNv4qpLyFIYL",
    "outputId": "00e5c2c3-0602-436c-cf10-c7b0fc40c3e2",
    "ExecuteTime": {
     "end_time": "2024-05-14T10:41:51.287328Z",
     "start_time": "2024-05-14T10:41:51.264953Z"
    }
   },
   "source": [
    "augmented_df"
   ],
   "execution_count": 16,
   "outputs": []
  },
  {
   "cell_type": "code",
   "metadata": {
    "id": "MYoPn262FIYL",
    "ExecuteTime": {
     "end_time": "2024-05-14T10:41:53.244340Z",
     "start_time": "2024-05-14T10:41:53.238843Z"
    }
   },
   "source": [
    "data_texts = augmented_df['words'].to_list()\n",
    "data_labels = augmented_df['chapter'].to_list()"
   ],
   "execution_count": 17,
   "outputs": []
  },
  {
   "cell_type": "markdown",
   "metadata": {
    "id": "OWnpeSPbFIYL"
   },
   "source": [
    "### Machine Learning Algorithms"
   ]
  },
  {
   "cell_type": "code",
   "metadata": {
    "id": "k3rrUM9TFIYM",
    "ExecuteTime": {
     "end_time": "2024-05-14T10:41:54.931088Z",
     "start_time": "2024-05-14T10:41:54.914891Z"
    }
   },
   "source": [
    "train_texts, val_texts, train_labels, val_labels = train_test_split(data_texts,\n",
    "                                                                    data_labels,\n",
    "                                                                    test_size = 0.2,\n",
    "                                                                    random_state = 0)\n",
    "train_texts, test_texts, train_labels, test_labels = train_test_split(train_texts,\n",
    "                                                                      train_labels,\n",
    "                                                                      test_size = 0.01,\n",
    "                                                                      random_state = 0)"
   ],
   "execution_count": 18,
   "outputs": []
  },
  {
   "cell_type": "code",
   "metadata": {
    "colab": {
     "base_uri": "https://localhost:8080/",
     "height": 274,
     "referenced_widgets": [
      "d070965ac62348e9a9b66de52d30979e",
      "01daf76468ed40c38ae2a4ba93075745",
      "9ce94752f0a5457d857a43a2bf8433b5",
      "3c40891850254b01a28b213052ce475f",
      "3d2c5fd6ad6f4476836473c9b17fa2da",
      "bc3c77ef8b164010bfca117a24fd48b8",
      "bf306a46f5374c88b08470e8dc3eb9a3",
      "a02e3b2d119349a68dcd9df6a9fd2efb",
      "56e1e9b84cf94ef8b592ac6b680502d7",
      "1b6d93cd77fd40da94c0da48d4b95897",
      "b33b631018dd44899863f5d43e9bf6c3",
      "8c9426368be04f59b2de9f71c4cac9e1",
      "b1c92350d31d48d88bf8aeafd19ac419",
      "1d646c72836944ef9c8a14df39ce3a54",
      "57da378574f046c396fb8c5fe082502f",
      "74665332f197479e90d41c2a0c1c5889",
      "e5e537c1952a409b96095836e9ddcac4",
      "bdcb90fe581146949d6d6e4e4e9b6f5f",
      "ed09c3dfdb944f77ae27f612f96355a4",
      "3a8bd0ad5f944ab1bbb691aba8992d83",
      "4cdcc8686ba4413f889da7030d5cc2e2",
      "15c6c3c9cfca41f2bb43017a7d5b803e",
      "73d35acf943a49b78e5b226a88b4a5ee",
      "3615c25333e2452090e9fa9b67291724",
      "323082bf296d4d6f927f52dffb9b34ba",
      "5b195cba2278494aa651d2faa9944ff0",
      "2be8392b64c4439ba8295b756e730894",
      "b9b362647575425fb3e5dff5ab069cdd",
      "0c0f357fe1d9477684776a7d768410df",
      "baa31896a0c44fa6b19522a593d32273",
      "f195d834e6d04fdf8d505a07c9a97254",
      "102b3c845aeb47d094899703501bb0ee",
      "1cc6466d6327422a90040327949d7c3c",
      "1bbc9079c1624e818439656ff089b13a",
      "87c8e70f835e4a368eeaa7433994394b",
      "95ec64962d8047d19860844adae6c5bd",
      "eb025b88035847e98a454f1c34e110ed",
      "c44194a3c37b41a18f7dbb2cbf474a57",
      "d1b099d23bb14d309a07b226dc46f690",
      "d273d870ef1c4d7a877c7546018bb392",
      "5d7c873dddad4718892c858cb20756b2",
      "7bc9810098f040589522774b9f02d3e5",
      "46c83981dd444b169f5ac3cefe9b0f9b",
      "11c0af43834e467b823f85bec9816f51"
     ]
    },
    "id": "Vbp79d-6FIYM",
    "outputId": "812b91a7-0f99-4faf-d127-3f48126e8d51",
    "ExecuteTime": {
     "end_time": "2024-05-14T10:42:03.301709Z",
     "start_time": "2024-05-14T10:41:57.226944Z"
    }
   },
   "source": [
    "tokenizer = DistilBertTokenizer.from_pretrained('distilbert-base-uncased')\n",
    "train_encodings = tokenizer(train_texts, truncation = True, padding = True)\n",
    "val_encodings = tokenizer(val_texts, truncation = True, padding = True)"
   ],
   "execution_count": 19,
   "outputs": []
  },
  {
   "cell_type": "code",
   "metadata": {
    "id": "09ifADRRFIYM",
    "ExecuteTime": {
     "end_time": "2024-05-14T11:29:16.511176Z",
     "start_time": "2024-05-14T11:29:15.651663Z"
    }
   },
   "source": [
    "train_dataset = tf.data.Dataset.from_tensor_slices((\n",
    "    dict(train_encodings),\n",
    "    train_labels\n",
    "))\n",
    "\n",
    "\n",
    "val_dataset = tf.data.Dataset.from_tensor_slices((\n",
    "    dict(val_encodings),\n",
    "    val_labels\n",
    "))"
   ],
   "execution_count": 43,
   "outputs": []
  },
  {
   "cell_type": "code",
   "metadata": {
    "colab": {
     "base_uri": "https://localhost:8080/",
     "height": 159,
     "referenced_widgets": [
      "45d51769fe04456b9d57002ad8806f1d",
      "14d7892b2db74e35aa5ec44cff8696ec",
      "ac41d834b85a4a0b84b070882f9dbb20",
      "735899c64d6346548a7f642fc49019d8",
      "bfa93b9231684e37aabe62bb4bdc11b1",
      "eddea12560ec4237aac7020033dcec0c",
      "e6e9c72be14f488ab20cd42d5366eec7",
      "91edd663d2df4a20b0eb097341f9297f",
      "6520f474cd2a45cfb09a20ec4c9dd07f",
      "aab5e05075a14ab58c5452d29fcd0e40",
      "69d7a9ccda274503879fdae1670f96cf"
     ]
    },
    "id": "n8DIqnztFIYM",
    "outputId": "6c6a887e-495c-4cc9-ef08-8412b505169a",
    "ExecuteTime": {
     "end_time": "2024-05-14T10:42:19.707402Z",
     "start_time": "2024-05-14T10:42:18.796026Z"
    }
   },
   "source": "model = AutoModelForSequenceClassification.from_pretrained('distilbert-base-uncased', num_labels=8)",
   "execution_count": 22,
   "outputs": []
  },
  {
   "cell_type": "code",
   "metadata": {
    "colab": {
     "base_uri": "https://localhost:8080/",
     "height": 369
    },
    "id": "9vXdty4PFIYN",
    "outputId": "ce1ebcde-4e12-4468-b6d7-7847e76e1ea5",
    "ExecuteTime": {
     "end_time": "2024-05-14T12:15:45.602285Z",
     "start_time": "2024-05-14T12:15:45.567135Z"
    }
   },
   "source": [
    "training_args = TrainingArguments(\n",
    "    output_dir='./results',\n",
    "    num_train_epochs=7,\n",
    "    per_device_train_batch_size=16,\n",
    "    per_device_eval_batch_size=64,\n",
    "    warmup_steps=500,\n",
    "    weight_decay=1e-5,\n",
    "    logging_dir='./logs',\n",
    "    eval_steps=100,\n",
    "    use_cpu=True,\n",
    "    learning_rate=2e-5,  \n",
    "    evaluation_strategy = \"epoch\",\n",
    ")\n",
    "\n",
    "\n",
    "trainer = Trainer(\n",
    "    model=model,\n",
    "    args=training_args,\n",
    "    train_dataset=train_dataset.batch(batch_size=16),\n",
    "    eval_dataset=val_dataset.batch(batch_size=64),\n",
    "    tokenizer=tokenizer,\n",
    ")"
   ],
   "execution_count": 51,
   "outputs": []
  },
  {
   "metadata": {
    "ExecuteTime": {
     "end_time": "2024-05-14T12:15:52.101434Z",
     "start_time": "2024-05-14T12:15:51.363641Z"
    }
   },
   "cell_type": "code",
   "source": [
    "## Making sure trainer is working:\n",
    "trainer.train()\n",
    "results = trainer.evaluate()\n",
    "print(results)"
   ],
   "execution_count": 52,
   "outputs": []
  },
  {
   "cell_type": "markdown",
   "metadata": {
    "id": "McgkA69fFIYN"
   },
   "source": [
    "## Finding the best model for our book"
   ]
  },
  {
   "cell_type": "markdown",
   "metadata": {
    "id": "ZvZRL3TRFIYN"
   },
   "source": [
    "#### Neural Network"
   ]
  },
  {
   "cell_type": "code",
   "execution_count": null,
   "metadata": {
    "id": "-yFKTKWRFIYN",
    "outputId": "72ec190f-33a9-42dc-e736-dbc5328629e8"
   },
   "source": [
    "# param = [{\"activation\":[\"relu\"],\n",
    "#          \"hidden_layer_sizes\":[(i) for i in range(35, 48, 3)]}]\n",
    "# grid = GridSearchCV(MLPClassifier(max_iter=10000), param_grid = param, cv=5, n_jobs=-1)\n",
    "# grid.fit(X_train, y_train)"
   ],
   "outputs": []
  },
  {
   "cell_type": "code",
   "execution_count": null,
   "metadata": {
    "id": "ZhNlmkDdFIYN",
    "outputId": "7363ce8c-01ed-4891-c54c-ecc342a28afb"
   },
   "source": "# pd.DataFrame(grid.cv_results_)",
   "outputs": []
  },
  {
   "cell_type": "code",
   "execution_count": null,
   "metadata": {
    "id": "f1wizZBnFIYN",
    "outputId": "61d773d5-6c2d-4dd8-abf6-e57fda3b05a4"
   },
   "source": [
    "# mlp = MLPClassifier(max_iter=10000, activation=\"relu\", hidden_layer_sizes=(38))\n",
    "# mlp.fit(X_train, y_train)\n",
    "# get_statistics(mlp, X_test, y_test)\n",
    "# comparison[\"MLP\"] = mlp.score(X_test, y_test)"
   ],
   "outputs": []
  },
  {
   "cell_type": "markdown",
   "metadata": {
    "id": "PQVCc4eSFIYN"
   },
   "source": [
    "#### SVC"
   ]
  },
  {
   "cell_type": "code",
   "execution_count": null,
   "metadata": {
    "id": "SUSsx83sFIYO",
    "outputId": "f0d0cae7-d538-415d-afb7-33d74df2072d"
   },
   "source": [
    "param = {\"kernel\":[\"rbf\"],\n",
    "         \"C\": [1.5, 1.7, 2, 2.2, 2.5, 2.7],\n",
    "         \"gamma\": [0.4, 0.5, 0.6, 0.7, 0.8, 0.9, 1, 1.1, 1.2]}\n",
    "grid = GridSearchCV(SVC(), param_grid=param, cv=4, n_jobs=-1)\n",
    "grid.fit(X_train, y_train)"
   ],
   "outputs": []
  },
  {
   "cell_type": "code",
   "execution_count": null,
   "metadata": {
    "id": "-pI10brqFIYS",
    "outputId": "18355a44-b6fd-4a96-a11f-4d1472f5d3b4"
   },
   "source": [
    "pd.DataFrame(grid.cv_results_)"
   ],
   "outputs": []
  },
  {
   "cell_type": "code",
   "execution_count": null,
   "metadata": {
    "id": "lwPHfBL4FIYS",
    "outputId": "676dffbc-2f6a-4bcb-8504-08020b00f6c3"
   },
   "source": [
    "grid.best_params_"
   ],
   "outputs": []
  },
  {
   "cell_type": "code",
   "execution_count": null,
   "metadata": {
    "id": "8QISjxPzFIYT",
    "outputId": "b4d6803a-4ae8-435b-89b1-b567ccf96859"
   },
   "source": [
    "svc_model = SVC(kernel='rbf', C=2.5, gamma=0.4)\n",
    "svc_model.fit(X_train, y_train)\n",
    "get_statistics(svc_model, X_test, y_test)\n",
    "comparison[\"SVC\"] = svc_model.score(X_test, y_test)"
   ],
   "outputs": []
  },
  {
   "cell_type": "markdown",
   "metadata": {
    "id": "gNCps0PHFIYT"
   },
   "source": [
    "#### Random Forest"
   ]
  },
  {
   "cell_type": "code",
   "execution_count": null,
   "metadata": {
    "id": "O0FKABSSFIYT",
    "outputId": "dc6465fe-4557-4d83-b7d9-3d8dfe218cda"
   },
   "source": [
    "rf_classifier = RandomForestClassifier(n_estimators=1000, random_state=0)\n",
    "rf_classifier.fit(X_train, y_train)\n",
    "get_statistics(rf_classifier, X_test, y_test)\n",
    "comparison[\"Random Forest\"] = rf_classifier.score(X_test, y_test)"
   ],
   "outputs": []
  },
  {
   "cell_type": "markdown",
   "metadata": {
    "id": "ApogPdA8FIYT"
   },
   "source": [
    "#### Logistic Regression"
   ]
  },
  {
   "cell_type": "code",
   "execution_count": null,
   "metadata": {
    "id": "FG1TuhkXFIYT",
    "outputId": "325211b9-23b2-4017-9f6f-5bef91d4d6dc"
   },
   "source": [
    "param = {\"multi_class\":[\"multinomial\"],\n",
    "        \"C\":range(1, 70)}\n",
    "grid = GridSearchCV(LogisticRegression(max_iter=1000), param_grid=param, cv=4, n_jobs=-1)\n",
    "grid.fit(X_train, y_train)"
   ],
   "outputs": []
  },
  {
   "cell_type": "code",
   "execution_count": null,
   "metadata": {
    "id": "46NJDZAIFIYT",
    "outputId": "75b5dec0-e2b2-4d31-957d-ab6c1d14c894"
   },
   "source": [
    "grid.best_params_"
   ],
   "outputs": []
  },
  {
   "cell_type": "code",
   "execution_count": null,
   "metadata": {
    "id": "wIdOfvprFIYU",
    "outputId": "c4e656b2-70ab-4760-c5c9-1a40cee8aa1a"
   },
   "source": [
    "logreg = LogisticRegression(max_iter=1000, multi_class=\"multinomial\", C=33)\n",
    "logreg.fit(X_train, y_train)\n",
    "get_statistics(logreg, X_test, y_test)\n",
    "comparison[\"Logistic Regression\"] = logreg.score(X_test, y_test)"
   ],
   "outputs": []
  },
  {
   "cell_type": "markdown",
   "metadata": {
    "id": "Caer7RLjFIYU"
   },
   "source": [
    "#### Naive Bayes"
   ]
  },
  {
   "cell_type": "code",
   "execution_count": null,
   "metadata": {
    "id": "KDSXquirFIYU",
    "outputId": "e7480b54-5638-43b3-9c55-114d64fbf3cb"
   },
   "source": [
    "param = {\"alpha\":[i*0.001 for i in range(1, 100)]}\n",
    "grid = GridSearchCV(MultinomialNB(), param_grid=param, cv=5, n_jobs=-1)\n",
    "grid.fit(X_train, y_train)"
   ],
   "outputs": []
  },
  {
   "cell_type": "code",
   "execution_count": null,
   "metadata": {
    "id": "T1iK2CNjFIYU",
    "outputId": "7608e216-d826-49f0-d1c6-cc4f10f74994"
   },
   "source": [
    "grid.best_params_"
   ],
   "outputs": []
  },
  {
   "cell_type": "code",
   "execution_count": null,
   "metadata": {
    "id": "TyqkU_VxFIYU",
    "outputId": "1c57cc69-9609-4e17-f446-7f22975f23e6"
   },
   "source": [
    "nb = MultinomialNB(alpha=0.015)\n",
    "nb.fit(X_train, y_train)\n",
    "get_statistics(nb, X_test, y_test)\n",
    "comparison[\"Naive Bayes\"] = nb.score(X_test, y_test)"
   ],
   "outputs": []
  },
  {
   "cell_type": "markdown",
   "metadata": {
    "id": "rNwpiz7vFIYU"
   },
   "source": [
    "#### Comparison"
   ]
  },
  {
   "cell_type": "code",
   "execution_count": null,
   "metadata": {
    "id": "QJIwoaHMFIYU",
    "outputId": "900195fb-e316-4355-f377-bafcdb3a8f24"
   },
   "source": [
    "comparison"
   ],
   "outputs": []
  },
  {
   "cell_type": "code",
   "execution_count": null,
   "metadata": {
    "id": "vBDFRUFcFIYV",
    "outputId": "52212928-c738-42a0-eec3-5e83833654db"
   },
   "source": [
    "models = list(comparison.keys())\n",
    "accuracy = list(comparison.values())\n",
    "\n",
    "plt.figure(figsize=(10, 6))\n",
    "plt.bar(models, accuracy, color=['blue', 'orange', 'green', 'red', 'purple'])\n",
    "plt.title('Comparison of ML Models')\n",
    "plt.xlabel('Machine Learning Models')\n",
    "plt.ylabel('Accuracy')\n",
    "plt.ylim(0.80, 1)\n",
    "plt.show()"
   ],
   "outputs": []
  },
  {
   "cell_type": "markdown",
   "metadata": {
    "id": "XAuWbxFoFIYV"
   },
   "source": [
    "##### Logistic Regression is the best considering its less complexity and accuracy"
   ]
  },
  {
   "cell_type": "markdown",
   "metadata": {
    "id": "PQWE_PMYFIYV"
   },
   "source": [
    "#### Sample prediction"
   ]
  },
  {
   "cell_type": "code",
   "execution_count": null,
   "metadata": {
    "id": "_QgBWl1WFIYV",
    "outputId": "623e6220-2e15-4147-c6b7-d33a32449639"
   },
   "source": [
    "input_string = \"\"\"virtual machines and their relationship to contemporary operating\n",
    "systems. Included is a general description of the hardware and software\n",
    "techniques that make virtualization possible. This chapter provides an\n",
    "overview of computer networks and distributed systems, with a focus on\n",
    "the Internet and TCP/IP.\"\"\"\n",
    "predicted_labels = predict_label(input_string, nb)\n",
    "\n",
    "print(\"Predicted Labels:\", predicted_labels)"
   ],
   "outputs": []
  },
  {
   "cell_type": "code",
   "execution_count": null,
   "metadata": {
    "id": "kKQULIfqFIYV",
    "outputId": "a4bc8310-37f7-4464-bee1-dba5b17e116d"
   },
   "source": [
    "for i, j in predicted_probabilities(input_string, nb):\n",
    "    print(f\"{i} = {j}\")"
   ],
   "outputs": []
  },
  {
   "cell_type": "code",
   "execution_count": null,
   "metadata": {
    "id": "TCeZ_8moFIYV",
    "outputId": "9b2fa57e-874d-4b5c-c823-3f9406e9502e"
   },
   "source": [
    "input_string_2 = \"\"\"In the realm of computer ethics, the concept of protecting original creations,\n",
    "innovations, and expressions is paramount. This includes safeguarding the rights of creators and innovators to\n",
    "control the use and distribution of their work. This protection extends to various forms of digital content,\n",
    "software algorithms, databases, and other intangible assets. Ethical considerations arise in how individuals and\n",
    "organizations respect these rights, avoid plagiarism or unauthorized use, and uphold the principles of fair compensation\n",
    "and acknowledgment for intellectual contributions in the digital sphere.\"\"\"\n",
    "for i, j in predicted_probabilities(input_string_2, nb):\n",
    "    print(f\"{i} = {j}\")"
   ],
   "outputs": []
  },
  {
   "cell_type": "code",
   "execution_count": null,
   "metadata": {
    "id": "NsQBlT4OFIYV",
    "outputId": "29d784bb-8323-425e-f2c6-2f9cb602d938"
   },
   "source": [
    "dump(logreg, 'models/hci-logistic_regression.joblib')\n",
    "dump(vectorizer, 'vectorizers/hci-vectorizer.joblib')"
   ],
   "outputs": []
  },
  {
   "cell_type": "code",
   "execution_count": null,
   "metadata": {
    "id": "x14XhLzfFIYV"
   },
   "source": [],
   "outputs": []
  }
 ],
 "metadata": {
  "kernelspec": {
   "display_name": "Python 3",
   "language": "python",
   "name": "python3"
  },
  "language_info": {
   "codemirror_mode": {
    "name": "ipython",
    "version": 3
   },
   "file_extension": ".py",
   "mimetype": "text/x-python",
   "name": "python",
   "nbconvert_exporter": "python",
   "pygments_lexer": "ipython3",
   "version": "3.9.6"
  },
  "colab": {
   "provenance": []
  },
  "widgets": {
   "application/vnd.jupyter.widget-state+json": {
    "d070965ac62348e9a9b66de52d30979e": {
     "model_module": "@jupyter-widgets/controls",
     "model_name": "HBoxModel",
     "model_module_version": "1.5.0",
     "state": {
      "_dom_classes": [],
      "_model_module": "@jupyter-widgets/controls",
      "_model_module_version": "1.5.0",
      "_model_name": "HBoxModel",
      "_view_count": null,
      "_view_module": "@jupyter-widgets/controls",
      "_view_module_version": "1.5.0",
      "_view_name": "HBoxView",
      "box_style": "",
      "children": [
       "IPY_MODEL_01daf76468ed40c38ae2a4ba93075745",
       "IPY_MODEL_9ce94752f0a5457d857a43a2bf8433b5",
       "IPY_MODEL_3c40891850254b01a28b213052ce475f"
      ],
      "layout": "IPY_MODEL_3d2c5fd6ad6f4476836473c9b17fa2da"
     }
    },
    "01daf76468ed40c38ae2a4ba93075745": {
     "model_module": "@jupyter-widgets/controls",
     "model_name": "HTMLModel",
     "model_module_version": "1.5.0",
     "state": {
      "_dom_classes": [],
      "_model_module": "@jupyter-widgets/controls",
      "_model_module_version": "1.5.0",
      "_model_name": "HTMLModel",
      "_view_count": null,
      "_view_module": "@jupyter-widgets/controls",
      "_view_module_version": "1.5.0",
      "_view_name": "HTMLView",
      "description": "",
      "description_tooltip": null,
      "layout": "IPY_MODEL_bc3c77ef8b164010bfca117a24fd48b8",
      "placeholder": "​",
      "style": "IPY_MODEL_bf306a46f5374c88b08470e8dc3eb9a3",
      "value": "tokenizer_config.json: 100%"
     }
    },
    "9ce94752f0a5457d857a43a2bf8433b5": {
     "model_module": "@jupyter-widgets/controls",
     "model_name": "FloatProgressModel",
     "model_module_version": "1.5.0",
     "state": {
      "_dom_classes": [],
      "_model_module": "@jupyter-widgets/controls",
      "_model_module_version": "1.5.0",
      "_model_name": "FloatProgressModel",
      "_view_count": null,
      "_view_module": "@jupyter-widgets/controls",
      "_view_module_version": "1.5.0",
      "_view_name": "ProgressView",
      "bar_style": "success",
      "description": "",
      "description_tooltip": null,
      "layout": "IPY_MODEL_a02e3b2d119349a68dcd9df6a9fd2efb",
      "max": 48,
      "min": 0,
      "orientation": "horizontal",
      "style": "IPY_MODEL_56e1e9b84cf94ef8b592ac6b680502d7",
      "value": 48
     }
    },
    "3c40891850254b01a28b213052ce475f": {
     "model_module": "@jupyter-widgets/controls",
     "model_name": "HTMLModel",
     "model_module_version": "1.5.0",
     "state": {
      "_dom_classes": [],
      "_model_module": "@jupyter-widgets/controls",
      "_model_module_version": "1.5.0",
      "_model_name": "HTMLModel",
      "_view_count": null,
      "_view_module": "@jupyter-widgets/controls",
      "_view_module_version": "1.5.0",
      "_view_name": "HTMLView",
      "description": "",
      "description_tooltip": null,
      "layout": "IPY_MODEL_1b6d93cd77fd40da94c0da48d4b95897",
      "placeholder": "​",
      "style": "IPY_MODEL_b33b631018dd44899863f5d43e9bf6c3",
      "value": " 48.0/48.0 [00:00&lt;00:00, 632B/s]"
     }
    },
    "3d2c5fd6ad6f4476836473c9b17fa2da": {
     "model_module": "@jupyter-widgets/base",
     "model_name": "LayoutModel",
     "model_module_version": "1.2.0",
     "state": {
      "_model_module": "@jupyter-widgets/base",
      "_model_module_version": "1.2.0",
      "_model_name": "LayoutModel",
      "_view_count": null,
      "_view_module": "@jupyter-widgets/base",
      "_view_module_version": "1.2.0",
      "_view_name": "LayoutView",
      "align_content": null,
      "align_items": null,
      "align_self": null,
      "border": null,
      "bottom": null,
      "display": null,
      "flex": null,
      "flex_flow": null,
      "grid_area": null,
      "grid_auto_columns": null,
      "grid_auto_flow": null,
      "grid_auto_rows": null,
      "grid_column": null,
      "grid_gap": null,
      "grid_row": null,
      "grid_template_areas": null,
      "grid_template_columns": null,
      "grid_template_rows": null,
      "height": null,
      "justify_content": null,
      "justify_items": null,
      "left": null,
      "margin": null,
      "max_height": null,
      "max_width": null,
      "min_height": null,
      "min_width": null,
      "object_fit": null,
      "object_position": null,
      "order": null,
      "overflow": null,
      "overflow_x": null,
      "overflow_y": null,
      "padding": null,
      "right": null,
      "top": null,
      "visibility": null,
      "width": null
     }
    },
    "bc3c77ef8b164010bfca117a24fd48b8": {
     "model_module": "@jupyter-widgets/base",
     "model_name": "LayoutModel",
     "model_module_version": "1.2.0",
     "state": {
      "_model_module": "@jupyter-widgets/base",
      "_model_module_version": "1.2.0",
      "_model_name": "LayoutModel",
      "_view_count": null,
      "_view_module": "@jupyter-widgets/base",
      "_view_module_version": "1.2.0",
      "_view_name": "LayoutView",
      "align_content": null,
      "align_items": null,
      "align_self": null,
      "border": null,
      "bottom": null,
      "display": null,
      "flex": null,
      "flex_flow": null,
      "grid_area": null,
      "grid_auto_columns": null,
      "grid_auto_flow": null,
      "grid_auto_rows": null,
      "grid_column": null,
      "grid_gap": null,
      "grid_row": null,
      "grid_template_areas": null,
      "grid_template_columns": null,
      "grid_template_rows": null,
      "height": null,
      "justify_content": null,
      "justify_items": null,
      "left": null,
      "margin": null,
      "max_height": null,
      "max_width": null,
      "min_height": null,
      "min_width": null,
      "object_fit": null,
      "object_position": null,
      "order": null,
      "overflow": null,
      "overflow_x": null,
      "overflow_y": null,
      "padding": null,
      "right": null,
      "top": null,
      "visibility": null,
      "width": null
     }
    },
    "bf306a46f5374c88b08470e8dc3eb9a3": {
     "model_module": "@jupyter-widgets/controls",
     "model_name": "DescriptionStyleModel",
     "model_module_version": "1.5.0",
     "state": {
      "_model_module": "@jupyter-widgets/controls",
      "_model_module_version": "1.5.0",
      "_model_name": "DescriptionStyleModel",
      "_view_count": null,
      "_view_module": "@jupyter-widgets/base",
      "_view_module_version": "1.2.0",
      "_view_name": "StyleView",
      "description_width": ""
     }
    },
    "a02e3b2d119349a68dcd9df6a9fd2efb": {
     "model_module": "@jupyter-widgets/base",
     "model_name": "LayoutModel",
     "model_module_version": "1.2.0",
     "state": {
      "_model_module": "@jupyter-widgets/base",
      "_model_module_version": "1.2.0",
      "_model_name": "LayoutModel",
      "_view_count": null,
      "_view_module": "@jupyter-widgets/base",
      "_view_module_version": "1.2.0",
      "_view_name": "LayoutView",
      "align_content": null,
      "align_items": null,
      "align_self": null,
      "border": null,
      "bottom": null,
      "display": null,
      "flex": null,
      "flex_flow": null,
      "grid_area": null,
      "grid_auto_columns": null,
      "grid_auto_flow": null,
      "grid_auto_rows": null,
      "grid_column": null,
      "grid_gap": null,
      "grid_row": null,
      "grid_template_areas": null,
      "grid_template_columns": null,
      "grid_template_rows": null,
      "height": null,
      "justify_content": null,
      "justify_items": null,
      "left": null,
      "margin": null,
      "max_height": null,
      "max_width": null,
      "min_height": null,
      "min_width": null,
      "object_fit": null,
      "object_position": null,
      "order": null,
      "overflow": null,
      "overflow_x": null,
      "overflow_y": null,
      "padding": null,
      "right": null,
      "top": null,
      "visibility": null,
      "width": null
     }
    },
    "56e1e9b84cf94ef8b592ac6b680502d7": {
     "model_module": "@jupyter-widgets/controls",
     "model_name": "ProgressStyleModel",
     "model_module_version": "1.5.0",
     "state": {
      "_model_module": "@jupyter-widgets/controls",
      "_model_module_version": "1.5.0",
      "_model_name": "ProgressStyleModel",
      "_view_count": null,
      "_view_module": "@jupyter-widgets/base",
      "_view_module_version": "1.2.0",
      "_view_name": "StyleView",
      "bar_color": null,
      "description_width": ""
     }
    },
    "1b6d93cd77fd40da94c0da48d4b95897": {
     "model_module": "@jupyter-widgets/base",
     "model_name": "LayoutModel",
     "model_module_version": "1.2.0",
     "state": {
      "_model_module": "@jupyter-widgets/base",
      "_model_module_version": "1.2.0",
      "_model_name": "LayoutModel",
      "_view_count": null,
      "_view_module": "@jupyter-widgets/base",
      "_view_module_version": "1.2.0",
      "_view_name": "LayoutView",
      "align_content": null,
      "align_items": null,
      "align_self": null,
      "border": null,
      "bottom": null,
      "display": null,
      "flex": null,
      "flex_flow": null,
      "grid_area": null,
      "grid_auto_columns": null,
      "grid_auto_flow": null,
      "grid_auto_rows": null,
      "grid_column": null,
      "grid_gap": null,
      "grid_row": null,
      "grid_template_areas": null,
      "grid_template_columns": null,
      "grid_template_rows": null,
      "height": null,
      "justify_content": null,
      "justify_items": null,
      "left": null,
      "margin": null,
      "max_height": null,
      "max_width": null,
      "min_height": null,
      "min_width": null,
      "object_fit": null,
      "object_position": null,
      "order": null,
      "overflow": null,
      "overflow_x": null,
      "overflow_y": null,
      "padding": null,
      "right": null,
      "top": null,
      "visibility": null,
      "width": null
     }
    },
    "b33b631018dd44899863f5d43e9bf6c3": {
     "model_module": "@jupyter-widgets/controls",
     "model_name": "DescriptionStyleModel",
     "model_module_version": "1.5.0",
     "state": {
      "_model_module": "@jupyter-widgets/controls",
      "_model_module_version": "1.5.0",
      "_model_name": "DescriptionStyleModel",
      "_view_count": null,
      "_view_module": "@jupyter-widgets/base",
      "_view_module_version": "1.2.0",
      "_view_name": "StyleView",
      "description_width": ""
     }
    },
    "8c9426368be04f59b2de9f71c4cac9e1": {
     "model_module": "@jupyter-widgets/controls",
     "model_name": "HBoxModel",
     "model_module_version": "1.5.0",
     "state": {
      "_dom_classes": [],
      "_model_module": "@jupyter-widgets/controls",
      "_model_module_version": "1.5.0",
      "_model_name": "HBoxModel",
      "_view_count": null,
      "_view_module": "@jupyter-widgets/controls",
      "_view_module_version": "1.5.0",
      "_view_name": "HBoxView",
      "box_style": "",
      "children": [
       "IPY_MODEL_b1c92350d31d48d88bf8aeafd19ac419",
       "IPY_MODEL_1d646c72836944ef9c8a14df39ce3a54",
       "IPY_MODEL_57da378574f046c396fb8c5fe082502f"
      ],
      "layout": "IPY_MODEL_74665332f197479e90d41c2a0c1c5889"
     }
    },
    "b1c92350d31d48d88bf8aeafd19ac419": {
     "model_module": "@jupyter-widgets/controls",
     "model_name": "HTMLModel",
     "model_module_version": "1.5.0",
     "state": {
      "_dom_classes": [],
      "_model_module": "@jupyter-widgets/controls",
      "_model_module_version": "1.5.0",
      "_model_name": "HTMLModel",
      "_view_count": null,
      "_view_module": "@jupyter-widgets/controls",
      "_view_module_version": "1.5.0",
      "_view_name": "HTMLView",
      "description": "",
      "description_tooltip": null,
      "layout": "IPY_MODEL_e5e537c1952a409b96095836e9ddcac4",
      "placeholder": "​",
      "style": "IPY_MODEL_bdcb90fe581146949d6d6e4e4e9b6f5f",
      "value": "vocab.txt: 100%"
     }
    },
    "1d646c72836944ef9c8a14df39ce3a54": {
     "model_module": "@jupyter-widgets/controls",
     "model_name": "FloatProgressModel",
     "model_module_version": "1.5.0",
     "state": {
      "_dom_classes": [],
      "_model_module": "@jupyter-widgets/controls",
      "_model_module_version": "1.5.0",
      "_model_name": "FloatProgressModel",
      "_view_count": null,
      "_view_module": "@jupyter-widgets/controls",
      "_view_module_version": "1.5.0",
      "_view_name": "ProgressView",
      "bar_style": "success",
      "description": "",
      "description_tooltip": null,
      "layout": "IPY_MODEL_ed09c3dfdb944f77ae27f612f96355a4",
      "max": 231508,
      "min": 0,
      "orientation": "horizontal",
      "style": "IPY_MODEL_3a8bd0ad5f944ab1bbb691aba8992d83",
      "value": 231508
     }
    },
    "57da378574f046c396fb8c5fe082502f": {
     "model_module": "@jupyter-widgets/controls",
     "model_name": "HTMLModel",
     "model_module_version": "1.5.0",
     "state": {
      "_dom_classes": [],
      "_model_module": "@jupyter-widgets/controls",
      "_model_module_version": "1.5.0",
      "_model_name": "HTMLModel",
      "_view_count": null,
      "_view_module": "@jupyter-widgets/controls",
      "_view_module_version": "1.5.0",
      "_view_name": "HTMLView",
      "description": "",
      "description_tooltip": null,
      "layout": "IPY_MODEL_4cdcc8686ba4413f889da7030d5cc2e2",
      "placeholder": "​",
      "style": "IPY_MODEL_15c6c3c9cfca41f2bb43017a7d5b803e",
      "value": " 232k/232k [00:00&lt;00:00, 3.72MB/s]"
     }
    },
    "74665332f197479e90d41c2a0c1c5889": {
     "model_module": "@jupyter-widgets/base",
     "model_name": "LayoutModel",
     "model_module_version": "1.2.0",
     "state": {
      "_model_module": "@jupyter-widgets/base",
      "_model_module_version": "1.2.0",
      "_model_name": "LayoutModel",
      "_view_count": null,
      "_view_module": "@jupyter-widgets/base",
      "_view_module_version": "1.2.0",
      "_view_name": "LayoutView",
      "align_content": null,
      "align_items": null,
      "align_self": null,
      "border": null,
      "bottom": null,
      "display": null,
      "flex": null,
      "flex_flow": null,
      "grid_area": null,
      "grid_auto_columns": null,
      "grid_auto_flow": null,
      "grid_auto_rows": null,
      "grid_column": null,
      "grid_gap": null,
      "grid_row": null,
      "grid_template_areas": null,
      "grid_template_columns": null,
      "grid_template_rows": null,
      "height": null,
      "justify_content": null,
      "justify_items": null,
      "left": null,
      "margin": null,
      "max_height": null,
      "max_width": null,
      "min_height": null,
      "min_width": null,
      "object_fit": null,
      "object_position": null,
      "order": null,
      "overflow": null,
      "overflow_x": null,
      "overflow_y": null,
      "padding": null,
      "right": null,
      "top": null,
      "visibility": null,
      "width": null
     }
    },
    "e5e537c1952a409b96095836e9ddcac4": {
     "model_module": "@jupyter-widgets/base",
     "model_name": "LayoutModel",
     "model_module_version": "1.2.0",
     "state": {
      "_model_module": "@jupyter-widgets/base",
      "_model_module_version": "1.2.0",
      "_model_name": "LayoutModel",
      "_view_count": null,
      "_view_module": "@jupyter-widgets/base",
      "_view_module_version": "1.2.0",
      "_view_name": "LayoutView",
      "align_content": null,
      "align_items": null,
      "align_self": null,
      "border": null,
      "bottom": null,
      "display": null,
      "flex": null,
      "flex_flow": null,
      "grid_area": null,
      "grid_auto_columns": null,
      "grid_auto_flow": null,
      "grid_auto_rows": null,
      "grid_column": null,
      "grid_gap": null,
      "grid_row": null,
      "grid_template_areas": null,
      "grid_template_columns": null,
      "grid_template_rows": null,
      "height": null,
      "justify_content": null,
      "justify_items": null,
      "left": null,
      "margin": null,
      "max_height": null,
      "max_width": null,
      "min_height": null,
      "min_width": null,
      "object_fit": null,
      "object_position": null,
      "order": null,
      "overflow": null,
      "overflow_x": null,
      "overflow_y": null,
      "padding": null,
      "right": null,
      "top": null,
      "visibility": null,
      "width": null
     }
    },
    "bdcb90fe581146949d6d6e4e4e9b6f5f": {
     "model_module": "@jupyter-widgets/controls",
     "model_name": "DescriptionStyleModel",
     "model_module_version": "1.5.0",
     "state": {
      "_model_module": "@jupyter-widgets/controls",
      "_model_module_version": "1.5.0",
      "_model_name": "DescriptionStyleModel",
      "_view_count": null,
      "_view_module": "@jupyter-widgets/base",
      "_view_module_version": "1.2.0",
      "_view_name": "StyleView",
      "description_width": ""
     }
    },
    "ed09c3dfdb944f77ae27f612f96355a4": {
     "model_module": "@jupyter-widgets/base",
     "model_name": "LayoutModel",
     "model_module_version": "1.2.0",
     "state": {
      "_model_module": "@jupyter-widgets/base",
      "_model_module_version": "1.2.0",
      "_model_name": "LayoutModel",
      "_view_count": null,
      "_view_module": "@jupyter-widgets/base",
      "_view_module_version": "1.2.0",
      "_view_name": "LayoutView",
      "align_content": null,
      "align_items": null,
      "align_self": null,
      "border": null,
      "bottom": null,
      "display": null,
      "flex": null,
      "flex_flow": null,
      "grid_area": null,
      "grid_auto_columns": null,
      "grid_auto_flow": null,
      "grid_auto_rows": null,
      "grid_column": null,
      "grid_gap": null,
      "grid_row": null,
      "grid_template_areas": null,
      "grid_template_columns": null,
      "grid_template_rows": null,
      "height": null,
      "justify_content": null,
      "justify_items": null,
      "left": null,
      "margin": null,
      "max_height": null,
      "max_width": null,
      "min_height": null,
      "min_width": null,
      "object_fit": null,
      "object_position": null,
      "order": null,
      "overflow": null,
      "overflow_x": null,
      "overflow_y": null,
      "padding": null,
      "right": null,
      "top": null,
      "visibility": null,
      "width": null
     }
    },
    "3a8bd0ad5f944ab1bbb691aba8992d83": {
     "model_module": "@jupyter-widgets/controls",
     "model_name": "ProgressStyleModel",
     "model_module_version": "1.5.0",
     "state": {
      "_model_module": "@jupyter-widgets/controls",
      "_model_module_version": "1.5.0",
      "_model_name": "ProgressStyleModel",
      "_view_count": null,
      "_view_module": "@jupyter-widgets/base",
      "_view_module_version": "1.2.0",
      "_view_name": "StyleView",
      "bar_color": null,
      "description_width": ""
     }
    },
    "4cdcc8686ba4413f889da7030d5cc2e2": {
     "model_module": "@jupyter-widgets/base",
     "model_name": "LayoutModel",
     "model_module_version": "1.2.0",
     "state": {
      "_model_module": "@jupyter-widgets/base",
      "_model_module_version": "1.2.0",
      "_model_name": "LayoutModel",
      "_view_count": null,
      "_view_module": "@jupyter-widgets/base",
      "_view_module_version": "1.2.0",
      "_view_name": "LayoutView",
      "align_content": null,
      "align_items": null,
      "align_self": null,
      "border": null,
      "bottom": null,
      "display": null,
      "flex": null,
      "flex_flow": null,
      "grid_area": null,
      "grid_auto_columns": null,
      "grid_auto_flow": null,
      "grid_auto_rows": null,
      "grid_column": null,
      "grid_gap": null,
      "grid_row": null,
      "grid_template_areas": null,
      "grid_template_columns": null,
      "grid_template_rows": null,
      "height": null,
      "justify_content": null,
      "justify_items": null,
      "left": null,
      "margin": null,
      "max_height": null,
      "max_width": null,
      "min_height": null,
      "min_width": null,
      "object_fit": null,
      "object_position": null,
      "order": null,
      "overflow": null,
      "overflow_x": null,
      "overflow_y": null,
      "padding": null,
      "right": null,
      "top": null,
      "visibility": null,
      "width": null
     }
    },
    "15c6c3c9cfca41f2bb43017a7d5b803e": {
     "model_module": "@jupyter-widgets/controls",
     "model_name": "DescriptionStyleModel",
     "model_module_version": "1.5.0",
     "state": {
      "_model_module": "@jupyter-widgets/controls",
      "_model_module_version": "1.5.0",
      "_model_name": "DescriptionStyleModel",
      "_view_count": null,
      "_view_module": "@jupyter-widgets/base",
      "_view_module_version": "1.2.0",
      "_view_name": "StyleView",
      "description_width": ""
     }
    },
    "73d35acf943a49b78e5b226a88b4a5ee": {
     "model_module": "@jupyter-widgets/controls",
     "model_name": "HBoxModel",
     "model_module_version": "1.5.0",
     "state": {
      "_dom_classes": [],
      "_model_module": "@jupyter-widgets/controls",
      "_model_module_version": "1.5.0",
      "_model_name": "HBoxModel",
      "_view_count": null,
      "_view_module": "@jupyter-widgets/controls",
      "_view_module_version": "1.5.0",
      "_view_name": "HBoxView",
      "box_style": "",
      "children": [
       "IPY_MODEL_3615c25333e2452090e9fa9b67291724",
       "IPY_MODEL_323082bf296d4d6f927f52dffb9b34ba",
       "IPY_MODEL_5b195cba2278494aa651d2faa9944ff0"
      ],
      "layout": "IPY_MODEL_2be8392b64c4439ba8295b756e730894"
     }
    },
    "3615c25333e2452090e9fa9b67291724": {
     "model_module": "@jupyter-widgets/controls",
     "model_name": "HTMLModel",
     "model_module_version": "1.5.0",
     "state": {
      "_dom_classes": [],
      "_model_module": "@jupyter-widgets/controls",
      "_model_module_version": "1.5.0",
      "_model_name": "HTMLModel",
      "_view_count": null,
      "_view_module": "@jupyter-widgets/controls",
      "_view_module_version": "1.5.0",
      "_view_name": "HTMLView",
      "description": "",
      "description_tooltip": null,
      "layout": "IPY_MODEL_b9b362647575425fb3e5dff5ab069cdd",
      "placeholder": "​",
      "style": "IPY_MODEL_0c0f357fe1d9477684776a7d768410df",
      "value": "tokenizer.json: 100%"
     }
    },
    "323082bf296d4d6f927f52dffb9b34ba": {
     "model_module": "@jupyter-widgets/controls",
     "model_name": "FloatProgressModel",
     "model_module_version": "1.5.0",
     "state": {
      "_dom_classes": [],
      "_model_module": "@jupyter-widgets/controls",
      "_model_module_version": "1.5.0",
      "_model_name": "FloatProgressModel",
      "_view_count": null,
      "_view_module": "@jupyter-widgets/controls",
      "_view_module_version": "1.5.0",
      "_view_name": "ProgressView",
      "bar_style": "success",
      "description": "",
      "description_tooltip": null,
      "layout": "IPY_MODEL_baa31896a0c44fa6b19522a593d32273",
      "max": 466062,
      "min": 0,
      "orientation": "horizontal",
      "style": "IPY_MODEL_f195d834e6d04fdf8d505a07c9a97254",
      "value": 466062
     }
    },
    "5b195cba2278494aa651d2faa9944ff0": {
     "model_module": "@jupyter-widgets/controls",
     "model_name": "HTMLModel",
     "model_module_version": "1.5.0",
     "state": {
      "_dom_classes": [],
      "_model_module": "@jupyter-widgets/controls",
      "_model_module_version": "1.5.0",
      "_model_name": "HTMLModel",
      "_view_count": null,
      "_view_module": "@jupyter-widgets/controls",
      "_view_module_version": "1.5.0",
      "_view_name": "HTMLView",
      "description": "",
      "description_tooltip": null,
      "layout": "IPY_MODEL_102b3c845aeb47d094899703501bb0ee",
      "placeholder": "​",
      "style": "IPY_MODEL_1cc6466d6327422a90040327949d7c3c",
      "value": " 466k/466k [00:00&lt;00:00, 7.78MB/s]"
     }
    },
    "2be8392b64c4439ba8295b756e730894": {
     "model_module": "@jupyter-widgets/base",
     "model_name": "LayoutModel",
     "model_module_version": "1.2.0",
     "state": {
      "_model_module": "@jupyter-widgets/base",
      "_model_module_version": "1.2.0",
      "_model_name": "LayoutModel",
      "_view_count": null,
      "_view_module": "@jupyter-widgets/base",
      "_view_module_version": "1.2.0",
      "_view_name": "LayoutView",
      "align_content": null,
      "align_items": null,
      "align_self": null,
      "border": null,
      "bottom": null,
      "display": null,
      "flex": null,
      "flex_flow": null,
      "grid_area": null,
      "grid_auto_columns": null,
      "grid_auto_flow": null,
      "grid_auto_rows": null,
      "grid_column": null,
      "grid_gap": null,
      "grid_row": null,
      "grid_template_areas": null,
      "grid_template_columns": null,
      "grid_template_rows": null,
      "height": null,
      "justify_content": null,
      "justify_items": null,
      "left": null,
      "margin": null,
      "max_height": null,
      "max_width": null,
      "min_height": null,
      "min_width": null,
      "object_fit": null,
      "object_position": null,
      "order": null,
      "overflow": null,
      "overflow_x": null,
      "overflow_y": null,
      "padding": null,
      "right": null,
      "top": null,
      "visibility": null,
      "width": null
     }
    },
    "b9b362647575425fb3e5dff5ab069cdd": {
     "model_module": "@jupyter-widgets/base",
     "model_name": "LayoutModel",
     "model_module_version": "1.2.0",
     "state": {
      "_model_module": "@jupyter-widgets/base",
      "_model_module_version": "1.2.0",
      "_model_name": "LayoutModel",
      "_view_count": null,
      "_view_module": "@jupyter-widgets/base",
      "_view_module_version": "1.2.0",
      "_view_name": "LayoutView",
      "align_content": null,
      "align_items": null,
      "align_self": null,
      "border": null,
      "bottom": null,
      "display": null,
      "flex": null,
      "flex_flow": null,
      "grid_area": null,
      "grid_auto_columns": null,
      "grid_auto_flow": null,
      "grid_auto_rows": null,
      "grid_column": null,
      "grid_gap": null,
      "grid_row": null,
      "grid_template_areas": null,
      "grid_template_columns": null,
      "grid_template_rows": null,
      "height": null,
      "justify_content": null,
      "justify_items": null,
      "left": null,
      "margin": null,
      "max_height": null,
      "max_width": null,
      "min_height": null,
      "min_width": null,
      "object_fit": null,
      "object_position": null,
      "order": null,
      "overflow": null,
      "overflow_x": null,
      "overflow_y": null,
      "padding": null,
      "right": null,
      "top": null,
      "visibility": null,
      "width": null
     }
    },
    "0c0f357fe1d9477684776a7d768410df": {
     "model_module": "@jupyter-widgets/controls",
     "model_name": "DescriptionStyleModel",
     "model_module_version": "1.5.0",
     "state": {
      "_model_module": "@jupyter-widgets/controls",
      "_model_module_version": "1.5.0",
      "_model_name": "DescriptionStyleModel",
      "_view_count": null,
      "_view_module": "@jupyter-widgets/base",
      "_view_module_version": "1.2.0",
      "_view_name": "StyleView",
      "description_width": ""
     }
    },
    "baa31896a0c44fa6b19522a593d32273": {
     "model_module": "@jupyter-widgets/base",
     "model_name": "LayoutModel",
     "model_module_version": "1.2.0",
     "state": {
      "_model_module": "@jupyter-widgets/base",
      "_model_module_version": "1.2.0",
      "_model_name": "LayoutModel",
      "_view_count": null,
      "_view_module": "@jupyter-widgets/base",
      "_view_module_version": "1.2.0",
      "_view_name": "LayoutView",
      "align_content": null,
      "align_items": null,
      "align_self": null,
      "border": null,
      "bottom": null,
      "display": null,
      "flex": null,
      "flex_flow": null,
      "grid_area": null,
      "grid_auto_columns": null,
      "grid_auto_flow": null,
      "grid_auto_rows": null,
      "grid_column": null,
      "grid_gap": null,
      "grid_row": null,
      "grid_template_areas": null,
      "grid_template_columns": null,
      "grid_template_rows": null,
      "height": null,
      "justify_content": null,
      "justify_items": null,
      "left": null,
      "margin": null,
      "max_height": null,
      "max_width": null,
      "min_height": null,
      "min_width": null,
      "object_fit": null,
      "object_position": null,
      "order": null,
      "overflow": null,
      "overflow_x": null,
      "overflow_y": null,
      "padding": null,
      "right": null,
      "top": null,
      "visibility": null,
      "width": null
     }
    },
    "f195d834e6d04fdf8d505a07c9a97254": {
     "model_module": "@jupyter-widgets/controls",
     "model_name": "ProgressStyleModel",
     "model_module_version": "1.5.0",
     "state": {
      "_model_module": "@jupyter-widgets/controls",
      "_model_module_version": "1.5.0",
      "_model_name": "ProgressStyleModel",
      "_view_count": null,
      "_view_module": "@jupyter-widgets/base",
      "_view_module_version": "1.2.0",
      "_view_name": "StyleView",
      "bar_color": null,
      "description_width": ""
     }
    },
    "102b3c845aeb47d094899703501bb0ee": {
     "model_module": "@jupyter-widgets/base",
     "model_name": "LayoutModel",
     "model_module_version": "1.2.0",
     "state": {
      "_model_module": "@jupyter-widgets/base",
      "_model_module_version": "1.2.0",
      "_model_name": "LayoutModel",
      "_view_count": null,
      "_view_module": "@jupyter-widgets/base",
      "_view_module_version": "1.2.0",
      "_view_name": "LayoutView",
      "align_content": null,
      "align_items": null,
      "align_self": null,
      "border": null,
      "bottom": null,
      "display": null,
      "flex": null,
      "flex_flow": null,
      "grid_area": null,
      "grid_auto_columns": null,
      "grid_auto_flow": null,
      "grid_auto_rows": null,
      "grid_column": null,
      "grid_gap": null,
      "grid_row": null,
      "grid_template_areas": null,
      "grid_template_columns": null,
      "grid_template_rows": null,
      "height": null,
      "justify_content": null,
      "justify_items": null,
      "left": null,
      "margin": null,
      "max_height": null,
      "max_width": null,
      "min_height": null,
      "min_width": null,
      "object_fit": null,
      "object_position": null,
      "order": null,
      "overflow": null,
      "overflow_x": null,
      "overflow_y": null,
      "padding": null,
      "right": null,
      "top": null,
      "visibility": null,
      "width": null
     }
    },
    "1cc6466d6327422a90040327949d7c3c": {
     "model_module": "@jupyter-widgets/controls",
     "model_name": "DescriptionStyleModel",
     "model_module_version": "1.5.0",
     "state": {
      "_model_module": "@jupyter-widgets/controls",
      "_model_module_version": "1.5.0",
      "_model_name": "DescriptionStyleModel",
      "_view_count": null,
      "_view_module": "@jupyter-widgets/base",
      "_view_module_version": "1.2.0",
      "_view_name": "StyleView",
      "description_width": ""
     }
    },
    "1bbc9079c1624e818439656ff089b13a": {
     "model_module": "@jupyter-widgets/controls",
     "model_name": "HBoxModel",
     "model_module_version": "1.5.0",
     "state": {
      "_dom_classes": [],
      "_model_module": "@jupyter-widgets/controls",
      "_model_module_version": "1.5.0",
      "_model_name": "HBoxModel",
      "_view_count": null,
      "_view_module": "@jupyter-widgets/controls",
      "_view_module_version": "1.5.0",
      "_view_name": "HBoxView",
      "box_style": "",
      "children": [
       "IPY_MODEL_87c8e70f835e4a368eeaa7433994394b",
       "IPY_MODEL_95ec64962d8047d19860844adae6c5bd",
       "IPY_MODEL_eb025b88035847e98a454f1c34e110ed"
      ],
      "layout": "IPY_MODEL_c44194a3c37b41a18f7dbb2cbf474a57"
     }
    },
    "87c8e70f835e4a368eeaa7433994394b": {
     "model_module": "@jupyter-widgets/controls",
     "model_name": "HTMLModel",
     "model_module_version": "1.5.0",
     "state": {
      "_dom_classes": [],
      "_model_module": "@jupyter-widgets/controls",
      "_model_module_version": "1.5.0",
      "_model_name": "HTMLModel",
      "_view_count": null,
      "_view_module": "@jupyter-widgets/controls",
      "_view_module_version": "1.5.0",
      "_view_name": "HTMLView",
      "description": "",
      "description_tooltip": null,
      "layout": "IPY_MODEL_d1b099d23bb14d309a07b226dc46f690",
      "placeholder": "​",
      "style": "IPY_MODEL_d273d870ef1c4d7a877c7546018bb392",
      "value": "config.json: 100%"
     }
    },
    "95ec64962d8047d19860844adae6c5bd": {
     "model_module": "@jupyter-widgets/controls",
     "model_name": "FloatProgressModel",
     "model_module_version": "1.5.0",
     "state": {
      "_dom_classes": [],
      "_model_module": "@jupyter-widgets/controls",
      "_model_module_version": "1.5.0",
      "_model_name": "FloatProgressModel",
      "_view_count": null,
      "_view_module": "@jupyter-widgets/controls",
      "_view_module_version": "1.5.0",
      "_view_name": "ProgressView",
      "bar_style": "success",
      "description": "",
      "description_tooltip": null,
      "layout": "IPY_MODEL_5d7c873dddad4718892c858cb20756b2",
      "max": 483,
      "min": 0,
      "orientation": "horizontal",
      "style": "IPY_MODEL_7bc9810098f040589522774b9f02d3e5",
      "value": 483
     }
    },
    "eb025b88035847e98a454f1c34e110ed": {
     "model_module": "@jupyter-widgets/controls",
     "model_name": "HTMLModel",
     "model_module_version": "1.5.0",
     "state": {
      "_dom_classes": [],
      "_model_module": "@jupyter-widgets/controls",
      "_model_module_version": "1.5.0",
      "_model_name": "HTMLModel",
      "_view_count": null,
      "_view_module": "@jupyter-widgets/controls",
      "_view_module_version": "1.5.0",
      "_view_name": "HTMLView",
      "description": "",
      "description_tooltip": null,
      "layout": "IPY_MODEL_46c83981dd444b169f5ac3cefe9b0f9b",
      "placeholder": "​",
      "style": "IPY_MODEL_11c0af43834e467b823f85bec9816f51",
      "value": " 483/483 [00:00&lt;00:00, 11.6kB/s]"
     }
    },
    "c44194a3c37b41a18f7dbb2cbf474a57": {
     "model_module": "@jupyter-widgets/base",
     "model_name": "LayoutModel",
     "model_module_version": "1.2.0",
     "state": {
      "_model_module": "@jupyter-widgets/base",
      "_model_module_version": "1.2.0",
      "_model_name": "LayoutModel",
      "_view_count": null,
      "_view_module": "@jupyter-widgets/base",
      "_view_module_version": "1.2.0",
      "_view_name": "LayoutView",
      "align_content": null,
      "align_items": null,
      "align_self": null,
      "border": null,
      "bottom": null,
      "display": null,
      "flex": null,
      "flex_flow": null,
      "grid_area": null,
      "grid_auto_columns": null,
      "grid_auto_flow": null,
      "grid_auto_rows": null,
      "grid_column": null,
      "grid_gap": null,
      "grid_row": null,
      "grid_template_areas": null,
      "grid_template_columns": null,
      "grid_template_rows": null,
      "height": null,
      "justify_content": null,
      "justify_items": null,
      "left": null,
      "margin": null,
      "max_height": null,
      "max_width": null,
      "min_height": null,
      "min_width": null,
      "object_fit": null,
      "object_position": null,
      "order": null,
      "overflow": null,
      "overflow_x": null,
      "overflow_y": null,
      "padding": null,
      "right": null,
      "top": null,
      "visibility": null,
      "width": null
     }
    },
    "d1b099d23bb14d309a07b226dc46f690": {
     "model_module": "@jupyter-widgets/base",
     "model_name": "LayoutModel",
     "model_module_version": "1.2.0",
     "state": {
      "_model_module": "@jupyter-widgets/base",
      "_model_module_version": "1.2.0",
      "_model_name": "LayoutModel",
      "_view_count": null,
      "_view_module": "@jupyter-widgets/base",
      "_view_module_version": "1.2.0",
      "_view_name": "LayoutView",
      "align_content": null,
      "align_items": null,
      "align_self": null,
      "border": null,
      "bottom": null,
      "display": null,
      "flex": null,
      "flex_flow": null,
      "grid_area": null,
      "grid_auto_columns": null,
      "grid_auto_flow": null,
      "grid_auto_rows": null,
      "grid_column": null,
      "grid_gap": null,
      "grid_row": null,
      "grid_template_areas": null,
      "grid_template_columns": null,
      "grid_template_rows": null,
      "height": null,
      "justify_content": null,
      "justify_items": null,
      "left": null,
      "margin": null,
      "max_height": null,
      "max_width": null,
      "min_height": null,
      "min_width": null,
      "object_fit": null,
      "object_position": null,
      "order": null,
      "overflow": null,
      "overflow_x": null,
      "overflow_y": null,
      "padding": null,
      "right": null,
      "top": null,
      "visibility": null,
      "width": null
     }
    },
    "d273d870ef1c4d7a877c7546018bb392": {
     "model_module": "@jupyter-widgets/controls",
     "model_name": "DescriptionStyleModel",
     "model_module_version": "1.5.0",
     "state": {
      "_model_module": "@jupyter-widgets/controls",
      "_model_module_version": "1.5.0",
      "_model_name": "DescriptionStyleModel",
      "_view_count": null,
      "_view_module": "@jupyter-widgets/base",
      "_view_module_version": "1.2.0",
      "_view_name": "StyleView",
      "description_width": ""
     }
    },
    "5d7c873dddad4718892c858cb20756b2": {
     "model_module": "@jupyter-widgets/base",
     "model_name": "LayoutModel",
     "model_module_version": "1.2.0",
     "state": {
      "_model_module": "@jupyter-widgets/base",
      "_model_module_version": "1.2.0",
      "_model_name": "LayoutModel",
      "_view_count": null,
      "_view_module": "@jupyter-widgets/base",
      "_view_module_version": "1.2.0",
      "_view_name": "LayoutView",
      "align_content": null,
      "align_items": null,
      "align_self": null,
      "border": null,
      "bottom": null,
      "display": null,
      "flex": null,
      "flex_flow": null,
      "grid_area": null,
      "grid_auto_columns": null,
      "grid_auto_flow": null,
      "grid_auto_rows": null,
      "grid_column": null,
      "grid_gap": null,
      "grid_row": null,
      "grid_template_areas": null,
      "grid_template_columns": null,
      "grid_template_rows": null,
      "height": null,
      "justify_content": null,
      "justify_items": null,
      "left": null,
      "margin": null,
      "max_height": null,
      "max_width": null,
      "min_height": null,
      "min_width": null,
      "object_fit": null,
      "object_position": null,
      "order": null,
      "overflow": null,
      "overflow_x": null,
      "overflow_y": null,
      "padding": null,
      "right": null,
      "top": null,
      "visibility": null,
      "width": null
     }
    },
    "7bc9810098f040589522774b9f02d3e5": {
     "model_module": "@jupyter-widgets/controls",
     "model_name": "ProgressStyleModel",
     "model_module_version": "1.5.0",
     "state": {
      "_model_module": "@jupyter-widgets/controls",
      "_model_module_version": "1.5.0",
      "_model_name": "ProgressStyleModel",
      "_view_count": null,
      "_view_module": "@jupyter-widgets/base",
      "_view_module_version": "1.2.0",
      "_view_name": "StyleView",
      "bar_color": null,
      "description_width": ""
     }
    },
    "46c83981dd444b169f5ac3cefe9b0f9b": {
     "model_module": "@jupyter-widgets/base",
     "model_name": "LayoutModel",
     "model_module_version": "1.2.0",
     "state": {
      "_model_module": "@jupyter-widgets/base",
      "_model_module_version": "1.2.0",
      "_model_name": "LayoutModel",
      "_view_count": null,
      "_view_module": "@jupyter-widgets/base",
      "_view_module_version": "1.2.0",
      "_view_name": "LayoutView",
      "align_content": null,
      "align_items": null,
      "align_self": null,
      "border": null,
      "bottom": null,
      "display": null,
      "flex": null,
      "flex_flow": null,
      "grid_area": null,
      "grid_auto_columns": null,
      "grid_auto_flow": null,
      "grid_auto_rows": null,
      "grid_column": null,
      "grid_gap": null,
      "grid_row": null,
      "grid_template_areas": null,
      "grid_template_columns": null,
      "grid_template_rows": null,
      "height": null,
      "justify_content": null,
      "justify_items": null,
      "left": null,
      "margin": null,
      "max_height": null,
      "max_width": null,
      "min_height": null,
      "min_width": null,
      "object_fit": null,
      "object_position": null,
      "order": null,
      "overflow": null,
      "overflow_x": null,
      "overflow_y": null,
      "padding": null,
      "right": null,
      "top": null,
      "visibility": null,
      "width": null
     }
    },
    "11c0af43834e467b823f85bec9816f51": {
     "model_module": "@jupyter-widgets/controls",
     "model_name": "DescriptionStyleModel",
     "model_module_version": "1.5.0",
     "state": {
      "_model_module": "@jupyter-widgets/controls",
      "_model_module_version": "1.5.0",
      "_model_name": "DescriptionStyleModel",
      "_view_count": null,
      "_view_module": "@jupyter-widgets/base",
      "_view_module_version": "1.2.0",
      "_view_name": "StyleView",
      "description_width": ""
     }
    },
    "45d51769fe04456b9d57002ad8806f1d": {
     "model_module": "@jupyter-widgets/controls",
     "model_name": "HBoxModel",
     "model_module_version": "1.5.0",
     "state": {
      "_dom_classes": [],
      "_model_module": "@jupyter-widgets/controls",
      "_model_module_version": "1.5.0",
      "_model_name": "HBoxModel",
      "_view_count": null,
      "_view_module": "@jupyter-widgets/controls",
      "_view_module_version": "1.5.0",
      "_view_name": "HBoxView",
      "box_style": "",
      "children": [
       "IPY_MODEL_14d7892b2db74e35aa5ec44cff8696ec",
       "IPY_MODEL_ac41d834b85a4a0b84b070882f9dbb20",
       "IPY_MODEL_735899c64d6346548a7f642fc49019d8"
      ],
      "layout": "IPY_MODEL_bfa93b9231684e37aabe62bb4bdc11b1"
     }
    },
    "14d7892b2db74e35aa5ec44cff8696ec": {
     "model_module": "@jupyter-widgets/controls",
     "model_name": "HTMLModel",
     "model_module_version": "1.5.0",
     "state": {
      "_dom_classes": [],
      "_model_module": "@jupyter-widgets/controls",
      "_model_module_version": "1.5.0",
      "_model_name": "HTMLModel",
      "_view_count": null,
      "_view_module": "@jupyter-widgets/controls",
      "_view_module_version": "1.5.0",
      "_view_name": "HTMLView",
      "description": "",
      "description_tooltip": null,
      "layout": "IPY_MODEL_eddea12560ec4237aac7020033dcec0c",
      "placeholder": "​",
      "style": "IPY_MODEL_e6e9c72be14f488ab20cd42d5366eec7",
      "value": "model.safetensors: 100%"
     }
    },
    "ac41d834b85a4a0b84b070882f9dbb20": {
     "model_module": "@jupyter-widgets/controls",
     "model_name": "FloatProgressModel",
     "model_module_version": "1.5.0",
     "state": {
      "_dom_classes": [],
      "_model_module": "@jupyter-widgets/controls",
      "_model_module_version": "1.5.0",
      "_model_name": "FloatProgressModel",
      "_view_count": null,
      "_view_module": "@jupyter-widgets/controls",
      "_view_module_version": "1.5.0",
      "_view_name": "ProgressView",
      "bar_style": "success",
      "description": "",
      "description_tooltip": null,
      "layout": "IPY_MODEL_91edd663d2df4a20b0eb097341f9297f",
      "max": 267954768,
      "min": 0,
      "orientation": "horizontal",
      "style": "IPY_MODEL_6520f474cd2a45cfb09a20ec4c9dd07f",
      "value": 267954768
     }
    },
    "735899c64d6346548a7f642fc49019d8": {
     "model_module": "@jupyter-widgets/controls",
     "model_name": "HTMLModel",
     "model_module_version": "1.5.0",
     "state": {
      "_dom_classes": [],
      "_model_module": "@jupyter-widgets/controls",
      "_model_module_version": "1.5.0",
      "_model_name": "HTMLModel",
      "_view_count": null,
      "_view_module": "@jupyter-widgets/controls",
      "_view_module_version": "1.5.0",
      "_view_name": "HTMLView",
      "description": "",
      "description_tooltip": null,
      "layout": "IPY_MODEL_aab5e05075a14ab58c5452d29fcd0e40",
      "placeholder": "​",
      "style": "IPY_MODEL_69d7a9ccda274503879fdae1670f96cf",
      "value": " 268M/268M [00:01&lt;00:00, 161MB/s]"
     }
    },
    "bfa93b9231684e37aabe62bb4bdc11b1": {
     "model_module": "@jupyter-widgets/base",
     "model_name": "LayoutModel",
     "model_module_version": "1.2.0",
     "state": {
      "_model_module": "@jupyter-widgets/base",
      "_model_module_version": "1.2.0",
      "_model_name": "LayoutModel",
      "_view_count": null,
      "_view_module": "@jupyter-widgets/base",
      "_view_module_version": "1.2.0",
      "_view_name": "LayoutView",
      "align_content": null,
      "align_items": null,
      "align_self": null,
      "border": null,
      "bottom": null,
      "display": null,
      "flex": null,
      "flex_flow": null,
      "grid_area": null,
      "grid_auto_columns": null,
      "grid_auto_flow": null,
      "grid_auto_rows": null,
      "grid_column": null,
      "grid_gap": null,
      "grid_row": null,
      "grid_template_areas": null,
      "grid_template_columns": null,
      "grid_template_rows": null,
      "height": null,
      "justify_content": null,
      "justify_items": null,
      "left": null,
      "margin": null,
      "max_height": null,
      "max_width": null,
      "min_height": null,
      "min_width": null,
      "object_fit": null,
      "object_position": null,
      "order": null,
      "overflow": null,
      "overflow_x": null,
      "overflow_y": null,
      "padding": null,
      "right": null,
      "top": null,
      "visibility": null,
      "width": null
     }
    },
    "eddea12560ec4237aac7020033dcec0c": {
     "model_module": "@jupyter-widgets/base",
     "model_name": "LayoutModel",
     "model_module_version": "1.2.0",
     "state": {
      "_model_module": "@jupyter-widgets/base",
      "_model_module_version": "1.2.0",
      "_model_name": "LayoutModel",
      "_view_count": null,
      "_view_module": "@jupyter-widgets/base",
      "_view_module_version": "1.2.0",
      "_view_name": "LayoutView",
      "align_content": null,
      "align_items": null,
      "align_self": null,
      "border": null,
      "bottom": null,
      "display": null,
      "flex": null,
      "flex_flow": null,
      "grid_area": null,
      "grid_auto_columns": null,
      "grid_auto_flow": null,
      "grid_auto_rows": null,
      "grid_column": null,
      "grid_gap": null,
      "grid_row": null,
      "grid_template_areas": null,
      "grid_template_columns": null,
      "grid_template_rows": null,
      "height": null,
      "justify_content": null,
      "justify_items": null,
      "left": null,
      "margin": null,
      "max_height": null,
      "max_width": null,
      "min_height": null,
      "min_width": null,
      "object_fit": null,
      "object_position": null,
      "order": null,
      "overflow": null,
      "overflow_x": null,
      "overflow_y": null,
      "padding": null,
      "right": null,
      "top": null,
      "visibility": null,
      "width": null
     }
    },
    "e6e9c72be14f488ab20cd42d5366eec7": {
     "model_module": "@jupyter-widgets/controls",
     "model_name": "DescriptionStyleModel",
     "model_module_version": "1.5.0",
     "state": {
      "_model_module": "@jupyter-widgets/controls",
      "_model_module_version": "1.5.0",
      "_model_name": "DescriptionStyleModel",
      "_view_count": null,
      "_view_module": "@jupyter-widgets/base",
      "_view_module_version": "1.2.0",
      "_view_name": "StyleView",
      "description_width": ""
     }
    },
    "91edd663d2df4a20b0eb097341f9297f": {
     "model_module": "@jupyter-widgets/base",
     "model_name": "LayoutModel",
     "model_module_version": "1.2.0",
     "state": {
      "_model_module": "@jupyter-widgets/base",
      "_model_module_version": "1.2.0",
      "_model_name": "LayoutModel",
      "_view_count": null,
      "_view_module": "@jupyter-widgets/base",
      "_view_module_version": "1.2.0",
      "_view_name": "LayoutView",
      "align_content": null,
      "align_items": null,
      "align_self": null,
      "border": null,
      "bottom": null,
      "display": null,
      "flex": null,
      "flex_flow": null,
      "grid_area": null,
      "grid_auto_columns": null,
      "grid_auto_flow": null,
      "grid_auto_rows": null,
      "grid_column": null,
      "grid_gap": null,
      "grid_row": null,
      "grid_template_areas": null,
      "grid_template_columns": null,
      "grid_template_rows": null,
      "height": null,
      "justify_content": null,
      "justify_items": null,
      "left": null,
      "margin": null,
      "max_height": null,
      "max_width": null,
      "min_height": null,
      "min_width": null,
      "object_fit": null,
      "object_position": null,
      "order": null,
      "overflow": null,
      "overflow_x": null,
      "overflow_y": null,
      "padding": null,
      "right": null,
      "top": null,
      "visibility": null,
      "width": null
     }
    },
    "6520f474cd2a45cfb09a20ec4c9dd07f": {
     "model_module": "@jupyter-widgets/controls",
     "model_name": "ProgressStyleModel",
     "model_module_version": "1.5.0",
     "state": {
      "_model_module": "@jupyter-widgets/controls",
      "_model_module_version": "1.5.0",
      "_model_name": "ProgressStyleModel",
      "_view_count": null,
      "_view_module": "@jupyter-widgets/base",
      "_view_module_version": "1.2.0",
      "_view_name": "StyleView",
      "bar_color": null,
      "description_width": ""
     }
    },
    "aab5e05075a14ab58c5452d29fcd0e40": {
     "model_module": "@jupyter-widgets/base",
     "model_name": "LayoutModel",
     "model_module_version": "1.2.0",
     "state": {
      "_model_module": "@jupyter-widgets/base",
      "_model_module_version": "1.2.0",
      "_model_name": "LayoutModel",
      "_view_count": null,
      "_view_module": "@jupyter-widgets/base",
      "_view_module_version": "1.2.0",
      "_view_name": "LayoutView",
      "align_content": null,
      "align_items": null,
      "align_self": null,
      "border": null,
      "bottom": null,
      "display": null,
      "flex": null,
      "flex_flow": null,
      "grid_area": null,
      "grid_auto_columns": null,
      "grid_auto_flow": null,
      "grid_auto_rows": null,
      "grid_column": null,
      "grid_gap": null,
      "grid_row": null,
      "grid_template_areas": null,
      "grid_template_columns": null,
      "grid_template_rows": null,
      "height": null,
      "justify_content": null,
      "justify_items": null,
      "left": null,
      "margin": null,
      "max_height": null,
      "max_width": null,
      "min_height": null,
      "min_width": null,
      "object_fit": null,
      "object_position": null,
      "order": null,
      "overflow": null,
      "overflow_x": null,
      "overflow_y": null,
      "padding": null,
      "right": null,
      "top": null,
      "visibility": null,
      "width": null
     }
    },
    "69d7a9ccda274503879fdae1670f96cf": {
     "model_module": "@jupyter-widgets/controls",
     "model_name": "DescriptionStyleModel",
     "model_module_version": "1.5.0",
     "state": {
      "_model_module": "@jupyter-widgets/controls",
      "_model_module_version": "1.5.0",
      "_model_name": "DescriptionStyleModel",
      "_view_count": null,
      "_view_module": "@jupyter-widgets/base",
      "_view_module_version": "1.2.0",
      "_view_name": "StyleView",
      "description_width": ""
     }
    }
   }
  }
 },
 "nbformat": 4,
 "nbformat_minor": 0
}

{
 "cells": [
  {
   "cell_type": "code",
   "execution_count": 1,
   "id": "brutal-syndication",
   "metadata": {},
   "outputs": [],
   "source": [
    "import joblib\n",
    "import os\n",
    "from sklearn.feature_extraction.text import TfidfVectorizer\n",
    "from nltk.corpus import stopwords"
   ]
  },
  {
   "cell_type": "code",
   "execution_count": 2,
   "id": "running-universal",
   "metadata": {},
   "outputs": [],
   "source": [
    "models = [\"models/\"+ i for i in os.listdir(\"models\")]\n",
    "vectorizers= [\"vectorizers/\" + i for i in os.listdir(\"vectorizers\")]"
   ]
  },
  {
   "cell_type": "code",
   "execution_count": 3,
   "id": "earlier-cookie",
   "metadata": {},
   "outputs": [],
   "source": [
    "BOOK_INFO = {\"computer_architecture_book\": [\"Computer as components: Wayne Wolf\", None],\n",
    "              \"data_intensive_book\": [\"Designing data intensive applications: O'REILLY\", None],\n",
    "              \"ethic_1\": [\"Ethics in IT: George W.Reynolds\", None],\n",
    "              \"ethic_2\": [\"Ethics for the information age: Michael J. Quinn\", None],\n",
    "              \"os_book\": [\"Operating System Concepts: WILEY\", None],\n",
    "            \"hci\": [\"Human Computer Interaction\", None],\n",
    "            \"JavaScript\": [\"Javascript Cookbook\", None],\n",
    "            \"network_1\": [\"Computer Networking\", None],\n",
    "            \"Robot_OS\": [\"Robot Operating Systems\", None],\n",
    "            \"Robotic_python\": [\"Robotics with Python\", None]}"
   ]
  },
  {
   "cell_type": "code",
   "execution_count": 66,
   "id": "specified-compound",
   "metadata": {},
   "outputs": [],
   "source": [
    "class MainProgram():\n",
    "    \n",
    "    _text_data = None\n",
    "    _main_book = None\n",
    "    _models = {}\n",
    "    \n",
    "    def __init__(self, text_data):\n",
    "        self._text_data = text_data\n",
    "        \n",
    "        for i in os.listdir(\"models\"):\n",
    "            tmp = i.split(\"-\")[0]\n",
    "            self._models[tmp] = [joblib.load(\"models/\" + i), \n",
    "                                 joblib.load(\"vectorizers/\" + tmp + \"-vectorizer.joblib\")]\n",
    "    \n",
    "    def get_related_all_chapters(self):\n",
    "        for model in self._models.keys():\n",
    "            probabilities = predicted_probabilities(self._text_data, \n",
    "                                                    self._models[model][0], self._models[model][1])\n",
    "            BOOK_INFO[model][1] = probabilities"
   ]
  },
  {
   "cell_type": "code",
   "execution_count": 67,
   "id": "alternative-devil",
   "metadata": {},
   "outputs": [],
   "source": [
    "def split_text(text, segment_size):\n",
    "    words = text.split()\n",
    "    segments = [words[i:i+segment_size] for i in range(0, len(words), segment_size)]\n",
    "    return [' '.join(segment) for segment in segments]"
   ]
  },
  {
   "cell_type": "code",
   "execution_count": 68,
   "id": "finnish-denmark",
   "metadata": {},
   "outputs": [],
   "source": [
    "def predicted_probabilities(input_string, model, vectorizer):\n",
    "    segment_size = 300\n",
    "    input_segments = split_text(input_string, segment_size)\n",
    "    input_features = vectorizer.transform(input_segments).toarray()\n",
    "    predicted_prob = model.predict_proba(input_features)\n",
    "    result = zip(predicted_prob[0], model.classes_)\n",
    "    return result"
   ]
  },
  {
   "cell_type": "code",
   "execution_count": 69,
   "id": "black-hazard",
   "metadata": {},
   "outputs": [],
   "source": [
    "def get_statistics_per_book():\n",
    "    result = []\n",
    "    for i in BOOK_INFO.keys():\n",
    "        book = BOOK_INFO[i]\n",
    "        for j in list(book[1]):\n",
    "            if float(j[0]) > 0.50:\n",
    "                result.append((book[0], j[0], j[1]))\n",
    "    return result"
   ]
  },
  {
   "cell_type": "code",
   "execution_count": 70,
   "id": "loaded-continent",
   "metadata": {},
   "outputs": [],
   "source": [
    "def get_sortedBy_importance(result):\n",
    "    output = []\n",
    "    tmp = [i[1] for i in result]\n",
    "    tmp.sort(reverse=True)\n",
    "    for t in tmp:\n",
    "        for j in result:\n",
    "            if t == j[1]:\n",
    "                output.append(j)\n",
    "    return output"
   ]
  },
  {
   "cell_type": "code",
   "execution_count": 71,
   "id": "worthy-twenty",
   "metadata": {},
   "outputs": [],
   "source": [
    "def print_output(result):\n",
    "    sorted_results = get_sortedBy_importance(result)\n",
    "    print(\"You should look the following books in order to learn/teach that subject:\")\n",
    "    print(\"--\"*45)\n",
    "    n = 1\n",
    "    for i in sorted_results:\n",
    "        print(f\"{n}) From '{i[0]}', you should look chapter {i[2]}\")\n",
    "        n += 1"
   ]
  },
  {
   "cell_type": "code",
   "execution_count": 72,
   "id": "sound-maryland",
   "metadata": {},
   "outputs": [],
   "source": [
    "input_string = \"\"\"standardized system utilized in model railroading \n",
    "to manage locomotives and accessories via a digital signal transmitted through\n",
    "the tracks. Unlike traditional analog systems where locomotives receive power directly\n",
    "from the tracks, it enables precise control of multiple trains independently \n",
    "on the same track without the need for separate wiring or electrical blocks. \n",
    "Each locomotive is equipped with a decoder that receives commands from a central \n",
    "controller or throttle, allowing operators to control speed, direction, lighting,\n",
    "and sound functions. This systems offer enhanced realism and flexibility, enabling model\n",
    "railroaders to replicate real-world train operations more accurately and create \n",
    "immersive layouts with intricate control over their trains and accessories.\"\"\" "
   ]
  },
  {
   "cell_type": "code",
   "execution_count": 73,
   "id": "furnished-fiction",
   "metadata": {},
   "outputs": [],
   "source": [
    "input_string_2 = \"\"\"\n",
    "In computing, threads enable programs to execute multiple tasks simultaneously. \n",
    "They divide the workload into smaller chunks, allowing for efficient resource allocation and parallel execution. \n",
    "This enhances performance and responsiveness, akin to a juggler effortlessly managing multiple objects at once.\"\"\""
   ]
  },
  {
   "cell_type": "code",
   "execution_count": 74,
   "id": "inappropriate-instruction",
   "metadata": {},
   "outputs": [],
   "source": [
    "input_string_3 = \"\"\"When considering database models, the document type model offers a higher degree of flexibility compared to relational models. Document type models excel particularly in handling tree-based data structures, where hierarchical relationships are prevalent. In this model, data is stored in a document format, such as JSON or XML, allowing for nested and varied structures within each document. This flexibility accommodates evolving data schemas and unstructured data well, making it suitable for applications with evolving data requirements or diverse data formats.\n",
    "Conversely, relational database models are well-suited for managing many-to-many relationships between entities. These models organize data into tables with rows and columns, enforcing a structured schema defined by the relational schema. This structure facilitates efficient querying and data retrieval, especially when dealing with complex relationships between entities. Relational databases excel in maintaining data integrity through normalization techniques, ensuring consistency and accuracy in data storage and retrieval operations.\n",
    "In summary, while document type models prioritize flexibility and adaptability, making them ideal for managing tree-based data, relational database models excel in handling many-to-many relationships and ensuring data integrity within structured environments. The choice between these models depends on the specific requirements and characteristics of the data and the application context.\"\"\""
   ]
  },
  {
   "cell_type": "code",
   "execution_count": 75,
   "id": "obvious-paraguay",
   "metadata": {},
   "outputs": [],
   "source": [
    "main = MainProgram(input_string)"
   ]
  },
  {
   "cell_type": "code",
   "execution_count": 76,
   "id": "convinced-turning",
   "metadata": {},
   "outputs": [],
   "source": [
    "main.get_related_all_chapters()"
   ]
  },
  {
   "cell_type": "code",
   "execution_count": 77,
   "id": "insured-hardware",
   "metadata": {},
   "outputs": [],
   "source": [
    "results = get_statistics_per_book()"
   ]
  },
  {
   "cell_type": "code",
   "execution_count": 78,
   "id": "proof-member",
   "metadata": {},
   "outputs": [
    {
     "data": {
      "text/plain": [
       "[('Computer as components: Wayne Wolf', 0.7901076724991882, 1),\n",
       " ('Computer Networking', 0.5290759337267853, '5'),\n",
       " ('Robotics with Python', 0.662664166128289, '6')]"
      ]
     },
     "execution_count": 78,
     "metadata": {},
     "output_type": "execute_result"
    }
   ],
   "source": [
    "results"
   ]
  },
  {
   "cell_type": "code",
   "execution_count": 65,
   "id": "wrapped-africa",
   "metadata": {},
   "outputs": [
    {
     "name": "stdout",
     "output_type": "stream",
     "text": [
      "You should look the following books in order to learn/teach that subject:\n",
      "------------------------------------------------------------------------------------------\n"
     ]
    }
   ],
   "source": [
    "print_output(results)"
   ]
  },
  {
   "cell_type": "code",
   "execution_count": null,
   "id": "warming-catholic",
   "metadata": {},
   "outputs": [],
   "source": []
  }
 ],
 "metadata": {
  "kernelspec": {
   "display_name": "Python 3",
   "language": "python",
   "name": "python3"
  },
  "language_info": {
   "codemirror_mode": {
    "name": "ipython",
    "version": 3
   },
   "file_extension": ".py",
   "mimetype": "text/x-python",
   "name": "python",
   "nbconvert_exporter": "python",
   "pygments_lexer": "ipython3",
   "version": "3.9.6"
  }
 },
 "nbformat": 4,
 "nbformat_minor": 5
}

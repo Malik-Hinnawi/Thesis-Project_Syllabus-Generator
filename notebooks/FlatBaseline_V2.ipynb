{
 "cells": [
  {
   "cell_type": "code",
   "execution_count": null,
   "metadata": {},
   "outputs": [],
   "source": [
    "%pip install PyPDF2 nltk pandas\n",
    "!pip install pdfminer.six\n",
    "!pip install enchant"
   ]
  },
  {
   "cell_type": "code",
   "execution_count": 2,
   "metadata": {},
   "outputs": [],
   "source": [
    "import PyPDF2\n",
    "import nltk\n",
    "import re\n",
    "import pandas as pd\n",
    "from sklearn.feature_extraction.text import TfidfVectorizer\n",
    "from nltk.corpus import stopwords\n",
    "import enchant\n",
    "import pdfplumber\n",
    "from sklearn.model_selection import train_test_split\n",
    "\n",
    "#nltk.download('words') -> do that only once\n",
    "#nltk.download('stopwords') -> do that only once\n",
    "#nltk.download(\"punkt\") -> do that only once"
   ]
  },
  {
   "cell_type": "code",
   "execution_count": 3,
   "metadata": {},
   "outputs": [],
   "source": [
    "def find_contents_page(pdf_path):\n",
    "    with open(pdf_path, \"rb\") as file:\n",
    "        pdf_reader = PyPDF2.PdfReader(file)\n",
    "\n",
    "        start_page = 22\n",
    "        end_page = 28\n",
    "        end_page = min(end_page, len(pdf_reader.pages))\n",
    "        contents_page = \"\"\n",
    "        for page_num in range(start_page, end_page):\n",
    "            page_text = pdf_reader.pages[page_num].extract_text()\n",
    "            lines = page_text.split('\\n')\n",
    "            page_text = ' '.join(lines)\n",
    "            contents_page += page_text\n",
    "        if not contents_page:\n",
    "            return \"Specified pages not found in the PDF\"\n",
    "\n",
    "        return contents_page\n"
   ]
  },
  {
   "cell_type": "code",
   "execution_count": 4,
   "metadata": {},
   "outputs": [],
   "source": [
    "def create_csv(sections):\n",
    "    data = []\n",
    "    for match in sections:\n",
    "        chapter = match[0]\n",
    "        title = match[1]\n",
    "        page = match[2]\n",
    "\n",
    "        data.append({\"Chapter\": chapter, \"Title\": title, \"Page\": page})\n",
    "    df = pd.concat([pd.DataFrame([section]) for section in data], ignore_index=True)\n",
    "\n",
    "    return df"
   ]
  },
  {
   "cell_type": "code",
   "execution_count": 5,
   "metadata": {},
   "outputs": [],
   "source": [
    "def extract_sections(contents_text):\n",
    "    tokens = nltk.word_tokenize(contents_text)\n",
    "    matches = re.findall(r\"(\\d+\\.\\d+)\\s+(.*?)\\s+(\\d+)\", contents_text)\n",
    "\n",
    "    return matches"
   ]
  },
  {
   "cell_type": "code",
   "execution_count": 6,
   "metadata": {},
   "outputs": [],
   "source": [
    "# Replace 'OS_Main book.pdf' with the path to your PDF file\n",
    "pdf_path = \"Books/OS_Main book.pdf\"\n",
    "contents_page_text = find_contents_page(pdf_path)"
   ]
  },
  {
   "cell_type": "code",
   "execution_count": 7,
   "metadata": {},
   "outputs": [],
   "source": [
    "pdf_reader = PyPDF2.PdfReader(pdf_path)\n",
    "sections = extract_sections(contents_page_text)"
   ]
  },
  {
   "cell_type": "code",
   "execution_count": 8,
   "metadata": {},
   "outputs": [
    {
     "data": {
      "text/plain": [
       "[('1.1', 'WhatOperating SystemsDo', '4'),\n",
       " ('1.2', 'Computer-SystemOrganization', '7'),\n",
       " ('1.3', 'Computer-SystemArchitecture', '15'),\n",
       " ('1.4', 'Operating-SystemOperations', '21'),\n",
       " ('1.5', 'Resource Management', '27'),\n",
       " ('1.6', 'Security and Protection', '33'),\n",
       " ('1.7', 'Virtualization', '341'),\n",
       " ('1.9', 'KernelDataStructures', '36'),\n",
       " ('1.10', 'ComputingEnvironments', '40'),\n",
       " ('1.11', 'Free andOpen-Source Operating Systems', '46'),\n",
       " ('2.1', 'Operating-SystemServices', '55'),\n",
       " ('2.2', 'User andOperating-System Interface', '58'),\n",
       " ('2.3', 'System Calls', '62'),\n",
       " ('2.4', 'System Services', '74'),\n",
       " ('2.5', 'Linkers and Loaders', '75'),\n",
       " ('2.6', 'Why Applications Are Operating-SystemSpecific', '772'),\n",
       " ('2.8', 'Operating-SystemStructure', '81'),\n",
       " ('2.9', 'Building andBootinganOperating System', '92'),\n",
       " ('2.10', 'Operating-SystemDebugging', '95'),\n",
       " ('2.11', 'Summary', '100'),\n",
       " ('3.1', 'Process Concept', '106'),\n",
       " ('3.2', 'Process Scheduling', '110'),\n",
       " ('3.3', 'OperationsonProcesses', '116'),\n",
       " ('3.4', 'Interprocess Communication', '123'),\n",
       " ('3.5', 'IPC in Shared-MemorySystems', '125'),\n",
       " ('3.6', 'IPC in Message-Passing Systems', '1273'),\n",
       " ('3.8', 'Communicationin Client– ServerSystems', '145'),\n",
       " ('3.9', 'Summary', '153'),\n",
       " ('4.1', 'Overview', '160'),\n",
       " ('4.2', 'Multicore Programming', '162'),\n",
       " ('4.3', 'Multithreading Models', '166'),\n",
       " ('4.4', 'ThreadLibraries', '168'),\n",
       " ('4.5', 'Implicit Threading', '1764'),\n",
       " ('4.7', 'Operating-System Examples', '194'),\n",
       " ('4.8', 'Summary', '196'),\n",
       " ('5.1', 'Basic Concepts', '200'),\n",
       " ('5.2', 'Scheduling Criteria', '204'),\n",
       " ('5.3', 'Scheduling Algorithms', '205'),\n",
       " ('5.4', 'ThreadScheduling', '217'),\n",
       " ('5.5', 'Multi-Processor Scheduling', '220'),\n",
       " ('5.6', 'Real-TimeCPU Scheduling', '2275'),\n",
       " ('5.8', 'Algorithm Evaluation', '244'),\n",
       " ('5.9', 'Summary', '250'),\n",
       " ('6.1', 'Background', '257'),\n",
       " ('6.2', 'TheCritical-Section Problem', '260'),\n",
       " ('6.3', 'Peterson’sSolution', '262'),\n",
       " ('6.4', 'Hardware Supportfor Synchronization', '265'),\n",
       " ('6.5', 'MutexLocks', '270'),\n",
       " ('6.6', 'Semaphores', '2726'),\n",
       " ('6.8', 'Liveness', '283'),\n",
       " ('6.9', 'Evaluation', '284'),\n",
       " ('6.10', 'Summary', '286'),\n",
       " ('7.1', 'Classic Problemsof Synchronization', '289'),\n",
       " ('7.2', 'Synchronization withintheKernel', '295'),\n",
       " ('7.3', 'POSIX Synchronization', '299'),\n",
       " ('7.4', 'Synchronizationin Java', '3037'),\n",
       " ('7.6', 'Summary', '314'),\n",
       " ('8.1', 'SystemModel', '318'),\n",
       " ('8.2', 'Deadlockin Multithreaded Applications', '319'),\n",
       " ('8.3', 'DeadlockCharacterization', '321'),\n",
       " ('8.4', 'MethodsforHandling Deadlocks', '326'),\n",
       " ('8.5', 'DeadlockPrevention', '3278'),\n",
       " ('8.7', 'Deadlock Detection', '337'),\n",
       " ('8.8', 'RecoveryfromDeadlock', '341'),\n",
       " ('8.9', 'Summary', '343'),\n",
       " ('9.1', 'Background', '349'),\n",
       " ('9.2', 'ContiguousMemoryAllocation', '356'),\n",
       " ('9.3', 'Paging', '360'),\n",
       " ('9.4', 'Structure ofthe Page Table', '371'),\n",
       " ('9.5', 'Swapping', '3769'),\n",
       " ('9.7', 'Example: ARMv8 Architecture', '383'),\n",
       " ('9.8', 'Summary', '384'),\n",
       " ('10.1', 'Background', '389'),\n",
       " ('10.2', 'DemandPaging', '392'),\n",
       " ('10.3', 'Copy-on-Write', '399'),\n",
       " ('10.4', 'Page Replacement', '401'),\n",
       " ('10.5', 'Allocation ofFrames', '413'),\n",
       " ('10.6', 'Thrashing', '419'),\n",
       " ('10.7', 'MemoryCompression', '42510'),\n",
       " ('10.9', 'OtherConsiderations', '430'),\n",
       " ('10.10', 'Operating-SystemExamples', '436'),\n",
       " ('10.11', 'Summary', '440'),\n",
       " ('11.1', 'Overview ofMass-Storage Structure', '449'),\n",
       " ('11.2', 'HDD Scheduling', '457'),\n",
       " ('11.3', 'NVMScheduling', '461'),\n",
       " ('11.4', 'ErrorDetectionand Correction', '462'),\n",
       " ('11.5', 'StorageDevice Management', '46311'),\n",
       " ('11.7', 'Storage Attachment', '469'),\n",
       " ('11.8', 'RAID Structure', '473'),\n",
       " ('11.9', 'Summary', '485'),\n",
       " ('12.1', 'Overview', '489'),\n",
       " ('12.2', 'I/O Hardware', '490'),\n",
       " ('12.3', 'Application I/O Interface', '500'),\n",
       " ('12.4', 'KernelI/O Subsystem', '508'),\n",
       " ('12.5', 'TransformingI/O Requeststo Hardware Operations', '51612'),\n",
       " ('12.7', 'Performance', '521'),\n",
       " ('12.8', 'Summary', '524'),\n",
       " ('13.1', 'File Concept', '529'),\n",
       " ('13.2', 'Access Methods', '539'),\n",
       " ('13.3', 'Directory Structure', '541'),\n",
       " ('13.4', 'Protection', '55013'),\n",
       " ('13.6', 'Summary', '560'),\n",
       " ('14.1', 'File-System Structure', '564'),\n",
       " ('14.2', 'File-System Operations', '566'),\n",
       " ('14.3', 'Directory Implementation', '568'),\n",
       " ('14.4', 'Allocation Methods', '570'),\n",
       " ('14.5', 'Free-Space Management', '578'),\n",
       " ('14.6', 'Efficiency and Performance', '58214'),\n",
       " ('14.8', 'Example: TheWAFLFile System', '589'),\n",
       " ('14.9', 'Summary', '593'),\n",
       " ('15.1', 'File Systems', '597'),\n",
       " ('15.2', 'File-System Mounting', '598'),\n",
       " ('15.3', 'Partitions andMounting', '601'),\n",
       " ('15.4', 'File Sharing', '602'),\n",
       " ('15.5', 'Virtual File Systems', '603'),\n",
       " ('15.6', 'RemoteFile Systems', '60515'),\n",
       " ('15.8', 'NFS', '610'),\n",
       " ('15.9', 'Summary', '615'),\n",
       " ('16.1', 'The Security Problem', '621'),\n",
       " ('16.2', 'Program Threats', '625'),\n",
       " ('16.3', 'System andNetworkThreats', '634'),\n",
       " ('16.4', 'CryptographyasaSecurity Tool', '637'),\n",
       " ('16.5', 'User Authentication', '64816'),\n",
       " ('16.7', 'An Example:Windows', '10'),\n",
       " ('16.8', 'Summary', '664'),\n",
       " ('17.1', 'Goals ofProtection', '667'),\n",
       " ('17.2', 'Principles ofProtection', '668'),\n",
       " ('17.3', 'ProtectionRings', '669'),\n",
       " ('17.4', 'DomainofProtection', '671'),\n",
       " ('17.5', 'Access Matrix', '675'),\n",
       " ('17.6', 'Implementationofthe Access Matrix', '679'),\n",
       " ('17.7', 'RevocationofAccess Rights', '682'),\n",
       " ('17.8', 'Role-BasedAccess Control', '68317'),\n",
       " ('17.10', 'Capability-Based Systems', '685'),\n",
       " ('17.11', 'Other ProtectionImprovement Methods', '687'),\n",
       " ('17.12', 'Language-BasedProtection', '690'),\n",
       " ('17.13', 'Summary', '696'),\n",
       " ('18.1', 'Overview', '701'),\n",
       " ('18.2', 'History', '703'),\n",
       " ('18.3', 'BenefitsandFeatures', '704'),\n",
       " ('18.4', 'Building Blocks', '707'),\n",
       " ('18.5', 'TypesofVMs andTheir Implementations', '71318'),\n",
       " ('18.7', 'Examples', '726'),\n",
       " ('18.8', 'VirtualizationResearch', '728'),\n",
       " ('18.9', 'Summary', '729'),\n",
       " ('19.1', 'AdvantagesofDistributed Systems', '733'),\n",
       " ('19.2', 'NetworkStructure', '735'),\n",
       " ('19.3', 'CommunicationStructure', '738'),\n",
       " ('19.4', 'NetworkandDistributed Operating Systems', '749'),\n",
       " ('19.5', 'DesignIssues in Distributed Systems', '75319'),\n",
       " ('19.7', 'DFSNaming andTransparency', '761'),\n",
       " ('19.8', 'RemoteFile Access', '764'),\n",
       " ('19.9', 'Final ThoughtsonDistributed File Systems', '767'),\n",
       " ('19.10', 'Summary', '768'),\n",
       " ('20.1', 'Linux History', '775'),\n",
       " ('20.2', 'DesignPrinciples', '780'),\n",
       " ('20.3', 'KernelModules', '783'),\n",
       " ('20.4', 'Process Management', '786'),\n",
       " ('20.5', 'Scheduling', '790'),\n",
       " ('20.6', 'MemoryManagement', '795'),\n",
       " ('20.7', 'File Systems', '80320'),\n",
       " ('20.9', 'InterprocessCommunication', '812'),\n",
       " ('20.10', 'NetworkStructure', '813'),\n",
       " ('20.11', 'Security', '816'),\n",
       " ('20.12', 'Summary', '818'),\n",
       " ('21.1', 'History', '821'),\n",
       " ('21.2', 'DesignPrinciples', '826'),\n",
       " ('21.3', 'SystemComponents', '838'),\n",
       " ('21.4', 'TerminalServices andFast User Switching', '87421'),\n",
       " ('21.6', 'Networking', '880'),\n",
       " ('21.7', 'ProgrammerInterface', '884'),\n",
       " ('21.8', 'Summary', '895')]"
      ]
     },
     "execution_count": 8,
     "metadata": {},
     "output_type": "execute_result"
    }
   ],
   "source": [
    "sections"
   ]
  },
  {
   "cell_type": "code",
   "execution_count": 9,
   "metadata": {},
   "outputs": [],
   "source": [
    "def add_text_to_content_OLD(content_list, pdf_reader): #NOT WORKING\n",
    "    new_content_list = []\n",
    "    for i, (chapter_num, chapter_name, chapter_page) in enumerate(content_list):\n",
    "        content_text = \"\"\n",
    "        for page_num in range(int(chapter_page), int(chapter_page) + 50):\n",
    "            page_text = pdf_reader.pages[page_num].extract_text()\n",
    "            text = page_text[:50].lower()\n",
    "            print(text)\n",
    "            if (\"exercises\" in text) and (\"chapter\" in text):\n",
    "                content_text += \" \" + page_text\n",
    "                break\n",
    "        new_content_list.append((chapter_num, chapter_name, chapter_page, content_text))\n",
    "        \n",
    "    return new_content_list"
   ]
  },
  {
   "cell_type": "code",
   "execution_count": 10,
   "metadata": {},
   "outputs": [],
   "source": [
    "def add_text_to_content(content_list, pdf_reader): #NEW\n",
    "    new_content_list = []\n",
    "    upcoming_chapter = 2\n",
    "    buffer = \"\"\n",
    "    for page_number in range(29, len(pdf_reader.pages)):\n",
    "        page_content = pdf_reader.pages[page_number].extract_text()\n",
    "        significant_part = page_content[:50].lower()\n",
    "        buffer += \" \" + page_content\n",
    "        if f\"chapter{upcoming_chapter}\" in significant_part or f\"chapter {upcoming_chapter} \" in significant_part:\n",
    "            buffer += content_list[str(upcoming_chapter-1)]\n",
    "            new_content_list.append((upcoming_chapter-1, buffer, page_number))\n",
    "            buffer = \"\"\n",
    "            upcoming_chapter += 1\n",
    "        elif (upcoming_chapter == 22 and \n",
    "                 f\"appendices\" in significant_part):\n",
    "            buffer += content_list['21']\n",
    "            new_content_list.append((upcoming_chapter-1, buffer, page_number))\n",
    "            buffer = \"\"\n",
    "            break\n",
    "    return new_content_list"
   ]
  },
  {
   "cell_type": "code",
   "execution_count": 11,
   "metadata": {},
   "outputs": [],
   "source": [
    "def pre_process_string(string_X):\n",
    "    processed_string = re.sub(r'\\W', ' ', str(string_X))\n",
    "    processed_string = re.sub(r'\\s+[a-zA-Z]\\s+', ' ', processed_string)\n",
    "    processed_string = re.sub(r'\\^[a-zA-Z]\\s+', ' ', processed_string)\n",
    "    processed_string = re.sub(r'\\s+', ' ', processed_string, flags=re.I)\n",
    "    processed_string = re.sub(r'^b\\s+', ' ', processed_string)\n",
    "    processed_string = re.sub(r'[A-Z]+[a-z]+\\d+(\\.\\d+)?', \"\", processed_string)\n",
    "    processed_string = re.sub(r'\\d+(\\.\\d+)?', \"\", processed_string)\n",
    "    processed_string = re.sub(r'\\s+', ' ', processed_string, flags=re.I)\n",
    "    processed_string = re.findall(r'[A-Z]+[a-z]*|[a-z]+', processed_string)\n",
    "    processed_string = ' '.join(processed_string)\n",
    "    return processed_string.strip()"
   ]
  },
  {
   "cell_type": "code",
   "execution_count": 12,
   "metadata": {},
   "outputs": [],
   "source": [
    "def predict_label(input_string, model):\n",
    "    segment_size = 300\n",
    "    input_segments = split_text(input_string, segment_size)\n",
    "    input_features = vectorizer.transform(input_segments).toarray()\n",
    "    predicted_labels = model.predict(input_features)\n",
    "    return predicted_labels"
   ]
  },
  {
   "cell_type": "code",
   "execution_count": 13,
   "metadata": {},
   "outputs": [],
   "source": [
    "def get_correct_and_wrong_parts(sections):\n",
    "    wrong_contents = []\n",
    "    normal_contents = []\n",
    "    prev_index, prev_index_dec = None, None\n",
    "    prev_sec = None\n",
    "    for section in sections:\n",
    "        current_index, current_index_dec = section[0].split(\".\")\n",
    "        if ((prev_index is not None) and \n",
    "            (int(current_index) == int(prev_index)) and \n",
    "            (int(current_index_dec) != int(prev_index_dec) + 1)):\n",
    "            wrong_contents.append(prev_sec)\n",
    "        else:\n",
    "            if prev_sec is not None:\n",
    "                normal_contents.append(prev_sec)\n",
    "\n",
    "        prev_sec = section\n",
    "        prev_index = current_index\n",
    "        prev_index_dec = current_index_dec\n",
    "    return normal_contents, wrong_contents"
   ]
  },
  {
   "cell_type": "code",
   "execution_count": 14,
   "metadata": {},
   "outputs": [],
   "source": [
    "normal_contents, wrong_contents = get_correct_and_wrong_parts(sections)"
   ]
  },
  {
   "cell_type": "code",
   "execution_count": 15,
   "metadata": {},
   "outputs": [
    {
     "data": {
      "text/plain": [
       "[('1.7', 'Virtualization', '341'),\n",
       " ('2.6', 'Why Applications Are Operating-SystemSpecific', '772'),\n",
       " ('3.6', 'IPC in Message-Passing Systems', '1273'),\n",
       " ('4.5', 'Implicit Threading', '1764'),\n",
       " ('5.6', 'Real-TimeCPU Scheduling', '2275'),\n",
       " ('6.6', 'Semaphores', '2726'),\n",
       " ('7.4', 'Synchronizationin Java', '3037'),\n",
       " ('8.5', 'DeadlockPrevention', '3278'),\n",
       " ('9.5', 'Swapping', '3769'),\n",
       " ('10.7', 'MemoryCompression', '42510'),\n",
       " ('11.5', 'StorageDevice Management', '46311'),\n",
       " ('12.5', 'TransformingI/O Requeststo Hardware Operations', '51612'),\n",
       " ('13.4', 'Protection', '55013'),\n",
       " ('14.6', 'Efficiency and Performance', '58214'),\n",
       " ('15.6', 'RemoteFile Systems', '60515'),\n",
       " ('16.5', 'User Authentication', '64816'),\n",
       " ('17.8', 'Role-BasedAccess Control', '68317'),\n",
       " ('18.5', 'TypesofVMs andTheir Implementations', '71318'),\n",
       " ('19.5', 'DesignIssues in Distributed Systems', '75319'),\n",
       " ('20.7', 'File Systems', '80320'),\n",
       " ('21.4', 'TerminalServices andFast User Switching', '87421')]"
      ]
     },
     "execution_count": 15,
     "metadata": {},
     "output_type": "execute_result"
    }
   ],
   "source": [
    "wrong_contents "
   ]
  },
  {
   "cell_type": "code",
   "execution_count": 16,
   "metadata": {},
   "outputs": [],
   "source": [
    "def get_flattened_content(normal_contents):\n",
    "    result = {}\n",
    "    for chapter in normal_contents:\n",
    "        main = chapter[0].split(\".\")[0]\n",
    "        if main not in result.keys():\n",
    "            result[main] = chapter[1]\n",
    "        else:\n",
    "            result[main] += \" \" + chapter[1]\n",
    "    return result"
   ]
  },
  {
   "cell_type": "code",
   "execution_count": 17,
   "metadata": {},
   "outputs": [],
   "source": [
    "flattened_contents = get_flattened_content(normal_contents)"
   ]
  },
  {
   "cell_type": "code",
   "execution_count": 18,
   "metadata": {},
   "outputs": [
    {
     "data": {
      "text/plain": [
       "{'1': 'WhatOperating SystemsDo Computer-SystemOrganization Computer-SystemArchitecture Operating-SystemOperations Resource Management Security and Protection KernelDataStructures ComputingEnvironments Free andOpen-Source Operating Systems',\n",
       " '2': 'Operating-SystemServices User andOperating-System Interface System Calls System Services Linkers and Loaders Operating-SystemStructure Building andBootinganOperating System Operating-SystemDebugging Summary',\n",
       " '3': 'Process Concept Process Scheduling OperationsonProcesses Interprocess Communication IPC in Shared-MemorySystems Communicationin Client– ServerSystems Summary',\n",
       " '4': 'Overview Multicore Programming Multithreading Models ThreadLibraries Operating-System Examples Summary',\n",
       " '5': 'Basic Concepts Scheduling Criteria Scheduling Algorithms ThreadScheduling Multi-Processor Scheduling Algorithm Evaluation Summary',\n",
       " '6': 'Background TheCritical-Section Problem Peterson’sSolution Hardware Supportfor Synchronization MutexLocks Liveness Evaluation Summary',\n",
       " '7': 'Classic Problemsof Synchronization Synchronization withintheKernel POSIX Synchronization Summary',\n",
       " '8': 'SystemModel Deadlockin Multithreaded Applications DeadlockCharacterization MethodsforHandling Deadlocks Deadlock Detection RecoveryfromDeadlock Summary',\n",
       " '9': 'Background ContiguousMemoryAllocation Paging Structure ofthe Page Table Example: ARMv8 Architecture Summary',\n",
       " '10': 'Background DemandPaging Copy-on-Write Page Replacement Allocation ofFrames Thrashing OtherConsiderations Operating-SystemExamples Summary',\n",
       " '11': 'Overview ofMass-Storage Structure HDD Scheduling NVMScheduling ErrorDetectionand Correction Storage Attachment RAID Structure Summary',\n",
       " '12': 'Overview I/O Hardware Application I/O Interface KernelI/O Subsystem Performance Summary',\n",
       " '13': 'File Concept Access Methods Directory Structure Summary',\n",
       " '14': 'File-System Structure File-System Operations Directory Implementation Allocation Methods Free-Space Management Example: TheWAFLFile System Summary',\n",
       " '15': 'File Systems File-System Mounting Partitions andMounting File Sharing Virtual File Systems NFS Summary',\n",
       " '16': 'The Security Problem Program Threats System andNetworkThreats CryptographyasaSecurity Tool An Example:Windows Summary',\n",
       " '17': 'Goals ofProtection Principles ofProtection ProtectionRings DomainofProtection Access Matrix Implementationofthe Access Matrix RevocationofAccess Rights Capability-Based Systems Other ProtectionImprovement Methods Language-BasedProtection Summary',\n",
       " '18': 'Overview History BenefitsandFeatures Building Blocks Examples VirtualizationResearch Summary',\n",
       " '19': 'AdvantagesofDistributed Systems NetworkStructure CommunicationStructure NetworkandDistributed Operating Systems DFSNaming andTransparency RemoteFile Access Final ThoughtsonDistributed File Systems Summary',\n",
       " '20': 'Linux History DesignPrinciples KernelModules Process Management Scheduling MemoryManagement InterprocessCommunication NetworkStructure Security Summary',\n",
       " '21': 'History DesignPrinciples SystemComponents Networking ProgrammerInterface'}"
      ]
     },
     "execution_count": 18,
     "metadata": {},
     "output_type": "execute_result"
    }
   ],
   "source": [
    "flattened_contents"
   ]
  },
  {
   "cell_type": "code",
   "execution_count": 19,
   "metadata": {},
   "outputs": [],
   "source": [
    "contents_page_with_text = add_text_to_content(flattened_contents, pdf_reader)"
   ]
  },
  {
   "cell_type": "code",
   "execution_count": 20,
   "metadata": {},
   "outputs": [],
   "source": [
    "dictionary = {\"chapter\":[], \"words\":[]}"
   ]
  },
  {
   "cell_type": "code",
   "execution_count": 21,
   "metadata": {},
   "outputs": [],
   "source": [
    "for section in contents_page_with_text:\n",
    "    dictionary[\"chapter\"].append(section[0])\n",
    "    dictionary[\"words\"].append(re.sub(r'\\b\\w{20,}\\b', '', pre_process_string(section[1]).replace(\" the\", \" \").lower()))"
   ]
  },
  {
   "cell_type": "code",
   "execution_count": 22,
   "metadata": {},
   "outputs": [],
   "source": [
    "df = pd.DataFrame(dictionary)"
   ]
  },
  {
   "cell_type": "code",
   "execution_count": 23,
   "metadata": {},
   "outputs": [],
   "source": [
    "df[\"words_number\"] = df[\"words\"].apply(lambda x: len(x.split()))"
   ]
  },
  {
   "cell_type": "code",
   "execution_count": 24,
   "metadata": {},
   "outputs": [
    {
     "data": {
      "text/html": [
       "<div>\n",
       "<style scoped>\n",
       "    .dataframe tbody tr th:only-of-type {\n",
       "        vertical-align: middle;\n",
       "    }\n",
       "\n",
       "    .dataframe tbody tr th {\n",
       "        vertical-align: top;\n",
       "    }\n",
       "\n",
       "    .dataframe thead th {\n",
       "        text-align: right;\n",
       "    }\n",
       "</style>\n",
       "<table border=\"1\" class=\"dataframe\">\n",
       "  <thead>\n",
       "    <tr style=\"text-align: right;\">\n",
       "      <th></th>\n",
       "      <th>chapter</th>\n",
       "      <th>words</th>\n",
       "      <th>words_number</th>\n",
       "    </tr>\n",
       "  </thead>\n",
       "  <tbody>\n",
       "    <tr>\n",
       "      <th>0</th>\n",
       "      <td>1</td>\n",
       "      <td>chapter introduction anoperating system is sof...</td>\n",
       "      <td>15126</td>\n",
       "    </tr>\n",
       "    <tr>\n",
       "      <th>1</th>\n",
       "      <td>2</td>\n",
       "      <td>operating system services   characteristics co...</td>\n",
       "      <td>14240</td>\n",
       "    </tr>\n",
       "    <tr>\n",
       "      <th>2</th>\n",
       "      <td>3</td>\n",
       "      <td>process concept heap section  time stack secti...</td>\n",
       "      <td>15956</td>\n",
       "    </tr>\n",
       "    <tr>\n",
       "      <th>3</th>\n",
       "      <td>4</td>\n",
       "      <td>overview applications can also be designed to ...</td>\n",
       "      <td>11332</td>\n",
       "    </tr>\n",
       "    <tr>\n",
       "      <th>4</th>\n",
       "      <td>5</td>\n",
       "      <td>basic concepts cpu o burst cycle thesuccessof ...</td>\n",
       "      <td>15196</td>\n",
       "    </tr>\n",
       "    <tr>\n",
       "      <th>5</th>\n",
       "      <td>6</td>\n",
       "      <td>background we can show that  value of countmay...</td>\n",
       "      <td>9270</td>\n",
       "    </tr>\n",
       "    <tr>\n",
       "      <th>6</th>\n",
       "      <td>7</td>\n",
       "      <td>classic problems of synchronization while true...</td>\n",
       "      <td>8730</td>\n",
       "    </tr>\n",
       "    <tr>\n",
       "      <th>7</th>\n",
       "      <td>8</td>\n",
       "      <td>deadlock in multithreaded applications  table ...</td>\n",
       "      <td>8737</td>\n",
       "    </tr>\n",
       "    <tr>\n",
       "      <th>8</th>\n",
       "      <td>9</td>\n",
       "      <td>background basebase limitoperating system proc...</td>\n",
       "      <td>10379</td>\n",
       "    </tr>\n",
       "    <tr>\n",
       "      <th>9</th>\n",
       "      <td>10</td>\n",
       "      <td>background virtual memorymemory map physical m...</td>\n",
       "      <td>16431</td>\n",
       "    </tr>\n",
       "    <tr>\n",
       "      <th>10</th>\n",
       "      <td>11</td>\n",
       "      <td>overview of mass storage structure figure inch...</td>\n",
       "      <td>12183</td>\n",
       "    </tr>\n",
       "    <tr>\n",
       "      <th>11</th>\n",
       "      <td>12</td>\n",
       "      <td>o hardware expansion bus pcie bus disk diskcac...</td>\n",
       "      <td>10598</td>\n",
       "    </tr>\n",
       "    <tr>\n",
       "      <th>12</th>\n",
       "      <td>13</td>\n",
       "      <td>file concept size the current size of  file in...</td>\n",
       "      <td>9771</td>\n",
       "    </tr>\n",
       "    <tr>\n",
       "      <th>13</th>\n",
       "      <td>14</td>\n",
       "      <td>file system structure application programs fil...</td>\n",
       "      <td>10109</td>\n",
       "    </tr>\n",
       "    <tr>\n",
       "      <th>14</th>\n",
       "      <td>15</td>\n",
       "      <td>file system mounting fs devices devfs dev dev ...</td>\n",
       "      <td>6098</td>\n",
       "    </tr>\n",
       "    <tr>\n",
       "      <th>15</th>\n",
       "      <td>16</td>\n",
       "      <td>the security problem modificatio inwhich   wit...</td>\n",
       "      <td>14255</td>\n",
       "    </tr>\n",
       "    <tr>\n",
       "      <th>16</th>\n",
       "      <td>17</td>\n",
       "      <td>protection rings process with administrator pr...</td>\n",
       "      <td>9233</td>\n",
       "    </tr>\n",
       "    <tr>\n",
       "      <th>17</th>\n",
       "      <td>18</td>\n",
       "      <td>history indirection  tion david wheeler x e tf...</td>\n",
       "      <td>9592</td>\n",
       "    </tr>\n",
       "    <tr>\n",
       "      <th>18</th>\n",
       "      <td>19</td>\n",
       "      <td>network structure sharing files at remote site...</td>\n",
       "      <td>12094</td>\n",
       "    </tr>\n",
       "    <tr>\n",
       "      <th>19</th>\n",
       "      <td>20</td>\n",
       "      <td>linux history  of arbitrary files but only rea...</td>\n",
       "      <td>15114</td>\n",
       "    </tr>\n",
       "    <tr>\n",
       "      <th>20</th>\n",
       "      <td>21</td>\n",
       "      <td>history windows three years later in october a...</td>\n",
       "      <td>25169</td>\n",
       "    </tr>\n",
       "  </tbody>\n",
       "</table>\n",
       "</div>"
      ],
      "text/plain": [
       "    chapter                                              words  words_number\n",
       "0         1  chapter introduction anoperating system is sof...         15126\n",
       "1         2  operating system services   characteristics co...         14240\n",
       "2         3  process concept heap section  time stack secti...         15956\n",
       "3         4  overview applications can also be designed to ...         11332\n",
       "4         5  basic concepts cpu o burst cycle thesuccessof ...         15196\n",
       "5         6  background we can show that  value of countmay...          9270\n",
       "6         7  classic problems of synchronization while true...          8730\n",
       "7         8  deadlock in multithreaded applications  table ...          8737\n",
       "8         9  background basebase limitoperating system proc...         10379\n",
       "9        10  background virtual memorymemory map physical m...         16431\n",
       "10       11  overview of mass storage structure figure inch...         12183\n",
       "11       12  o hardware expansion bus pcie bus disk diskcac...         10598\n",
       "12       13  file concept size the current size of  file in...          9771\n",
       "13       14  file system structure application programs fil...         10109\n",
       "14       15  file system mounting fs devices devfs dev dev ...          6098\n",
       "15       16  the security problem modificatio inwhich   wit...         14255\n",
       "16       17  protection rings process with administrator pr...          9233\n",
       "17       18  history indirection  tion david wheeler x e tf...          9592\n",
       "18       19  network structure sharing files at remote site...         12094\n",
       "19       20  linux history  of arbitrary files but only rea...         15114\n",
       "20       21  history windows three years later in october a...         25169"
      ]
     },
     "execution_count": 24,
     "metadata": {},
     "output_type": "execute_result"
    }
   ],
   "source": [
    "df"
   ]
  },
  {
   "cell_type": "markdown",
   "metadata": {},
   "source": [
    "### Data Augmentation"
   ]
  },
  {
   "cell_type": "code",
   "execution_count": 25,
   "metadata": {},
   "outputs": [],
   "source": [
    "def split_text(text, segment_size):\n",
    "    words = text.split()\n",
    "    segments = [words[i:i+segment_size] for i in range(0, len(words), segment_size)]\n",
    "    return [' '.join(segment) for segment in segments]"
   ]
  },
  {
   "cell_type": "code",
   "execution_count": 26,
   "metadata": {},
   "outputs": [],
   "source": [
    "def get_augmented_data(df, segment_size):\n",
    "    augmented_data = {\"chapter\": [], \"words\": []}\n",
    "    for index, row in df.iterrows():\n",
    "        chapter = row[\"chapter\"]\n",
    "        words = row[\"words\"]\n",
    "        text_segments = split_text(words, segment_size)\n",
    "        for segment in text_segments:\n",
    "            augmented_data[\"chapter\"].append(chapter)\n",
    "            augmented_data[\"words\"].append(segment)\n",
    "\n",
    "    return pd.DataFrame(augmented_data).sample(frac=1)"
   ]
  },
  {
   "cell_type": "code",
   "execution_count": 27,
   "metadata": {},
   "outputs": [],
   "source": [
    "augmented_df = get_augmented_data(df, 300)"
   ]
  },
  {
   "cell_type": "code",
   "execution_count": 28,
   "metadata": {},
   "outputs": [
    {
     "data": {
      "image/png": "[encoded data removed]",
      "text/plain": [
       "<Figure size 576x576 with 1 Axes>"
      ]
     },
     "metadata": {},
     "output_type": "display_data"
    }
   ],
   "source": [
    "import matplotlib.pyplot as plt\n",
    "chapter_counts = augmented_df[\"chapter\"].value_counts()\n",
    "plt.figure(figsize=(8, 8))\n",
    "plt.pie(chapter_counts, labels=chapter_counts.index, autopct='%1.1f%%', startangle=140)\n",
    "plt.title('Distribution of Chapters')\n",
    "plt.show()"
   ]
  },
  {
   "cell_type": "code",
   "execution_count": 29,
   "metadata": {},
   "outputs": [],
   "source": [
    "vectorizer = TfidfVectorizer(max_features=5000, \n",
    "                             min_df=0.05, \n",
    "                             max_df=0.85, \n",
    "                             stop_words=stopwords.words('english'))\n",
    "augmented_features = vectorizer.fit_transform(augmented_df[\"words\"]).toarray()"
   ]
  },
  {
   "cell_type": "markdown",
   "metadata": {},
   "source": [
    "### Machine Learning Algorithms"
   ]
  },
  {
   "cell_type": "code",
   "execution_count": 30,
   "metadata": {},
   "outputs": [],
   "source": [
    "from sklearn.neural_network import MLPClassifier\n",
    "from sklearn.svm import SVC\n",
    "from sklearn.ensemble import RandomForestClassifier\n",
    "from sklearn.linear_model import LogisticRegression\n",
    "from sklearn.naive_bayes import MultinomialNB\n",
    "from sklearn.metrics import accuracy_score, classification_report"
   ]
  },
  {
   "cell_type": "code",
   "execution_count": 31,
   "metadata": {},
   "outputs": [],
   "source": [
    "comparison = {}"
   ]
  },
  {
   "cell_type": "code",
   "execution_count": 32,
   "metadata": {},
   "outputs": [],
   "source": [
    "def get_statistics(model, X_test, y_test):\n",
    "    y_pred = model.predict(X_test)\n",
    "\n",
    "    accuracy = accuracy_score(y_test, y_pred)\n",
    "    classification_rep = classification_report(y_test, y_pred)\n",
    "    print(f\"Accuracy: {accuracy:.2f}\")\n",
    "    print(\"Classification Report:\\n\", classification_rep)\n",
    "\n",
    "    plt.figure(figsize=(10, 6))\n",
    "    pd.Series(y_pred).value_counts().sort_index().plot(kind='bar', color='darkred')\n",
    "    plt.xlabel('Chapter')\n",
    "    plt.ylabel('Count')\n",
    "    plt.title('Distribution of Predicted Chapters')\n",
    "    plt.xticks(rotation=45)\n",
    "    plt.show()"
   ]
  },
  {
   "cell_type": "code",
   "execution_count": 33,
   "metadata": {},
   "outputs": [],
   "source": [
    "X_train, X_test, y_train, y_test = train_test_split(augmented_features, augmented_df[\"chapter\"], test_size=0.2, \n",
    "                                                    random_state=0, stratify=augmented_df[\"chapter\"])"
   ]
  },
  {
   "cell_type": "markdown",
   "metadata": {},
   "source": [
    "#### Neural Network "
   ]
  },
  {
   "cell_type": "code",
   "execution_count": 34,
   "metadata": {},
   "outputs": [
    {
     "name": "stdout",
     "output_type": "stream",
     "text": [
      "Accuracy: 0.78\n",
      "Classification Report:\n",
      "               precision    recall  f1-score   support\n",
      "\n",
      "           1       0.58      0.70      0.64        10\n",
      "           2       0.56      0.50      0.53        10\n",
      "           3       0.80      0.73      0.76        11\n",
      "           4       0.71      0.62      0.67         8\n",
      "           5       0.67      1.00      0.80        10\n",
      "           6       0.83      0.83      0.83         6\n",
      "           7       0.80      0.67      0.73         6\n",
      "           8       0.80      0.67      0.73         6\n",
      "           9       0.78      1.00      0.88         7\n",
      "          10       0.83      0.91      0.87        11\n",
      "          11       1.00      0.88      0.93         8\n",
      "          12       0.78      1.00      0.88         7\n",
      "          13       1.00      0.86      0.92         7\n",
      "          14       1.00      0.86      0.92         7\n",
      "          15       1.00      0.50      0.67         4\n",
      "          16       0.62      0.80      0.70        10\n",
      "          17       1.00      0.83      0.91         6\n",
      "          18       0.83      0.83      0.83         6\n",
      "          19       0.70      0.88      0.78         8\n",
      "          20       0.71      0.50      0.59        10\n",
      "          21       0.93      0.76      0.84        17\n",
      "\n",
      "    accuracy                           0.78       175\n",
      "   macro avg       0.81      0.78      0.78       175\n",
      "weighted avg       0.79      0.78      0.78       175\n",
      "\n"
     ]
    },
    {
     "data": {
      "image/png": "[encoded data removed]",
      "text/plain": [
       "<Figure size 720x432 with 1 Axes>"
      ]
     },
     "metadata": {
      "needs_background": "light"
     },
     "output_type": "display_data"
    }
   ],
   "source": [
    "mlp = MLPClassifier(max_iter=10000, activation=\"tanh\", hidden_layer_sizes=(56))\n",
    "mlp.fit(X_train, y_train)\n",
    "get_statistics(mlp, X_test, y_test)\n",
    "comparison[\"MLP\"] = mlp.score(X_test, y_test)"
   ]
  },
  {
   "cell_type": "markdown",
   "metadata": {},
   "source": [
    "#### SVC"
   ]
  },
  {
   "cell_type": "code",
   "execution_count": 36,
   "metadata": {},
   "outputs": [
    {
     "name": "stdout",
     "output_type": "stream",
     "text": [
      "Accuracy: 0.71\n",
      "Classification Report:\n",
      "               precision    recall  f1-score   support\n",
      "\n",
      "           1       0.54      0.70      0.61        10\n",
      "           2       0.73      0.80      0.76        10\n",
      "           3       0.69      0.82      0.75        11\n",
      "           4       0.83      0.62      0.71         8\n",
      "           5       0.67      0.80      0.73        10\n",
      "           6       0.67      0.67      0.67         6\n",
      "           7       0.50      0.50      0.50         6\n",
      "           8       0.67      0.33      0.44         6\n",
      "           9       0.64      1.00      0.78         7\n",
      "          10       0.80      0.73      0.76        11\n",
      "          11       0.89      1.00      0.94         8\n",
      "          12       0.67      0.57      0.62         7\n",
      "          13       0.67      0.86      0.75         7\n",
      "          14       0.86      0.86      0.86         7\n",
      "          15       1.00      0.25      0.40         4\n",
      "          16       0.73      0.80      0.76        10\n",
      "          17       0.80      0.67      0.73         6\n",
      "          18       0.83      0.83      0.83         6\n",
      "          19       0.67      1.00      0.80         8\n",
      "          20       0.67      0.20      0.31        10\n",
      "          21       0.80      0.71      0.75        17\n",
      "\n",
      "    accuracy                           0.71       175\n",
      "   macro avg       0.73      0.70      0.69       175\n",
      "weighted avg       0.73      0.71      0.70       175\n",
      "\n"
     ]
    },
    {
     "data": {
      "image/png": "[encoded data removed]",
      "text/plain": [
       "<Figure size 720x432 with 1 Axes>"
      ]
     },
     "metadata": {
      "needs_background": "light"
     },
     "output_type": "display_data"
    }
   ],
   "source": [
    "svc_model = SVC(kernel='rbf', C=1.0, gamma=0.9)\n",
    "svc_model.fit(X_train, y_train)\n",
    "get_statistics(svc_model, X_test, y_test)\n",
    "comparison[\"SVC\"] = svc_model.score(X_test, y_test)"
   ]
  },
  {
   "cell_type": "markdown",
   "metadata": {},
   "source": [
    "#### Random Forest"
   ]
  },
  {
   "cell_type": "code",
   "execution_count": 37,
   "metadata": {},
   "outputs": [
    {
     "name": "stderr",
     "output_type": "stream",
     "text": [
      "c:\\users\\cagin\\appdata\\local\\programs\\python\\python39\\lib\\site-packages\\sklearn\\metrics\\_classification.py:1248: UndefinedMetricWarning: Precision and F-score are ill-defined and being set to 0.0 in labels with no predicted samples. Use `zero_division` parameter to control this behavior.\n",
      "  _warn_prf(average, modifier, msg_start, len(result))\n",
      "c:\\users\\cagin\\appdata\\local\\programs\\python\\python39\\lib\\site-packages\\sklearn\\metrics\\_classification.py:1248: UndefinedMetricWarning: Precision and F-score are ill-defined and being set to 0.0 in labels with no predicted samples. Use `zero_division` parameter to control this behavior.\n",
      "  _warn_prf(average, modifier, msg_start, len(result))\n",
      "c:\\users\\cagin\\appdata\\local\\programs\\python\\python39\\lib\\site-packages\\sklearn\\metrics\\_classification.py:1248: UndefinedMetricWarning: Precision and F-score are ill-defined and being set to 0.0 in labels with no predicted samples. Use `zero_division` parameter to control this behavior.\n",
      "  _warn_prf(average, modifier, msg_start, len(result))\n"
     ]
    },
    {
     "name": "stdout",
     "output_type": "stream",
     "text": [
      "Accuracy: 0.71\n",
      "Classification Report:\n",
      "               precision    recall  f1-score   support\n",
      "\n",
      "           1       0.46      0.60      0.52        10\n",
      "           2       0.60      0.30      0.40        10\n",
      "           3       0.73      0.73      0.73        11\n",
      "           4       0.70      0.88      0.78         8\n",
      "           5       0.64      0.70      0.67        10\n",
      "           6       0.80      0.67      0.73         6\n",
      "           7       0.57      0.67      0.62         6\n",
      "           8       0.75      0.50      0.60         6\n",
      "           9       0.86      0.86      0.86         7\n",
      "          10       0.79      1.00      0.88        11\n",
      "          11       0.78      0.88      0.82         8\n",
      "          12       1.00      0.43      0.60         7\n",
      "          13       0.71      0.71      0.71         7\n",
      "          14       0.75      0.86      0.80         7\n",
      "          15       0.00      0.00      0.00         4\n",
      "          16       0.71      1.00      0.83        10\n",
      "          17       0.80      0.67      0.73         6\n",
      "          18       1.00      0.50      0.67         6\n",
      "          19       0.50      1.00      0.67         8\n",
      "          20       0.83      0.50      0.62        10\n",
      "          21       0.88      0.88      0.88        17\n",
      "\n",
      "    accuracy                           0.71       175\n",
      "   macro avg       0.71      0.68      0.67       175\n",
      "weighted avg       0.72      0.71      0.70       175\n",
      "\n"
     ]
    },
    {
     "data": {
      "image/png": "[encoded data removed]",
      "text/plain": [
       "<Figure size 720x432 with 1 Axes>"
      ]
     },
     "metadata": {
      "needs_background": "light"
     },
     "output_type": "display_data"
    }
   ],
   "source": [
    "rf_classifier = RandomForestClassifier(n_estimators=1000, random_state=0)\n",
    "rf_classifier.fit(X_train, y_train)\n",
    "get_statistics(rf_classifier, X_test, y_test)\n",
    "comparison[\"Random Forest\"] = rf_classifier.score(X_test, y_test)"
   ]
  },
  {
   "cell_type": "markdown",
   "metadata": {},
   "source": [
    "#### Logistic Regression"
   ]
  },
  {
   "cell_type": "code",
   "execution_count": 38,
   "metadata": {},
   "outputs": [
    {
     "name": "stderr",
     "output_type": "stream",
     "text": [
      "c:\\users\\cagin\\appdata\\local\\programs\\python\\python39\\lib\\site-packages\\sklearn\\metrics\\_classification.py:1248: UndefinedMetricWarning: Precision and F-score are ill-defined and being set to 0.0 in labels with no predicted samples. Use `zero_division` parameter to control this behavior.\n",
      "  _warn_prf(average, modifier, msg_start, len(result))\n",
      "c:\\users\\cagin\\appdata\\local\\programs\\python\\python39\\lib\\site-packages\\sklearn\\metrics\\_classification.py:1248: UndefinedMetricWarning: Precision and F-score are ill-defined and being set to 0.0 in labels with no predicted samples. Use `zero_division` parameter to control this behavior.\n",
      "  _warn_prf(average, modifier, msg_start, len(result))\n",
      "c:\\users\\cagin\\appdata\\local\\programs\\python\\python39\\lib\\site-packages\\sklearn\\metrics\\_classification.py:1248: UndefinedMetricWarning: Precision and F-score are ill-defined and being set to 0.0 in labels with no predicted samples. Use `zero_division` parameter to control this behavior.\n",
      "  _warn_prf(average, modifier, msg_start, len(result))\n"
     ]
    },
    {
     "name": "stdout",
     "output_type": "stream",
     "text": [
      "Accuracy: 0.73\n",
      "Classification Report:\n",
      "               precision    recall  f1-score   support\n",
      "\n",
      "           1       0.70      0.70      0.70        10\n",
      "           2       0.69      0.90      0.78        10\n",
      "           3       0.69      0.82      0.75        11\n",
      "           4       0.71      0.62      0.67         8\n",
      "           5       0.62      0.80      0.70        10\n",
      "           6       0.80      0.67      0.73         6\n",
      "           7       0.57      0.67      0.62         6\n",
      "           8       0.67      0.33      0.44         6\n",
      "           9       0.60      0.86      0.71         7\n",
      "          10       0.73      0.73      0.73        11\n",
      "          11       0.89      1.00      0.94         8\n",
      "          12       0.67      0.57      0.62         7\n",
      "          13       0.60      0.86      0.71         7\n",
      "          14       1.00      0.71      0.83         7\n",
      "          15       0.00      0.00      0.00         4\n",
      "          16       0.73      0.80      0.76        10\n",
      "          17       0.80      0.67      0.73         6\n",
      "          18       1.00      0.83      0.91         6\n",
      "          19       0.62      1.00      0.76         8\n",
      "          20       0.75      0.30      0.43        10\n",
      "          21       0.93      0.82      0.87        17\n",
      "\n",
      "    accuracy                           0.73       175\n",
      "   macro avg       0.70      0.70      0.68       175\n",
      "weighted avg       0.73      0.73      0.71       175\n",
      "\n"
     ]
    },
    {
     "data": {
      "image/png": "[encoded data removed]",
      "text/plain": [
       "<Figure size 720x432 with 1 Axes>"
      ]
     },
     "metadata": {
      "needs_background": "light"
     },
     "output_type": "display_data"
    }
   ],
   "source": [
    "logreg = LogisticRegression(max_iter=1000, multi_class=\"multinomial\")\n",
    "logreg.fit(X_train, y_train)\n",
    "get_statistics(logreg, X_test, y_test)\n",
    "comparison[\"Logistic Regression\"] = logreg.score(X_test, y_test)"
   ]
  },
  {
   "cell_type": "markdown",
   "metadata": {},
   "source": [
    "#### Naive Bayes "
   ]
  },
  {
   "cell_type": "code",
   "execution_count": 39,
   "metadata": {},
   "outputs": [
    {
     "name": "stderr",
     "output_type": "stream",
     "text": [
      "c:\\users\\cagin\\appdata\\local\\programs\\python\\python39\\lib\\site-packages\\sklearn\\metrics\\_classification.py:1248: UndefinedMetricWarning: Precision and F-score are ill-defined and being set to 0.0 in labels with no predicted samples. Use `zero_division` parameter to control this behavior.\n",
      "  _warn_prf(average, modifier, msg_start, len(result))\n",
      "c:\\users\\cagin\\appdata\\local\\programs\\python\\python39\\lib\\site-packages\\sklearn\\metrics\\_classification.py:1248: UndefinedMetricWarning: Precision and F-score are ill-defined and being set to 0.0 in labels with no predicted samples. Use `zero_division` parameter to control this behavior.\n",
      "  _warn_prf(average, modifier, msg_start, len(result))\n",
      "c:\\users\\cagin\\appdata\\local\\programs\\python\\python39\\lib\\site-packages\\sklearn\\metrics\\_classification.py:1248: UndefinedMetricWarning: Precision and F-score are ill-defined and being set to 0.0 in labels with no predicted samples. Use `zero_division` parameter to control this behavior.\n",
      "  _warn_prf(average, modifier, msg_start, len(result))\n"
     ]
    },
    {
     "name": "stdout",
     "output_type": "stream",
     "text": [
      "Accuracy: 0.76\n",
      "Classification Report:\n",
      "               precision    recall  f1-score   support\n",
      "\n",
      "           1       0.78      0.70      0.74        10\n",
      "           2       0.64      0.90      0.75        10\n",
      "           3       0.82      0.82      0.82        11\n",
      "           4       0.86      0.75      0.80         8\n",
      "           5       0.67      1.00      0.80        10\n",
      "           6       0.83      0.83      0.83         6\n",
      "           7       0.67      0.67      0.67         6\n",
      "           8       0.75      0.50      0.60         6\n",
      "           9       0.83      0.71      0.77         7\n",
      "          10       0.67      0.91      0.77        11\n",
      "          11       0.89      1.00      0.94         8\n",
      "          12       0.83      0.71      0.77         7\n",
      "          13       0.83      0.71      0.77         7\n",
      "          14       0.88      1.00      0.93         7\n",
      "          15       0.00      0.00      0.00         4\n",
      "          16       0.78      0.70      0.74        10\n",
      "          17       0.80      0.67      0.73         6\n",
      "          18       1.00      0.83      0.91         6\n",
      "          19       0.62      1.00      0.76         8\n",
      "          20       0.75      0.30      0.43        10\n",
      "          21       0.76      0.76      0.76        17\n",
      "\n",
      "    accuracy                           0.76       175\n",
      "   macro avg       0.75      0.74      0.73       175\n",
      "weighted avg       0.76      0.76      0.74       175\n",
      "\n"
     ]
    },
    {
     "data": {
      "image/png": "[encoded data removed]",
      "text/plain": [
       "<Figure size 720x432 with 1 Axes>"
      ]
     },
     "metadata": {
      "needs_background": "light"
     },
     "output_type": "display_data"
    }
   ],
   "source": [
    "nb = MultinomialNB(alpha=.5)\n",
    "nb.fit(X_train, y_train)\n",
    "get_statistics(nb, X_test, y_test)\n",
    "comparison[\"Naive Bayes\"] = nb.score(X_test, y_test)"
   ]
  },
  {
   "cell_type": "markdown",
   "metadata": {},
   "source": [
    "#### Comparison"
   ]
  },
  {
   "cell_type": "code",
   "execution_count": 40,
   "metadata": {},
   "outputs": [
    {
     "data": {
      "text/plain": [
       "{'MLP': 0.7771428571428571,\n",
       " 'SVC': 0.7142857142857143,\n",
       " 'Random Forest': 0.7142857142857143,\n",
       " 'Logistic Regression': 0.7257142857142858,\n",
       " 'Naive Bayes': 0.76}"
      ]
     },
     "execution_count": 40,
     "metadata": {},
     "output_type": "execute_result"
    }
   ],
   "source": [
    "comparison"
   ]
  },
  {
   "cell_type": "code",
   "execution_count": 41,
   "metadata": {},
   "outputs": [
    {
     "data": {
      "image/png": "[encoded data removed]",
      "text/plain": [
       "<Figure size 720x432 with 1 Axes>"
      ]
     },
     "metadata": {
      "needs_background": "light"
     },
     "output_type": "display_data"
    }
   ],
   "source": [
    "models = list(comparison.keys())\n",
    "accuracy = list(comparison.values())\n",
    "\n",
    "plt.figure(figsize=(10, 6))\n",
    "plt.bar(models, accuracy, color=['blue', 'orange', 'green', 'red', 'purple'])\n",
    "plt.title('Comparison of ML Models')\n",
    "plt.xlabel('Machine Learning Models')\n",
    "plt.ylabel('Accuracy')\n",
    "plt.ylim(0, 1)  \n",
    "plt.show()"
   ]
  },
  {
   "cell_type": "markdown",
   "metadata": {},
   "source": [
    "#### Sample prediction "
   ]
  },
  {
   "cell_type": "code",
   "execution_count": 50,
   "metadata": {},
   "outputs": [
    {
     "name": "stdout",
     "output_type": "stream",
     "text": [
      "Predicted Labels: [18]\n"
     ]
    }
   ],
   "source": [
    "input_string = \"\"\"virtual machines and their relationship to contemporary operating\n",
    "systems. Included is a general description of the hardware and software\n",
    "techniques that make virtualization possible. This chapter provides an\n",
    "overview of computer networks and distributed systems, with a focus on\n",
    "the Internet and TCP/IP.\"\"\"\n",
    "predicted_labels = predict_label(input_string, logreg)\n",
    "print(\"Predicted Labels:\", predicted_labels)"
   ]
  },
  {
   "cell_type": "code",
   "execution_count": null,
   "metadata": {},
   "outputs": [],
   "source": []
  }
 ],
 "metadata": {
  "kernelspec": {
   "display_name": "Python 3",
   "language": "python",
   "name": "python3"
  },
  "language_info": {
   "codemirror_mode": {
    "name": "ipython",
    "version": 3
   },
   "file_extension": ".py",
   "mimetype": "text/x-python",
   "name": "python",
   "nbconvert_exporter": "python",
   "pygments_lexer": "ipython3",
   "version": "3.9.6"
  }
 },
 "nbformat": 4,
 "nbformat_minor": 2
}
